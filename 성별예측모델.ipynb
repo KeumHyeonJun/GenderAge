{
 "cells": [
  {
   "cell_type": "code",
   "execution_count": 53,
   "outputs": [],
   "source": [
    "\n",
    "import numpy as np\n",
    "import pandas as pd\n",
    "import warnings\n",
    "warnings.filterwarnings('ignore')\n",
    "import optuna\n",
    "from optuna import Trial, visualization\n",
    "from optuna.samplers import TPESampler\n",
    "from sklearn.ensemble import RandomForestClassifier\n",
    "from sklearn.metrics import accuracy_score\n",
    "import matplotlib.pyplot as plt\n",
    "from matplotlib import rc\n",
    "from sklearn.preprocessing import StandardScaler\n",
    "\n",
    "rc('font', family='AppleGothic')\n",
    "plt.rcParams['axes.unicode_minus'] = False\n"
   ],
   "metadata": {
    "collapsed": false,
    "pycharm": {
     "name": "#%%\n"
    }
   }
  },
  {
   "cell_type": "markdown",
   "source": [
    "# 데이터 전처리"
   ],
   "metadata": {
    "collapsed": false,
    "pycharm": {
     "name": "#%% md\n"
    }
   }
  },
  {
   "cell_type": "code",
   "execution_count": 13,
   "outputs": [
    {
     "data": {
      "text/plain": "   가입자일련번호  성별코드  연령대코드(5세단위)  시도코드  신장(5Cm단위)  체중(5Kg단위)  허리둘레  시력(좌)  시력(우)  \\\n0        1     1           30    43        170         75  90.0    1.0    1.0   \n1        2     1           30    11        180         80  89.0    0.9    1.2   \n2        4     1           50    48        175         80  91.0    1.5    1.2   \n3        5     1           50    30        165         60  80.0    1.0    1.2   \n4        6     1           50    41        165         55  75.0    1.2    1.5   \n\n   청력(좌)  ...  요단백  혈청크레아티닌  (혈청지오티)AST  (혈청지오티)ALT  감마지티피  흡연상태  음주여부  \\\n0    1.0  ...  1.0      1.0        21.0        35.0   40.0   1.0     0   \n1    1.0  ...  1.0      0.9        20.0        36.0   27.0   3.0     1   \n2    1.0  ...  1.0      1.1        29.0        34.0   18.0   1.0     1   \n3    1.0  ...  1.0      0.8        19.0        12.0   25.0   1.0     1   \n4    1.0  ...  3.0      0.8        29.0        40.0   37.0   3.0     0   \n\n   구강검진수검여부  실명(좌)  실명(우)  \n0         0      0      0  \n1         0      0      0  \n2         0      0      0  \n3         0      0      0  \n4         0      0      0  \n\n[5 rows x 29 columns]",
      "text/html": "<div>\n<style scoped>\n    .dataframe tbody tr th:only-of-type {\n        vertical-align: middle;\n    }\n\n    .dataframe tbody tr th {\n        vertical-align: top;\n    }\n\n    .dataframe thead th {\n        text-align: right;\n    }\n</style>\n<table border=\"1\" class=\"dataframe\">\n  <thead>\n    <tr style=\"text-align: right;\">\n      <th></th>\n      <th>가입자일련번호</th>\n      <th>성별코드</th>\n      <th>연령대코드(5세단위)</th>\n      <th>시도코드</th>\n      <th>신장(5Cm단위)</th>\n      <th>체중(5Kg단위)</th>\n      <th>허리둘레</th>\n      <th>시력(좌)</th>\n      <th>시력(우)</th>\n      <th>청력(좌)</th>\n      <th>...</th>\n      <th>요단백</th>\n      <th>혈청크레아티닌</th>\n      <th>(혈청지오티)AST</th>\n      <th>(혈청지오티)ALT</th>\n      <th>감마지티피</th>\n      <th>흡연상태</th>\n      <th>음주여부</th>\n      <th>구강검진수검여부</th>\n      <th>실명(좌)</th>\n      <th>실명(우)</th>\n    </tr>\n  </thead>\n  <tbody>\n    <tr>\n      <th>0</th>\n      <td>1</td>\n      <td>1</td>\n      <td>30</td>\n      <td>43</td>\n      <td>170</td>\n      <td>75</td>\n      <td>90.0</td>\n      <td>1.0</td>\n      <td>1.0</td>\n      <td>1.0</td>\n      <td>...</td>\n      <td>1.0</td>\n      <td>1.0</td>\n      <td>21.0</td>\n      <td>35.0</td>\n      <td>40.0</td>\n      <td>1.0</td>\n      <td>0</td>\n      <td>0</td>\n      <td>0</td>\n      <td>0</td>\n    </tr>\n    <tr>\n      <th>1</th>\n      <td>2</td>\n      <td>1</td>\n      <td>30</td>\n      <td>11</td>\n      <td>180</td>\n      <td>80</td>\n      <td>89.0</td>\n      <td>0.9</td>\n      <td>1.2</td>\n      <td>1.0</td>\n      <td>...</td>\n      <td>1.0</td>\n      <td>0.9</td>\n      <td>20.0</td>\n      <td>36.0</td>\n      <td>27.0</td>\n      <td>3.0</td>\n      <td>1</td>\n      <td>0</td>\n      <td>0</td>\n      <td>0</td>\n    </tr>\n    <tr>\n      <th>2</th>\n      <td>4</td>\n      <td>1</td>\n      <td>50</td>\n      <td>48</td>\n      <td>175</td>\n      <td>80</td>\n      <td>91.0</td>\n      <td>1.5</td>\n      <td>1.2</td>\n      <td>1.0</td>\n      <td>...</td>\n      <td>1.0</td>\n      <td>1.1</td>\n      <td>29.0</td>\n      <td>34.0</td>\n      <td>18.0</td>\n      <td>1.0</td>\n      <td>1</td>\n      <td>0</td>\n      <td>0</td>\n      <td>0</td>\n    </tr>\n    <tr>\n      <th>3</th>\n      <td>5</td>\n      <td>1</td>\n      <td>50</td>\n      <td>30</td>\n      <td>165</td>\n      <td>60</td>\n      <td>80.0</td>\n      <td>1.0</td>\n      <td>1.2</td>\n      <td>1.0</td>\n      <td>...</td>\n      <td>1.0</td>\n      <td>0.8</td>\n      <td>19.0</td>\n      <td>12.0</td>\n      <td>25.0</td>\n      <td>1.0</td>\n      <td>1</td>\n      <td>0</td>\n      <td>0</td>\n      <td>0</td>\n    </tr>\n    <tr>\n      <th>4</th>\n      <td>6</td>\n      <td>1</td>\n      <td>50</td>\n      <td>41</td>\n      <td>165</td>\n      <td>55</td>\n      <td>75.0</td>\n      <td>1.2</td>\n      <td>1.5</td>\n      <td>1.0</td>\n      <td>...</td>\n      <td>3.0</td>\n      <td>0.8</td>\n      <td>29.0</td>\n      <td>40.0</td>\n      <td>37.0</td>\n      <td>3.0</td>\n      <td>0</td>\n      <td>0</td>\n      <td>0</td>\n      <td>0</td>\n    </tr>\n  </tbody>\n</table>\n<p>5 rows × 29 columns</p>\n</div>"
     },
     "execution_count": 13,
     "metadata": {},
     "output_type": "execute_result"
    }
   ],
   "source": [
    "df = pd.read_csv('이상치제거.csv')\n",
    "df.drop(['Unnamed: 0'],axis=1,inplace=True)\n",
    "df.head()"
   ],
   "metadata": {
    "collapsed": false,
    "pycharm": {
     "name": "#%%\n"
    }
   }
  },
  {
   "cell_type": "code",
   "execution_count": 14,
   "outputs": [],
   "source": [
    "\n",
    "Scalar_Index =['신장(5Cm단위)', '체중(5Kg단위)',\n",
    "       '허리둘레', '시력(좌)', '시력(우)', '수축기혈압', '이완기혈압',\n",
    "       '식전혈당(공복혈당)', '총콜레스테롤', '트리글리세라이드', 'HDL콜레스테롤', 'LDL콜레스테롤', '혈색소',\n",
    "       '혈청크레아티닌', '(혈청지오티)AST', '(혈청지오티)ALT', '감마지티피']\n",
    "\n",
    "scaler = StandardScaler()\n",
    "scaler.fit(df[Scalar_Index])\n",
    "df[Scalar_Index] = scaler.transform(df[Scalar_Index])"
   ],
   "metadata": {
    "collapsed": false,
    "pycharm": {
     "name": "#%%\n"
    }
   }
  },
  {
   "cell_type": "code",
   "execution_count": 15,
   "outputs": [
    {
     "data": {
      "text/plain": "        가입자일련번호  성별코드  연령대코드(5세단위)  시도코드  신장(5Cm단위)  체중(5Kg단위)      허리둘레  \\\n0             1     1           30    43   0.895224   1.125270  1.099567   \n1             2     1           30    11   1.976477   1.551729  0.990656   \n2             4     1           50    48   1.435850   1.551729  1.208477   \n3             5     1           50    30   0.354597  -0.154106  0.010463   \n4             6     1           50    41   0.354597  -0.580565 -0.534089   \n...         ...   ...          ...   ...        ...        ...       ...   \n794472   999996     1           40    48   1.435850   1.551729  1.328278   \n794473   999997     1           30    41   0.895224   1.125270  0.663925   \n794474   999998     2           40    26  -0.726656  -1.007024 -1.296461   \n794475   999999     1           20    29   1.435850  -0.154106 -0.860820   \n794476  1000000     1           50    41  -0.186029   0.698812  1.154022   \n\n           시력(좌)     시력(우)  청력(좌)  ...  요단백   혈청크레아티닌  (혈청지오티)AST  (혈청지오티)ALT  \\\n0       0.139495  0.037768    1.0  ...  1.0  0.829057   -0.282688    1.490189   \n1      -0.150534  0.378075    1.0  ...  1.0  0.314562   -0.442593    1.594638   \n2       1.589645  0.378075    1.0  ...  1.0  1.343553    0.996553    1.385739   \n3       0.139495  0.378075    1.0  ...  1.0 -0.199934   -0.602498   -0.912151   \n4       0.719555  0.888536    1.0  ...  3.0 -0.199934    0.996553    2.012436   \n...          ...       ...    ...  ...  ...       ...         ...         ...   \n794472  1.589645  0.888536    1.0  ...  1.0  0.829057    0.516838    1.594638   \n794473  0.139495  0.888536    1.0  ...  1.0  1.343553   -1.402024   -0.389903   \n794474  0.139495 -0.472693    1.0  ...  1.0 -0.199934    1.156458    0.654592   \n794475  1.589645  0.037768    1.0  ...  1.0 -0.199934   -0.282688   -0.703251   \n794476  0.139495  0.888536    1.0  ...  1.0  0.314562    0.197028    2.325785   \n\n           감마지티피  흡연상태  음주여부  구강검진수검여부  실명(좌)  실명(우)  \n0       1.002864   1.0     0         0      0      0  \n1       0.123610   3.0     1         0      0      0  \n2      -0.485105   1.0     1         0      0      0  \n3      -0.011660   1.0     1         0      0      0  \n4       0.799959   3.0     0         0      0      0  \n...          ...   ...   ...       ...    ...    ...  \n794472  0.123610   1.0     1         1      0      0  \n794473 -0.688010   1.0     1         1      0      0  \n794474 -0.552740   3.0     0         1      0      0  \n794475 -0.552740   1.0     1         1      0      0  \n794476  0.732324   3.0     0         1      0      0  \n\n[794477 rows x 29 columns]",
      "text/html": "<div>\n<style scoped>\n    .dataframe tbody tr th:only-of-type {\n        vertical-align: middle;\n    }\n\n    .dataframe tbody tr th {\n        vertical-align: top;\n    }\n\n    .dataframe thead th {\n        text-align: right;\n    }\n</style>\n<table border=\"1\" class=\"dataframe\">\n  <thead>\n    <tr style=\"text-align: right;\">\n      <th></th>\n      <th>가입자일련번호</th>\n      <th>성별코드</th>\n      <th>연령대코드(5세단위)</th>\n      <th>시도코드</th>\n      <th>신장(5Cm단위)</th>\n      <th>체중(5Kg단위)</th>\n      <th>허리둘레</th>\n      <th>시력(좌)</th>\n      <th>시력(우)</th>\n      <th>청력(좌)</th>\n      <th>...</th>\n      <th>요단백</th>\n      <th>혈청크레아티닌</th>\n      <th>(혈청지오티)AST</th>\n      <th>(혈청지오티)ALT</th>\n      <th>감마지티피</th>\n      <th>흡연상태</th>\n      <th>음주여부</th>\n      <th>구강검진수검여부</th>\n      <th>실명(좌)</th>\n      <th>실명(우)</th>\n    </tr>\n  </thead>\n  <tbody>\n    <tr>\n      <th>0</th>\n      <td>1</td>\n      <td>1</td>\n      <td>30</td>\n      <td>43</td>\n      <td>0.895224</td>\n      <td>1.125270</td>\n      <td>1.099567</td>\n      <td>0.139495</td>\n      <td>0.037768</td>\n      <td>1.0</td>\n      <td>...</td>\n      <td>1.0</td>\n      <td>0.829057</td>\n      <td>-0.282688</td>\n      <td>1.490189</td>\n      <td>1.002864</td>\n      <td>1.0</td>\n      <td>0</td>\n      <td>0</td>\n      <td>0</td>\n      <td>0</td>\n    </tr>\n    <tr>\n      <th>1</th>\n      <td>2</td>\n      <td>1</td>\n      <td>30</td>\n      <td>11</td>\n      <td>1.976477</td>\n      <td>1.551729</td>\n      <td>0.990656</td>\n      <td>-0.150534</td>\n      <td>0.378075</td>\n      <td>1.0</td>\n      <td>...</td>\n      <td>1.0</td>\n      <td>0.314562</td>\n      <td>-0.442593</td>\n      <td>1.594638</td>\n      <td>0.123610</td>\n      <td>3.0</td>\n      <td>1</td>\n      <td>0</td>\n      <td>0</td>\n      <td>0</td>\n    </tr>\n    <tr>\n      <th>2</th>\n      <td>4</td>\n      <td>1</td>\n      <td>50</td>\n      <td>48</td>\n      <td>1.435850</td>\n      <td>1.551729</td>\n      <td>1.208477</td>\n      <td>1.589645</td>\n      <td>0.378075</td>\n      <td>1.0</td>\n      <td>...</td>\n      <td>1.0</td>\n      <td>1.343553</td>\n      <td>0.996553</td>\n      <td>1.385739</td>\n      <td>-0.485105</td>\n      <td>1.0</td>\n      <td>1</td>\n      <td>0</td>\n      <td>0</td>\n      <td>0</td>\n    </tr>\n    <tr>\n      <th>3</th>\n      <td>5</td>\n      <td>1</td>\n      <td>50</td>\n      <td>30</td>\n      <td>0.354597</td>\n      <td>-0.154106</td>\n      <td>0.010463</td>\n      <td>0.139495</td>\n      <td>0.378075</td>\n      <td>1.0</td>\n      <td>...</td>\n      <td>1.0</td>\n      <td>-0.199934</td>\n      <td>-0.602498</td>\n      <td>-0.912151</td>\n      <td>-0.011660</td>\n      <td>1.0</td>\n      <td>1</td>\n      <td>0</td>\n      <td>0</td>\n      <td>0</td>\n    </tr>\n    <tr>\n      <th>4</th>\n      <td>6</td>\n      <td>1</td>\n      <td>50</td>\n      <td>41</td>\n      <td>0.354597</td>\n      <td>-0.580565</td>\n      <td>-0.534089</td>\n      <td>0.719555</td>\n      <td>0.888536</td>\n      <td>1.0</td>\n      <td>...</td>\n      <td>3.0</td>\n      <td>-0.199934</td>\n      <td>0.996553</td>\n      <td>2.012436</td>\n      <td>0.799959</td>\n      <td>3.0</td>\n      <td>0</td>\n      <td>0</td>\n      <td>0</td>\n      <td>0</td>\n    </tr>\n    <tr>\n      <th>...</th>\n      <td>...</td>\n      <td>...</td>\n      <td>...</td>\n      <td>...</td>\n      <td>...</td>\n      <td>...</td>\n      <td>...</td>\n      <td>...</td>\n      <td>...</td>\n      <td>...</td>\n      <td>...</td>\n      <td>...</td>\n      <td>...</td>\n      <td>...</td>\n      <td>...</td>\n      <td>...</td>\n      <td>...</td>\n      <td>...</td>\n      <td>...</td>\n      <td>...</td>\n      <td>...</td>\n    </tr>\n    <tr>\n      <th>794472</th>\n      <td>999996</td>\n      <td>1</td>\n      <td>40</td>\n      <td>48</td>\n      <td>1.435850</td>\n      <td>1.551729</td>\n      <td>1.328278</td>\n      <td>1.589645</td>\n      <td>0.888536</td>\n      <td>1.0</td>\n      <td>...</td>\n      <td>1.0</td>\n      <td>0.829057</td>\n      <td>0.516838</td>\n      <td>1.594638</td>\n      <td>0.123610</td>\n      <td>1.0</td>\n      <td>1</td>\n      <td>1</td>\n      <td>0</td>\n      <td>0</td>\n    </tr>\n    <tr>\n      <th>794473</th>\n      <td>999997</td>\n      <td>1</td>\n      <td>30</td>\n      <td>41</td>\n      <td>0.895224</td>\n      <td>1.125270</td>\n      <td>0.663925</td>\n      <td>0.139495</td>\n      <td>0.888536</td>\n      <td>1.0</td>\n      <td>...</td>\n      <td>1.0</td>\n      <td>1.343553</td>\n      <td>-1.402024</td>\n      <td>-0.389903</td>\n      <td>-0.688010</td>\n      <td>1.0</td>\n      <td>1</td>\n      <td>1</td>\n      <td>0</td>\n      <td>0</td>\n    </tr>\n    <tr>\n      <th>794474</th>\n      <td>999998</td>\n      <td>2</td>\n      <td>40</td>\n      <td>26</td>\n      <td>-0.726656</td>\n      <td>-1.007024</td>\n      <td>-1.296461</td>\n      <td>0.139495</td>\n      <td>-0.472693</td>\n      <td>1.0</td>\n      <td>...</td>\n      <td>1.0</td>\n      <td>-0.199934</td>\n      <td>1.156458</td>\n      <td>0.654592</td>\n      <td>-0.552740</td>\n      <td>3.0</td>\n      <td>0</td>\n      <td>1</td>\n      <td>0</td>\n      <td>0</td>\n    </tr>\n    <tr>\n      <th>794475</th>\n      <td>999999</td>\n      <td>1</td>\n      <td>20</td>\n      <td>29</td>\n      <td>1.435850</td>\n      <td>-0.154106</td>\n      <td>-0.860820</td>\n      <td>1.589645</td>\n      <td>0.037768</td>\n      <td>1.0</td>\n      <td>...</td>\n      <td>1.0</td>\n      <td>-0.199934</td>\n      <td>-0.282688</td>\n      <td>-0.703251</td>\n      <td>-0.552740</td>\n      <td>1.0</td>\n      <td>1</td>\n      <td>1</td>\n      <td>0</td>\n      <td>0</td>\n    </tr>\n    <tr>\n      <th>794476</th>\n      <td>1000000</td>\n      <td>1</td>\n      <td>50</td>\n      <td>41</td>\n      <td>-0.186029</td>\n      <td>0.698812</td>\n      <td>1.154022</td>\n      <td>0.139495</td>\n      <td>0.888536</td>\n      <td>1.0</td>\n      <td>...</td>\n      <td>1.0</td>\n      <td>0.314562</td>\n      <td>0.197028</td>\n      <td>2.325785</td>\n      <td>0.732324</td>\n      <td>3.0</td>\n      <td>0</td>\n      <td>1</td>\n      <td>0</td>\n      <td>0</td>\n    </tr>\n  </tbody>\n</table>\n<p>794477 rows × 29 columns</p>\n</div>"
     },
     "execution_count": 15,
     "metadata": {},
     "output_type": "execute_result"
    }
   ],
   "source": [
    "data = df\n",
    "data"
   ],
   "metadata": {
    "collapsed": false,
    "pycharm": {
     "name": "#%%\n"
    }
   }
  },
  {
   "cell_type": "markdown",
   "source": [],
   "metadata": {
    "collapsed": false
   }
  },
  {
   "cell_type": "code",
   "execution_count": null,
   "outputs": [],
   "source": [
    "# 명목형 변수 설정\n",
    "data[['성별코드','연령대코드(5세단위)','청력(좌)','청력(우)','요단백','실명(좌)','실명(우)','음주여부','흡연상태','구강검진수검여부']] \\\n",
    "    = data[['성별코드','연령대코드(5세단위)','청력(좌)','청력(우)','요단백','실명(좌)','실명(우)','음주여부','흡연상태','구강검진수검여부']].astype('category')\n"
   ],
   "metadata": {
    "collapsed": false,
    "pycharm": {
     "name": "#%%\n"
    }
   }
  },
  {
   "cell_type": "markdown",
   "source": [
    "# Train/Test 셋 생성"
   ],
   "metadata": {
    "collapsed": false,
    "pycharm": {
     "name": "#%% md\n"
    }
   }
  },
  {
   "cell_type": "code",
   "execution_count": 58,
   "outputs": [
    {
     "name": "stdout",
     "output_type": "stream",
     "text": [
      "<class 'pandas.core.frame.DataFrame'>\n",
      "Int64Index: 159023 entries, 3 to 794476\n",
      "Data columns (total 1 columns):\n",
      " #   Column  Non-Null Count   Dtype   \n",
      "---  ------  --------------   -----   \n",
      " 0   성별코드    159023 non-null  category\n",
      "dtypes: category(1)\n",
      "memory usage: 1.4 MB\n"
     ]
    }
   ],
   "source": [
    "\n",
    "train_data = data[data['가입자일련번호']%5 != 0]\n",
    "test_data = data[data['가입자일련번호']%5 == 0]\n",
    "\n",
    "# Traindataa\n",
    "\n",
    "X_train =  train_data[[ '신장(5Cm단위)', '체중(5Kg단위)',\n",
    "       '허리둘레', '시력(좌)', '시력(우)', '청력(좌)', '청력(우)', '수축기혈압', '이완기혈압',\n",
    "       '식전혈당(공복혈당)', '총콜레스테롤', '트리글리세라이드', 'HDL콜레스테롤', 'LDL콜레스테롤', '혈색소',\n",
    "       '요단백', '혈청크레아티닌', '(혈청지오티)AST', '(혈청지오티)ALT', '감마지티피', '흡연상태', '음주여부',\n",
    "       '구강검진수검여부', '실명(좌)', '실명(우)']]\n",
    "\n",
    "y_train = train_data[['성별코드']]\n",
    "\n",
    "#test_data\n",
    "X_test =  test_data[[ '신장(5Cm단위)', '체중(5Kg단위)',\n",
    "       '허리둘레', '시력(좌)', '시력(우)', '청력(좌)', '청력(우)', '수축기혈압', '이완기혈압',\n",
    "       '식전혈당(공복혈당)', '총콜레스테롤', '트리글리세라이드', 'HDL콜레스테롤', 'LDL콜레스테롤', '혈색소',\n",
    "       '요단백', '혈청크레아티닌', '(혈청지오티)AST', '(혈청지오티)ALT', '감마지티피', '흡연상태', '음주여부',\n",
    "       '구강검진수검여부', '실명(좌)', '실명(우)']]\n",
    "\n",
    "y_test = test_data[['성별코드']]\n",
    "\n",
    "\n",
    "y_test.info()"
   ],
   "metadata": {
    "collapsed": false,
    "pycharm": {
     "name": "#%%\n"
    }
   }
  },
  {
   "cell_type": "markdown",
   "source": [
    "# 중요 Featrue 도출"
   ],
   "metadata": {
    "collapsed": false,
    "pycharm": {
     "name": "#%% md\n"
    }
   }
  },
  {
   "cell_type": "code",
   "execution_count": 59,
   "outputs": [
    {
     "name": "stdout",
     "output_type": "stream",
     "text": [
      "Feature ranking:\n",
      "1. feature 신장(5Cm단위) (0.267)\n",
      "2. feature 혈색소 (0.203)\n",
      "3. feature 흡연상태 (0.150)\n",
      "4. feature 혈청크레아티닌 (0.119)\n",
      "5. feature 체중(5Kg단위) (0.050)\n",
      "6. feature 감마지티피 (0.041)\n",
      "7. feature 허리둘레 (0.030)\n",
      "8. feature HDL콜레스테롤 (0.019)\n",
      "9. feature 음주여부 (0.016)\n",
      "10. feature (혈청지오티)ALT (0.014)\n",
      "11. feature 총콜레스테롤 (0.012)\n",
      "12. feature 수축기혈압 (0.011)\n",
      "13. feature 트리글리세라이드 (0.011)\n",
      "14. feature (혈청지오티)AST (0.010)\n",
      "15. feature LDL콜레스테롤 (0.010)\n",
      "16. feature 식전혈당(공복혈당) (0.010)\n",
      "17. feature 이완기혈압 (0.008)\n",
      "18. feature 시력(우) (0.007)\n",
      "19. feature 시력(좌) (0.007)\n",
      "20. feature 구강검진수검여부 (0.002)\n",
      "21. feature 청력(좌) (0.001)\n",
      "22. feature 요단백 (0.001)\n",
      "23. feature 청력(우) (0.001)\n",
      "24. feature 실명(우) (0.000)\n",
      "25. feature 실명(좌) (0.000)\n"
     ]
    },
    {
     "data": {
      "text/plain": "<Figure size 432x288 with 1 Axes>",
      "image/png": "[encoded data removed]"
     },
     "metadata": {
      "needs_background": "light"
     },
     "output_type": "display_data"
    }
   ],
   "source": [
    "model_feature = RandomForestClassifier()\n",
    "model_feature.fit(X = X_train, y = y_train)\n",
    "import matplotlib.pyplot as plt\n",
    "\n",
    "importances = model_feature.feature_importances_\n",
    "std = np.std([tree.feature_importances_ for tree in model_feature.estimators_], axis=0)\n",
    "indices = np.argsort(importances)[::-1]\n",
    "print(\"Feature ranking:\")\n",
    "\n",
    "for f in range(X_train.shape[1]):\n",
    "    print(\"{}. feature {} ({:.3f})\".format(f + 1, X_train.columns[indices][f], importances[indices[f]]))\n",
    "\n",
    "# Plot the impurity-based feature importances of the forest\n",
    "plt.figure()\n",
    "plt.title(\"Feature importances\")\n",
    "plt.bar(range(X_train.shape[1]), importances[indices],\n",
    "        color=\"r\", yerr=std[indices], align=\"center\")\n",
    "plt.xticks(range(X_train.shape[1]), X_train.columns[indices], rotation=45)\n",
    "plt.xlim([-1, X_train.shape[1]])\n",
    "plt.show()"
   ],
   "metadata": {
    "collapsed": false,
    "pycharm": {
     "name": "#%%\n"
    }
   }
  },
  {
   "cell_type": "markdown",
   "source": [
    "# Data set 수정"
   ],
   "metadata": {
    "collapsed": false,
    "pycharm": {
     "name": "#%% md\n"
    }
   }
  },
  {
   "cell_type": "code",
   "execution_count": 39,
   "outputs": [],
   "source": [
    "\n",
    "train_data = data[data['가입자일련번호']%5 != 0]\n",
    "test_data = data[data['가입자일련번호']%5 == 0]\n",
    "\n",
    "# Traindataa\n",
    "\n",
    "X_train =  train_data[[ '신장(5Cm단위)', '체중(5Kg단위)',\n",
    "       '허리둘레', '혈색소', '혈청크레아티닌', '감마지티피', '흡연상태']]\n",
    "\n",
    "y_train = train_data[['성별코드']]\n",
    "\n",
    "#test_data\n",
    "X_test =  test_data[[ '신장(5Cm단위)', '체중(5Kg단위)',\n",
    "       '허리둘레', '혈색소', '혈청크레아티닌' ,'감마지티피', '흡연상태']]\n",
    "\n",
    "y_test = test_data[['성별코드']]"
   ],
   "metadata": {
    "collapsed": false,
    "pycharm": {
     "name": "#%%\n"
    }
   }
  },
  {
   "cell_type": "markdown",
   "source": [
    "# 파라미터 튜닝"
   ],
   "metadata": {
    "collapsed": false,
    "pycharm": {
     "name": "#%% md\n"
    }
   }
  },
  {
   "cell_type": "code",
   "execution_count": 42,
   "outputs": [
    {
     "name": "stderr",
     "output_type": "stream",
     "text": [
      "\u001B[32m[I 2022-05-17 17:36:52,749]\u001B[0m A new study created in memory with name: no-name-3b91dcec-3e67-465b-81d8-5a0565ab8fea\u001B[0m\n",
      "\u001B[32m[I 2022-05-17 17:36:57,449]\u001B[0m Trial 0 finished with value: 0.959672500204373 and parameters: {'max_depth': 100, 'max_leaf_nodes': 549, 'n_estimators': 97, 'max_features': 'log2', 'min_samples_leaf': 4, 'criterion': 'entropy'}. Best is trial 0 with value: 0.959672500204373.\u001B[0m\n",
      "\u001B[32m[I 2022-05-17 17:37:01,438]\u001B[0m Trial 1 finished with value: 0.9598925941530471 and parameters: {'max_depth': 39, 'max_leaf_nodes': 649, 'n_estimators': 88, 'max_features': 'auto', 'min_samples_leaf': 4, 'criterion': 'entropy'}. Best is trial 1 with value: 0.9598925941530471.\u001B[0m\n",
      "\u001B[32m[I 2022-05-17 17:37:08,169]\u001B[0m Trial 2 finished with value: 0.9561132666343862 and parameters: {'max_depth': 7, 'max_leaf_nodes': 447, 'n_estimators': 188, 'max_features': 'sqrt', 'min_samples_leaf': 9, 'criterion': 'entropy'}. Best is trial 1 with value: 0.9598925941530471.\u001B[0m\n",
      "\u001B[32m[I 2022-05-17 17:37:15,775]\u001B[0m Trial 3 finished with value: 0.9600560925149192 and parameters: {'max_depth': 20, 'max_leaf_nodes': 711, 'n_estimators': 170, 'max_features': 'log2', 'min_samples_leaf': 7, 'criterion': 'entropy'}. Best is trial 3 with value: 0.9600560925149192.\u001B[0m\n",
      "\u001B[32m[I 2022-05-17 17:37:18,649]\u001B[0m Trial 4 finished with value: 0.9583142061211272 and parameters: {'max_depth': 76, 'max_leaf_nodes': 246, 'n_estimators': 67, 'max_features': 'sqrt', 'min_samples_leaf': 5, 'criterion': 'entropy'}. Best is trial 3 with value: 0.9600560925149192.\u001B[0m\n",
      "\u001B[32m[I 2022-05-17 17:37:23,424]\u001B[0m Trial 5 finished with value: 0.9515793312916999 and parameters: {'max_depth': 5, 'max_leaf_nodes': 404, 'n_estimators': 164, 'max_features': 'auto', 'min_samples_leaf': 5, 'criterion': 'entropy'}. Best is trial 3 with value: 0.9600560925149192.\u001B[0m\n",
      "\u001B[32m[I 2022-05-17 17:37:27,199]\u001B[0m Trial 6 finished with value: 0.9602950516591939 and parameters: {'max_depth': 32, 'max_leaf_nodes': 887, 'n_estimators': 81, 'max_features': 'sqrt', 'min_samples_leaf': 1, 'criterion': 'entropy'}. Best is trial 6 with value: 0.9602950516591939.\u001B[0m\n",
      "\u001B[32m[I 2022-05-17 17:37:32,613]\u001B[0m Trial 7 finished with value: 0.9602950516591939 and parameters: {'max_depth': 95, 'max_leaf_nodes': 491, 'n_estimators': 135, 'max_features': 'log2', 'min_samples_leaf': 1, 'criterion': 'gini'}. Best is trial 6 with value: 0.9602950516591939.\u001B[0m\n",
      "\u001B[32m[I 2022-05-17 17:37:35,104]\u001B[0m Trial 8 finished with value: 0.9606094715858712 and parameters: {'max_depth': 67, 'max_leaf_nodes': 639, 'n_estimators': 57, 'max_features': 'sqrt', 'min_samples_leaf': 8, 'criterion': 'gini'}. Best is trial 8 with value: 0.9606094715858712.\u001B[0m\n",
      "\u001B[32m[I 2022-05-17 17:37:38,613]\u001B[0m Trial 9 finished with value: 0.9444357105575923 and parameters: {'max_depth': 3, 'max_leaf_nodes': 233, 'n_estimators': 174, 'max_features': 'auto', 'min_samples_leaf': 9, 'criterion': 'entropy'}. Best is trial 8 with value: 0.9606094715858712.\u001B[0m\n",
      "\u001B[32m[I 2022-05-17 17:37:44,088]\u001B[0m Trial 10 finished with value: 0.9607666815492099 and parameters: {'max_depth': 62, 'max_leaf_nodes': 998, 'n_estimators': 127, 'max_features': 'sqrt', 'min_samples_leaf': 10, 'criterion': 'gini'}. Best is trial 10 with value: 0.9607666815492099.\u001B[0m\n",
      "\u001B[32m[I 2022-05-17 17:37:49,322]\u001B[0m Trial 11 finished with value: 0.9607918351433441 and parameters: {'max_depth': 63, 'max_leaf_nodes': 983, 'n_estimators': 120, 'max_features': 'sqrt', 'min_samples_leaf': 10, 'criterion': 'gini'}. Best is trial 11 with value: 0.9607918351433441.\u001B[0m\n",
      "\u001B[32m[I 2022-05-17 17:37:54,831]\u001B[0m Trial 12 finished with value: 0.9607541047521427 and parameters: {'max_depth': 59, 'max_leaf_nodes': 910, 'n_estimators': 124, 'max_features': 'sqrt', 'min_samples_leaf': 10, 'criterion': 'gini'}. Best is trial 11 with value: 0.9607918351433441.\u001B[0m\n",
      "\u001B[32m[I 2022-05-17 17:38:00,477]\u001B[0m Trial 13 finished with value: 0.9607855467448105 and parameters: {'max_depth': 75, 'max_leaf_nodes': 960, 'n_estimators': 124, 'max_features': 'sqrt', 'min_samples_leaf': 10, 'criterion': 'gini'}. Best is trial 11 with value: 0.9607918351433441.\u001B[0m\n",
      "\u001B[32m[I 2022-05-17 17:38:03,764]\u001B[0m Trial 14 finished with value: 0.9541072675021852 and parameters: {'max_depth': 83, 'max_leaf_nodes': 26, 'n_estimators': 109, 'max_features': 'sqrt', 'min_samples_leaf': 7, 'criterion': 'gini'}. Best is trial 11 with value: 0.9607918351433441.\u001B[0m\n",
      "\u001B[32m[I 2022-05-17 17:38:10,171]\u001B[0m Trial 15 finished with value: 0.9606220483829383 and parameters: {'max_depth': 46, 'max_leaf_nodes': 799, 'n_estimators': 143, 'max_features': 'sqrt', 'min_samples_leaf': 7, 'criterion': 'gini'}. Best is trial 11 with value: 0.9607918351433441.\u001B[0m\n",
      "\u001B[32m[I 2022-05-17 17:38:16,896]\u001B[0m Trial 16 finished with value: 0.9607163743609415 and parameters: {'max_depth': 82, 'max_leaf_nodes': 982, 'n_estimators': 151, 'max_features': 'sqrt', 'min_samples_leaf': 10, 'criterion': 'gini'}. Best is trial 11 with value: 0.9607918351433441.\u001B[0m\n",
      "\u001B[32m[I 2022-05-17 17:38:21,923]\u001B[0m Trial 17 finished with value: 0.9606912207668074 and parameters: {'max_depth': 74, 'max_leaf_nodes': 825, 'n_estimators': 111, 'max_features': 'sqrt', 'min_samples_leaf': 8, 'criterion': 'gini'}. Best is trial 11 with value: 0.9607918351433441.\u001B[0m\n",
      "\u001B[32m[I 2022-05-17 17:38:31,872]\u001B[0m Trial 18 finished with value: 0.960640913578539 and parameters: {'max_depth': 53, 'max_leaf_nodes': 753, 'n_estimators': 200, 'max_features': 'log2', 'min_samples_leaf': 9, 'criterion': 'gini'}. Best is trial 11 with value: 0.9607918351433441.\u001B[0m\n",
      "\u001B[32m[I 2022-05-17 17:38:37,220]\u001B[0m Trial 19 finished with value: 0.9606597787741395 and parameters: {'max_depth': 88, 'max_leaf_nodes': 843, 'n_estimators': 110, 'max_features': 'auto', 'min_samples_leaf': 6, 'criterion': 'gini'}. Best is trial 11 with value: 0.9607918351433441.\u001B[0m\n",
      "\u001B[32m[I 2022-05-17 17:38:44,887]\u001B[0m Trial 20 finished with value: 0.9609238915125485 and parameters: {'max_depth': 68, 'max_leaf_nodes': 948, 'n_estimators': 154, 'max_features': 'sqrt', 'min_samples_leaf': 3, 'criterion': 'gini'}. Best is trial 20 with value: 0.9609238915125485.\u001B[0m\n",
      "\u001B[32m[I 2022-05-17 17:38:52,014]\u001B[0m Trial 21 finished with value: 0.9608169887374782 and parameters: {'max_depth': 65, 'max_leaf_nodes': 935, 'n_estimators': 152, 'max_features': 'sqrt', 'min_samples_leaf': 3, 'criterion': 'gini'}. Best is trial 20 with value: 0.9609238915125485.\u001B[0m\n",
      "\u001B[32m[I 2022-05-17 17:38:58,834]\u001B[0m Trial 22 finished with value: 0.960779258346277 and parameters: {'max_depth': 51, 'max_leaf_nodes': 890, 'n_estimators': 149, 'max_features': 'sqrt', 'min_samples_leaf': 3, 'criterion': 'gini'}. Best is trial 20 with value: 0.9609238915125485.\u001B[0m\n",
      "\u001B[32m[I 2022-05-17 17:39:06,054]\u001B[0m Trial 23 finished with value: 0.9605968947888042 and parameters: {'max_depth': 67, 'max_leaf_nodes': 721, 'n_estimators': 161, 'max_features': 'sqrt', 'min_samples_leaf': 2, 'criterion': 'gini'}. Best is trial 20 with value: 0.9609238915125485.\u001B[0m\n",
      "\u001B[32m[I 2022-05-17 17:39:14,700]\u001B[0m Trial 24 finished with value: 0.9607666815492099 and parameters: {'max_depth': 58, 'max_leaf_nodes': 934, 'n_estimators': 184, 'max_features': 'sqrt', 'min_samples_leaf': 3, 'criterion': 'gini'}. Best is trial 20 with value: 0.9609238915125485.\u001B[0m\n",
      "\u001B[32m[I 2022-05-17 17:39:21,200]\u001B[0m Trial 25 finished with value: 0.9607729699477434 and parameters: {'max_depth': 40, 'max_leaf_nodes': 801, 'n_estimators': 139, 'max_features': 'sqrt', 'min_samples_leaf': 3, 'criterion': 'gini'}. Best is trial 20 with value: 0.9609238915125485.\u001B[0m\n",
      "\u001B[32m[I 2022-05-17 17:39:28,299]\u001B[0m Trial 26 finished with value: 0.9606031831873377 and parameters: {'max_depth': 66, 'max_leaf_nodes': 626, 'n_estimators': 157, 'max_features': 'sqrt', 'min_samples_leaf': 2, 'criterion': 'gini'}. Best is trial 20 with value: 0.9609238915125485.\u001B[0m\n",
      "\u001B[32m[I 2022-05-17 17:39:34,510]\u001B[0m Trial 27 finished with value: 0.9607478163536092 and parameters: {'max_depth': 71, 'max_leaf_nodes': 997, 'n_estimators': 129, 'max_features': 'log2', 'min_samples_leaf': 4, 'criterion': 'gini'}. Best is trial 20 with value: 0.9609238915125485.\u001B[0m\n",
      "\u001B[32m[I 2022-05-17 17:39:42,951]\u001B[0m Trial 28 finished with value: 0.9608169887374782 and parameters: {'max_depth': 45, 'max_leaf_nodes': 829, 'n_estimators': 179, 'max_features': 'sqrt', 'min_samples_leaf': 2, 'criterion': 'gini'}. Best is trial 20 with value: 0.9609238915125485.\u001B[0m\n",
      "\u001B[32m[I 2022-05-17 17:39:50,879]\u001B[0m Trial 29 finished with value: 0.9603705124415965 and parameters: {'max_depth': 28, 'max_leaf_nodes': 547, 'n_estimators': 181, 'max_features': 'auto', 'min_samples_leaf': 2, 'criterion': 'gini'}. Best is trial 20 with value: 0.9609238915125485.\u001B[0m\n",
      "\u001B[32m[I 2022-05-17 17:40:00,165]\u001B[0m Trial 30 finished with value: 0.9607729699477434 and parameters: {'max_depth': 100, 'max_leaf_nodes': 858, 'n_estimators': 199, 'max_features': 'log2', 'min_samples_leaf': 3, 'criterion': 'gini'}. Best is trial 20 with value: 0.9609238915125485.\u001B[0m\n",
      "\u001B[32m[I 2022-05-17 17:40:08,430]\u001B[0m Trial 31 finished with value: 0.9609427567081491 and parameters: {'max_depth': 46, 'max_leaf_nodes': 939, 'n_estimators': 171, 'max_features': 'sqrt', 'min_samples_leaf': 2, 'criterion': 'gini'}. Best is trial 31 with value: 0.9609427567081491.\u001B[0m\n",
      "\u001B[32m[I 2022-05-17 17:40:16,348]\u001B[0m Trial 32 finished with value: 0.9608232771360118 and parameters: {'max_depth': 44, 'max_leaf_nodes': 775, 'n_estimators': 171, 'max_features': 'sqrt', 'min_samples_leaf': 1, 'criterion': 'gini'}. Best is trial 31 with value: 0.9609427567081491.\u001B[0m\n",
      "\u001B[32m[I 2022-05-17 17:40:24,244]\u001B[0m Trial 33 finished with value: 0.9608169887374782 and parameters: {'max_depth': 44, 'max_leaf_nodes': 757, 'n_estimators': 173, 'max_features': 'sqrt', 'min_samples_leaf': 1, 'criterion': 'gini'}. Best is trial 31 with value: 0.9609427567081491.\u001B[0m\n",
      "\u001B[32m[I 2022-05-17 17:40:31,932]\u001B[0m Trial 34 finished with value: 0.9607478163536092 and parameters: {'max_depth': 34, 'max_leaf_nodes': 684, 'n_estimators': 171, 'max_features': 'sqrt', 'min_samples_leaf': 1, 'criterion': 'gini'}. Best is trial 31 with value: 0.9609427567081491.\u001B[0m\n",
      "\u001B[32m[I 2022-05-17 17:40:41,186]\u001B[0m Trial 35 finished with value: 0.9597353841897084 and parameters: {'max_depth': 20, 'max_leaf_nodes': 571, 'n_estimators': 191, 'max_features': 'sqrt', 'min_samples_leaf': 2, 'criterion': 'entropy'}. Best is trial 31 with value: 0.9609427567081491.\u001B[0m\n",
      "\u001B[32m[I 2022-05-17 17:40:48,330]\u001B[0m Trial 36 finished with value: 0.9608295655345453 and parameters: {'max_depth': 53, 'max_leaf_nodes': 907, 'n_estimators': 152, 'max_features': 'auto', 'min_samples_leaf': 4, 'criterion': 'gini'}. Best is trial 31 with value: 0.9609427567081491.\u001B[0m\n",
      "\u001B[32m[I 2022-05-17 17:40:56,624]\u001B[0m Trial 37 finished with value: 0.9602195908767914 and parameters: {'max_depth': 54, 'max_leaf_nodes': 898, 'n_estimators': 163, 'max_features': 'auto', 'min_samples_leaf': 5, 'criterion': 'entropy'}. Best is trial 31 with value: 0.9609427567081491.\u001B[0m\n",
      "\u001B[32m[I 2022-05-17 17:41:02,886]\u001B[0m Trial 38 finished with value: 0.9597542493853091 and parameters: {'max_depth': 39, 'max_leaf_nodes': 342, 'n_estimators': 146, 'max_features': 'auto', 'min_samples_leaf': 4, 'criterion': 'gini'}. Best is trial 31 with value: 0.9609427567081491.\u001B[0m\n",
      "\u001B[32m[I 2022-05-17 17:41:11,020]\u001B[0m Trial 39 finished with value: 0.9600057853266508 and parameters: {'max_depth': 26, 'max_leaf_nodes': 772, 'n_estimators': 165, 'max_features': 'auto', 'min_samples_leaf': 4, 'criterion': 'entropy'}. Best is trial 31 with value: 0.9609427567081491.\u001B[0m\n",
      "\u001B[32m[I 2022-05-17 17:41:18,126]\u001B[0m Trial 40 finished with value: 0.9608421423316124 and parameters: {'max_depth': 16, 'max_leaf_nodes': 874, 'n_estimators': 156, 'max_features': 'auto', 'min_samples_leaf': 1, 'criterion': 'gini'}. Best is trial 31 with value: 0.9609427567081491.\u001B[0m\n",
      "\u001B[32m[I 2022-05-17 17:41:25,147]\u001B[0m Trial 41 finished with value: 0.9607729699477434 and parameters: {'max_depth': 19, 'max_leaf_nodes': 873, 'n_estimators': 155, 'max_features': 'auto', 'min_samples_leaf': 1, 'criterion': 'gini'}. Best is trial 31 with value: 0.9609427567081491.\u001B[0m\n",
      "\u001B[32m[I 2022-05-17 17:41:31,621]\u001B[0m Trial 42 finished with value: 0.960640913578539 and parameters: {'max_depth': 11, 'max_leaf_nodes': 952, 'n_estimators': 135, 'max_features': 'auto', 'min_samples_leaf': 2, 'criterion': 'gini'}. Best is trial 31 with value: 0.9609427567081491.\u001B[0m\n",
      "\u001B[32m[I 2022-05-17 17:41:40,951]\u001B[0m Trial 43 finished with value: 0.9608169887374782 and parameters: {'max_depth': 33, 'max_leaf_nodes': 914, 'n_estimators': 189, 'max_features': 'auto', 'min_samples_leaf': 1, 'criterion': 'gini'}. Best is trial 31 with value: 0.9609427567081491.\u001B[0m\n",
      "\u001B[32m[I 2022-05-17 17:41:49,042]\u001B[0m Trial 44 finished with value: 0.9605717411946699 and parameters: {'max_depth': 12, 'max_leaf_nodes': 705, 'n_estimators': 168, 'max_features': 'auto', 'min_samples_leaf': 5, 'criterion': 'gini'}. Best is trial 31 with value: 0.9609427567081491.\u001B[0m\n",
      "\u001B[32m[I 2022-05-17 17:41:57,397]\u001B[0m Trial 45 finished with value: 0.9601629952899895 and parameters: {'max_depth': 57, 'max_leaf_nodes': 866, 'n_estimators': 159, 'max_features': 'auto', 'min_samples_leaf': 1, 'criterion': 'entropy'}. Best is trial 31 with value: 0.9609427567081491.\u001B[0m\n",
      "\u001B[32m[I 2022-05-17 17:42:05,765]\u001B[0m Trial 46 finished with value: 0.9607163743609415 and parameters: {'max_depth': 50, 'max_leaf_nodes': 793, 'n_estimators': 177, 'max_features': 'log2', 'min_samples_leaf': 3, 'criterion': 'gini'}. Best is trial 31 with value: 0.9609427567081491.\u001B[0m\n",
      "\u001B[32m[I 2022-05-17 17:42:10,483]\u001B[0m Trial 47 finished with value: 0.9537048099960383 and parameters: {'max_depth': 48, 'max_leaf_nodes': 24, 'n_estimators': 142, 'max_features': 'auto', 'min_samples_leaf': 2, 'criterion': 'gini'}. Best is trial 31 with value: 0.9609427567081491.\u001B[0m\n",
      "\u001B[32m[I 2022-05-17 17:42:17,478]\u001B[0m Trial 48 finished with value: 0.9607918351433441 and parameters: {'max_depth': 41, 'max_leaf_nodes': 949, 'n_estimators': 134, 'max_features': 'auto', 'min_samples_leaf': 4, 'criterion': 'gini'}. Best is trial 31 with value: 0.9609427567081491.\u001B[0m\n",
      "\u001B[32m[I 2022-05-17 17:42:25,753]\u001B[0m Trial 49 finished with value: 0.9606912207668074 and parameters: {'max_depth': 36, 'max_leaf_nodes': 661, 'n_estimators': 170, 'max_features': 'auto', 'min_samples_leaf': 1, 'criterion': 'gini'}. Best is trial 31 with value: 0.9609427567081491.\u001B[0m\n",
      "\u001B[32m[I 2022-05-17 17:42:29,854]\u001B[0m Trial 50 finished with value: 0.9594020990674305 and parameters: {'max_depth': 81, 'max_leaf_nodes': 431, 'n_estimators': 82, 'max_features': 'sqrt', 'min_samples_leaf': 6, 'criterion': 'entropy'}. Best is trial 31 with value: 0.9609427567081491.\u001B[0m\n",
      "\u001B[32m[I 2022-05-17 17:42:37,362]\u001B[0m Trial 51 finished with value: 0.9608295655345453 and parameters: {'max_depth': 61, 'max_leaf_nodes': 938, 'n_estimators': 153, 'max_features': 'sqrt', 'min_samples_leaf': 3, 'criterion': 'gini'}. Best is trial 31 with value: 0.9609427567081491.\u001B[0m\n",
      "\u001B[32m[I 2022-05-17 17:42:45,187]\u001B[0m Trial 52 finished with value: 0.9608421423316124 and parameters: {'max_depth': 61, 'max_leaf_nodes': 909, 'n_estimators': 157, 'max_features': 'sqrt', 'min_samples_leaf': 3, 'criterion': 'gini'}. Best is trial 31 with value: 0.9609427567081491.\u001B[0m\n",
      "\u001B[32m[I 2022-05-17 17:42:53,387]\u001B[0m Trial 53 finished with value: 0.9608107003389447 and parameters: {'max_depth': 70, 'max_leaf_nodes': 909, 'n_estimators': 148, 'max_features': 'sqrt', 'min_samples_leaf': 3, 'criterion': 'gini'}. Best is trial 31 with value: 0.9609427567081491.\u001B[0m\n",
      "\u001B[32m[I 2022-05-17 17:43:00,515]\u001B[0m Trial 54 finished with value: 0.9607855467448105 and parameters: {'max_depth': 62, 'max_leaf_nodes': 999, 'n_estimators': 153, 'max_features': 'sqrt', 'min_samples_leaf': 4, 'criterion': 'gini'}. Best is trial 31 with value: 0.9609427567081491.\u001B[0m\n",
      "\u001B[32m[I 2022-05-17 17:43:06,540]\u001B[0m Trial 55 finished with value: 0.958370801707929 and parameters: {'max_depth': 55, 'max_leaf_nodes': 127, 'n_estimators': 160, 'max_features': 'sqrt', 'min_samples_leaf': 4, 'criterion': 'gini'}. Best is trial 31 with value: 0.9609427567081491.\u001B[0m\n",
      "\u001B[32m[I 2022-05-17 17:43:08,445]\u001B[0m Trial 56 finished with value: 0.9126855863617213 and parameters: {'max_depth': 1, 'max_leaf_nodes': 960, 'n_estimators': 139, 'max_features': 'sqrt', 'min_samples_leaf': 3, 'criterion': 'gini'}. Best is trial 31 with value: 0.9609427567081491.\u001B[0m\n",
      "\u001B[32m[I 2022-05-17 17:43:13,892]\u001B[0m Trial 57 finished with value: 0.9606094715858712 and parameters: {'max_depth': 60, 'max_leaf_nodes': 825, 'n_estimators': 119, 'max_features': 'log2', 'min_samples_leaf': 5, 'criterion': 'gini'}. Best is trial 31 with value: 0.9609427567081491.\u001B[0m\n",
      "\u001B[32m[I 2022-05-17 17:43:21,364]\u001B[0m Trial 58 finished with value: 0.9609050263169479 and parameters: {'max_depth': 78, 'max_leaf_nodes': 925, 'n_estimators': 165, 'max_features': 'sqrt', 'min_samples_leaf': 2, 'criterion': 'gini'}. Best is trial 31 with value: 0.9609427567081491.\u001B[0m\n",
      "\u001B[32m[I 2022-05-17 17:43:28,972]\u001B[0m Trial 59 finished with value: 0.9608421423316124 and parameters: {'max_depth': 87, 'max_leaf_nodes': 869, 'n_estimators': 166, 'max_features': 'sqrt', 'min_samples_leaf': 2, 'criterion': 'gini'}. Best is trial 31 with value: 0.9609427567081491.\u001B[0m\n",
      "\u001B[32m[I 2022-05-17 17:43:33,405]\u001B[0m Trial 60 finished with value: 0.9606220483829383 and parameters: {'max_depth': 90, 'max_leaf_nodes': 728, 'n_estimators': 96, 'max_features': 'sqrt', 'min_samples_leaf': 2, 'criterion': 'gini'}. Best is trial 31 with value: 0.9609427567081491.\u001B[0m\n",
      "\u001B[32m[I 2022-05-17 17:43:40,990]\u001B[0m Trial 61 finished with value: 0.9608044119404111 and parameters: {'max_depth': 78, 'max_leaf_nodes': 862, 'n_estimators': 166, 'max_features': 'sqrt', 'min_samples_leaf': 2, 'criterion': 'gini'}. Best is trial 31 with value: 0.9609427567081491.\u001B[0m\n",
      "\u001B[32m[I 2022-05-17 17:43:48,564]\u001B[0m Trial 62 finished with value: 0.960917603114015 and parameters: {'max_depth': 88, 'max_leaf_nodes': 929, 'n_estimators': 157, 'max_features': 'sqrt', 'min_samples_leaf': 2, 'criterion': 'gini'}. Best is trial 31 with value: 0.9609427567081491.\u001B[0m\n",
      "\u001B[32m[I 2022-05-17 17:43:57,148]\u001B[0m Trial 63 finished with value: 0.9608044119404111 and parameters: {'max_depth': 87, 'max_leaf_nodes': 838, 'n_estimators': 183, 'max_features': 'sqrt', 'min_samples_leaf': 2, 'criterion': 'gini'}. Best is trial 31 with value: 0.9609427567081491.\u001B[0m\n",
      "\u001B[32m[I 2022-05-17 17:44:05,449]\u001B[0m Trial 64 finished with value: 0.9609050263169479 and parameters: {'max_depth': 91, 'max_leaf_nodes': 968, 'n_estimators': 176, 'max_features': 'sqrt', 'min_samples_leaf': 2, 'criterion': 'gini'}. Best is trial 31 with value: 0.9609427567081491.\u001B[0m\n",
      "\u001B[32m[I 2022-05-17 17:44:15,337]\u001B[0m Trial 65 finished with value: 0.960917603114015 and parameters: {'max_depth': 92, 'max_leaf_nodes': 969, 'n_estimators': 176, 'max_features': 'sqrt', 'min_samples_leaf': 2, 'criterion': 'gini'}. Best is trial 31 with value: 0.9609427567081491.\u001B[0m\n",
      "\u001B[32m[I 2022-05-17 17:44:24,338]\u001B[0m Trial 66 finished with value: 0.9607855467448105 and parameters: {'max_depth': 95, 'max_leaf_nodes': 978, 'n_estimators': 192, 'max_features': 'sqrt', 'min_samples_leaf': 2, 'criterion': 'gini'}. Best is trial 31 with value: 0.9609427567081491.\u001B[0m\n",
      "\u001B[32m[I 2022-05-17 17:44:32,748]\u001B[0m Trial 67 finished with value: 0.9608735843242802 and parameters: {'max_depth': 93, 'max_leaf_nodes': 981, 'n_estimators': 178, 'max_features': 'sqrt', 'min_samples_leaf': 2, 'criterion': 'gini'}. Best is trial 31 with value: 0.9609427567081491.\u001B[0m\n",
      "\u001B[32m[I 2022-05-17 17:44:41,175]\u001B[0m Trial 68 finished with value: 0.9608295655345453 and parameters: {'max_depth': 92, 'max_leaf_nodes': 967, 'n_estimators': 178, 'max_features': 'sqrt', 'min_samples_leaf': 2, 'criterion': 'gini'}. Best is trial 31 with value: 0.9609427567081491.\u001B[0m\n",
      "\u001B[32m[I 2022-05-17 17:44:49,724]\u001B[0m Trial 69 finished with value: 0.9607981235418775 and parameters: {'max_depth': 96, 'max_leaf_nodes': 931, 'n_estimators': 186, 'max_features': 'sqrt', 'min_samples_leaf': 3, 'criterion': 'gini'}. Best is trial 31 with value: 0.9609427567081491.\u001B[0m\n",
      "\u001B[32m[I 2022-05-17 17:44:52,307]\u001B[0m Trial 70 finished with value: 0.9603139168547946 and parameters: {'max_depth': 84, 'max_leaf_nodes': 1000, 'n_estimators': 50, 'max_features': 'sqrt', 'min_samples_leaf': 2, 'criterion': 'entropy'}. Best is trial 31 with value: 0.9609427567081491.\u001B[0m\n",
      "\u001B[32m[I 2022-05-17 17:45:00,441]\u001B[0m Trial 71 finished with value: 0.960861007527213 and parameters: {'max_depth': 98, 'max_leaf_nodes': 974, 'n_estimators': 175, 'max_features': 'sqrt', 'min_samples_leaf': 2, 'criterion': 'gini'}. Best is trial 31 with value: 0.9609427567081491.\u001B[0m\n",
      "\u001B[32m[I 2022-05-17 17:45:10,083]\u001B[0m Trial 72 finished with value: 0.9608044119404111 and parameters: {'max_depth': 99, 'max_leaf_nodes': 961, 'n_estimators': 194, 'max_features': 'sqrt', 'min_samples_leaf': 2, 'criterion': 'gini'}. Best is trial 31 with value: 0.9609427567081491.\u001B[0m\n",
      "\u001B[32m[I 2022-05-17 17:45:18,269]\u001B[0m Trial 73 finished with value: 0.9608295655345453 and parameters: {'max_depth': 92, 'max_leaf_nodes': 928, 'n_estimators': 175, 'max_features': 'sqrt', 'min_samples_leaf': 1, 'criterion': 'gini'}. Best is trial 31 with value: 0.9609427567081491.\u001B[0m\n",
      "\u001B[32m[I 2022-05-17 17:45:26,959]\u001B[0m Trial 74 finished with value: 0.960861007527213 and parameters: {'max_depth': 80, 'max_leaf_nodes': 970, 'n_estimators': 181, 'max_features': 'sqrt', 'min_samples_leaf': 2, 'criterion': 'gini'}. Best is trial 31 with value: 0.9609427567081491.\u001B[0m\n",
      "\u001B[32m[I 2022-05-17 17:45:35,598]\u001B[0m Trial 75 finished with value: 0.9608735843242802 and parameters: {'max_depth': 84, 'max_leaf_nodes': 889, 'n_estimators': 173, 'max_features': 'sqrt', 'min_samples_leaf': 1, 'criterion': 'gini'}. Best is trial 31 with value: 0.9609427567081491.\u001B[0m\n",
      "\u001B[32m[I 2022-05-17 17:45:43,486]\u001B[0m Trial 76 finished with value: 0.9607478163536092 and parameters: {'max_depth': 84, 'max_leaf_nodes': 820, 'n_estimators': 162, 'max_features': 'sqrt', 'min_samples_leaf': 1, 'criterion': 'gini'}. Best is trial 31 with value: 0.9609427567081491.\u001B[0m\n",
      "\u001B[32m[I 2022-05-17 17:45:51,632]\u001B[0m Trial 77 finished with value: 0.9598611521603794 and parameters: {'max_depth': 75, 'max_leaf_nodes': 345, 'n_estimators': 186, 'max_features': 'sqrt', 'min_samples_leaf': 1, 'criterion': 'gini'}. Best is trial 31 with value: 0.9609427567081491.\u001B[0m\n",
      "\u001B[32m[I 2022-05-17 17:45:59,942]\u001B[0m Trial 78 finished with value: 0.9608484307301459 and parameters: {'max_depth': 92, 'max_leaf_nodes': 893, 'n_estimators': 171, 'max_features': 'sqrt', 'min_samples_leaf': 3, 'criterion': 'gini'}. Best is trial 31 with value: 0.9609427567081491.\u001B[0m\n",
      "\u001B[32m[I 2022-05-17 17:46:08,715]\u001B[0m Trial 79 finished with value: 0.960861007527213 and parameters: {'max_depth': 72, 'max_leaf_nodes': 931, 'n_estimators': 180, 'max_features': 'sqrt', 'min_samples_leaf': 1, 'criterion': 'gini'}. Best is trial 31 with value: 0.9609427567081491.\u001B[0m\n",
      "\u001B[32m[I 2022-05-17 17:46:17,736]\u001B[0m Trial 80 finished with value: 0.9608107003389447 and parameters: {'max_depth': 78, 'max_leaf_nodes': 900, 'n_estimators': 195, 'max_features': 'sqrt', 'min_samples_leaf': 1, 'criterion': 'gini'}. Best is trial 31 with value: 0.9609427567081491.\u001B[0m\n",
      "\u001B[32m[I 2022-05-17 17:46:26,695]\u001B[0m Trial 81 finished with value: 0.9608421423316124 and parameters: {'max_depth': 80, 'max_leaf_nodes': 975, 'n_estimators': 183, 'max_features': 'sqrt', 'min_samples_leaf': 2, 'criterion': 'gini'}. Best is trial 31 with value: 0.9609427567081491.\u001B[0m\n",
      "\u001B[32m[I 2022-05-17 17:46:35,202]\u001B[0m Trial 82 finished with value: 0.9607855467448105 and parameters: {'max_depth': 72, 'max_leaf_nodes': 933, 'n_estimators': 177, 'max_features': 'sqrt', 'min_samples_leaf': 1, 'criterion': 'gini'}. Best is trial 31 with value: 0.9609427567081491.\u001B[0m\n",
      "\u001B[32m[I 2022-05-17 17:46:43,230]\u001B[0m Trial 83 finished with value: 0.9608547191286795 and parameters: {'max_depth': 85, 'max_leaf_nodes': 882, 'n_estimators': 167, 'max_features': 'sqrt', 'min_samples_leaf': 1, 'criterion': 'gini'}. Best is trial 31 with value: 0.9609427567081491.\u001B[0m\n",
      "\u001B[32m[I 2022-05-17 17:46:52,190]\u001B[0m Trial 84 finished with value: 0.9607478163536092 and parameters: {'max_depth': 90, 'max_leaf_nodes': 852, 'n_estimators': 188, 'max_features': 'sqrt', 'min_samples_leaf': 1, 'criterion': 'gini'}. Best is trial 31 with value: 0.9609427567081491.\u001B[0m\n",
      "\u001B[32m[I 2022-05-17 17:47:00,157]\u001B[0m Trial 85 finished with value: 0.9609553335052162 and parameters: {'max_depth': 89, 'max_leaf_nodes': 936, 'n_estimators': 173, 'max_features': 'log2', 'min_samples_leaf': 2, 'criterion': 'gini'}. Best is trial 85 with value: 0.9609553335052162.\u001B[0m\n",
      "\u001B[32m[I 2022-05-17 17:47:07,841]\u001B[0m Trial 86 finished with value: 0.9609616219037498 and parameters: {'max_depth': 96, 'max_leaf_nodes': 950, 'n_estimators': 162, 'max_features': 'log2', 'min_samples_leaf': 2, 'criterion': 'gini'}. Best is trial 86 with value: 0.9609616219037498.\u001B[0m\n",
      "\u001B[32m[I 2022-05-17 17:47:16,534]\u001B[0m Trial 87 finished with value: 0.9603264936518617 and parameters: {'max_depth': 95, 'max_leaf_nodes': 950, 'n_estimators': 163, 'max_features': 'log2', 'min_samples_leaf': 3, 'criterion': 'entropy'}. Best is trial 86 with value: 0.9609616219037498.\u001B[0m\n",
      "\u001B[32m[I 2022-05-17 17:47:24,740]\u001B[0m Trial 88 finished with value: 0.9608924495198807 and parameters: {'max_depth': 89, 'max_leaf_nodes': 1000, 'n_estimators': 169, 'max_features': 'log2', 'min_samples_leaf': 2, 'criterion': 'gini'}. Best is trial 86 with value: 0.9609616219037498.\u001B[0m\n",
      "\u001B[32m[I 2022-05-17 17:47:31,548]\u001B[0m Trial 89 finished with value: 0.9608358539330789 and parameters: {'max_depth': 87, 'max_leaf_nodes': 918, 'n_estimators': 145, 'max_features': 'log2', 'min_samples_leaf': 2, 'criterion': 'gini'}. Best is trial 86 with value: 0.9609616219037498.\u001B[0m\n",
      "\u001B[32m[I 2022-05-17 17:47:39,656]\u001B[0m Trial 90 finished with value: 0.9609553335052162 and parameters: {'max_depth': 97, 'max_leaf_nodes': 993, 'n_estimators': 168, 'max_features': 'log2', 'min_samples_leaf': 3, 'criterion': 'gini'}. Best is trial 86 with value: 0.9609616219037498.\u001B[0m\n",
      "\u001B[32m[I 2022-05-17 17:47:47,520]\u001B[0m Trial 91 finished with value: 0.9609553335052162 and parameters: {'max_depth': 97, 'max_leaf_nodes': 951, 'n_estimators': 168, 'max_features': 'log2', 'min_samples_leaf': 3, 'criterion': 'gini'}. Best is trial 86 with value: 0.9609616219037498.\u001B[0m\n",
      "\u001B[32m[I 2022-05-17 17:47:54,939]\u001B[0m Trial 92 finished with value: 0.9609113147154814 and parameters: {'max_depth': 97, 'max_leaf_nodes': 943, 'n_estimators': 159, 'max_features': 'log2', 'min_samples_leaf': 3, 'criterion': 'gini'}. Best is trial 86 with value: 0.9609616219037498.\u001B[0m\n",
      "\u001B[32m[I 2022-05-17 17:48:02,265]\u001B[0m Trial 93 finished with value: 0.960917603114015 and parameters: {'max_depth': 98, 'max_leaf_nodes': 949, 'n_estimators': 158, 'max_features': 'log2', 'min_samples_leaf': 3, 'criterion': 'gini'}. Best is trial 86 with value: 0.9609616219037498.\u001B[0m\n",
      "\u001B[32m[I 2022-05-17 17:48:09,794]\u001B[0m Trial 94 finished with value: 0.9608861611213473 and parameters: {'max_depth': 97, 'max_leaf_nodes': 949, 'n_estimators': 157, 'max_features': 'log2', 'min_samples_leaf': 3, 'criterion': 'gini'}. Best is trial 86 with value: 0.9609616219037498.\u001B[0m\n",
      "\u001B[32m[I 2022-05-17 17:48:17,058]\u001B[0m Trial 95 finished with value: 0.9608169887374782 and parameters: {'max_depth': 100, 'max_leaf_nodes': 894, 'n_estimators': 149, 'max_features': 'log2', 'min_samples_leaf': 3, 'criterion': 'gini'}. Best is trial 86 with value: 0.9609616219037498.\u001B[0m\n",
      "\u001B[32m[I 2022-05-17 17:48:24,665]\u001B[0m Trial 96 finished with value: 0.9608421423316124 and parameters: {'max_depth': 94, 'max_leaf_nodes': 804, 'n_estimators': 160, 'max_features': 'log2', 'min_samples_leaf': 3, 'criterion': 'gini'}. Best is trial 86 with value: 0.9609616219037498.\u001B[0m\n",
      "\u001B[32m[I 2022-05-17 17:48:31,769]\u001B[0m Trial 97 finished with value: 0.9603202052533282 and parameters: {'max_depth': 97, 'max_leaf_nodes': 515, 'n_estimators': 155, 'max_features': 'log2', 'min_samples_leaf': 3, 'criterion': 'gini'}. Best is trial 86 with value: 0.9609616219037498.\u001B[0m\n",
      "\u001B[32m[I 2022-05-17 17:48:39,631]\u001B[0m Trial 98 finished with value: 0.9608421423316124 and parameters: {'max_depth': 100, 'max_leaf_nodes': 849, 'n_estimators': 162, 'max_features': 'log2', 'min_samples_leaf': 4, 'criterion': 'gini'}. Best is trial 86 with value: 0.9609616219037498.\u001B[0m\n",
      "\u001B[32m[I 2022-05-17 17:48:48,826]\u001B[0m Trial 99 finished with value: 0.9603202052533282 and parameters: {'max_depth': 94, 'max_leaf_nodes': 949, 'n_estimators': 172, 'max_features': 'log2', 'min_samples_leaf': 3, 'criterion': 'entropy'}. Best is trial 86 with value: 0.9609616219037498.\u001B[0m\n"
     ]
    },
    {
     "name": "stdout",
     "output_type": "stream",
     "text": [
      "study.best_params: 0.9609616219037498\n",
      "Number of finished trials: 100\n",
      "Best trial: {'max_depth': 96, 'max_leaf_nodes': 950, 'n_estimators': 162, 'max_features': 'log2', 'min_samples_leaf': 2, 'criterion': 'gini'}\n",
      "study.best_params: {'max_depth': 96, 'max_leaf_nodes': 950, 'n_estimators': 162, 'max_features': 'log2', 'min_samples_leaf': 2, 'criterion': 'gini'}\n"
     ]
    }
   ],
   "source": [
    "def RF_objective(trial):\n",
    "\n",
    "    max_depth = trial.suggest_int('max_depth', 1, 100)\n",
    "    max_leaf_nodes = trial.suggest_int('max_leaf_nodes', 2, 1000)\n",
    "    n_estimators =  trial.suggest_int('n_estimators', 50, 200)\n",
    "    max_features =  trial.suggest_categorical('max_features', ['auto', 'sqrt', 'log2'])\n",
    "    min_samples_leaf =  trial.suggest_int('min_samples_leaf', 1, 10)\n",
    "    criterion = trial.suggest_categorical('criterion', ['gini', 'entropy'])\n",
    "\n",
    "    model = RandomForestClassifier(\n",
    "            max_depth = max_depth,\n",
    "            max_leaf_nodes = max_leaf_nodes,\n",
    "            n_estimators = n_estimators,\n",
    "            n_jobs=-1,\n",
    "            min_samples_leaf = min_samples_leaf,\n",
    "            max_features = max_features,\n",
    "            criterion = criterion,\n",
    "            random_state=42)\n",
    "\n",
    "\n",
    "    model.fit(X_train, y_train)\n",
    "\n",
    "    pred = model.predict(X_test)\n",
    "    score = accuracy_score(y_test, pred)\n",
    "\n",
    "    return score\n",
    "\n",
    "#Execute optuna and set hyperparameters\n",
    "\n",
    "\n",
    "RF_study = optuna.create_study(direction='maximize')\n",
    "RF_study.optimize(RF_objective, n_trials = 100)\n",
    "print('study.best_params:', RF_study.best_trial.value)\n",
    "print('Number of finished trials:', len(RF_study.trials))\n",
    "print('Best trial:', RF_study.best_trial.params)\n",
    "print('study.best_params:', RF_study.best_params)"
   ],
   "metadata": {
    "collapsed": false,
    "pycharm": {
     "name": "#%%\n"
    }
   }
  },
  {
   "cell_type": "code",
   "execution_count": 43,
   "outputs": [
    {
     "data": {
      "text/plain": "{'max_depth': 96,\n 'max_leaf_nodes': 950,\n 'n_estimators': 162,\n 'max_features': 'log2',\n 'min_samples_leaf': 2,\n 'criterion': 'gini'}"
     },
     "execution_count": 43,
     "metadata": {},
     "output_type": "execute_result"
    }
   ],
   "source": [
    "parameter = RF_study.best_params\n",
    "parameter"
   ],
   "metadata": {
    "collapsed": false,
    "pycharm": {
     "name": "#%%\n"
    }
   }
  },
  {
   "cell_type": "code",
   "execution_count": 48,
   "outputs": [],
   "source": [
    "model = RandomForestClassifier(\n",
    "            max_depth = parameter.get('max_depth'),\n",
    "            max_leaf_nodes = parameter.get('max_leaf_nodes'),\n",
    "            n_estimators = parameter.get('n_estimators'),\n",
    "            n_jobs=-1,\n",
    "            min_samples_leaf = parameter.get('min_samples_leaf'),\n",
    "            max_features = parameter.get('max_features'),\n",
    "            criterion = parameter.get('criterion'),\n",
    "            random_state=25 )\n",
    "\n",
    "model.fit(X = X_train, y = y_train)\n",
    "y_pred = model.predict(X_test)"
   ],
   "metadata": {
    "collapsed": false,
    "pycharm": {
     "name": "#%%\n"
    }
   }
  },
  {
   "cell_type": "code",
   "execution_count": 49,
   "outputs": [],
   "source": [
    "y_true = y_test\n",
    "y_true = pd.DataFrame(y_true)\n",
    "y_pred = pd.DataFrame(y_pred)\n",
    "y_true.reset_index(inplace = True)"
   ],
   "metadata": {
    "collapsed": false,
    "pycharm": {
     "name": "#%%\n"
    }
   }
  },
  {
   "cell_type": "code",
   "execution_count": 50,
   "outputs": [],
   "source": [
    "result = pd.concat([y_true,y_pred],axis=1)\n",
    "result.columns = ['index','true','pred']"
   ],
   "metadata": {
    "collapsed": false,
    "pycharm": {
     "name": "#%%\n"
    }
   }
  },
  {
   "cell_type": "code",
   "execution_count": 51,
   "outputs": [
    {
     "name": "stdout",
     "output_type": "stream",
     "text": [
      "정확도 : 0.9607\n",
      "f1 : 0.9592\n",
      "recall : 0.9536\n",
      "precision : 0.9649\n"
     ]
    }
   ],
   "source": [
    "from sklearn.metrics import f1_score\n",
    "from sklearn.metrics import recall_score\n",
    "from sklearn.metrics import precision_score\n",
    "\n",
    "age_result = result[['true','pred']]\n",
    "print('정확도 :', round(accuracy_score(result['true'],result['pred']),4))\n",
    "print('f1 :', round(f1_score(result['true'],result['pred']),4))\n",
    "print('recall :', round(recall_score(result['true'],result['pred']),4))\n",
    "print('precision :', round(precision_score(result['true'],result['pred']),4))\n"
   ],
   "metadata": {
    "collapsed": false,
    "pycharm": {
     "name": "#%%\n"
    }
   }
  },
  {
   "cell_type": "markdown",
   "source": [
    "# Feature 별 중요도"
   ],
   "metadata": {
    "collapsed": false
   }
  },
  {
   "cell_type": "code",
   "execution_count": 52,
   "outputs": [
    {
     "name": "stdout",
     "output_type": "stream",
     "text": [
      "Feature ranking:\n",
      "1. feature 신장(5Cm단위) (0.310)\n",
      "2. feature 혈색소 (0.234)\n",
      "3. feature 흡연상태 (0.194)\n",
      "4. feature 혈청크레아티닌 (0.148)\n",
      "5. feature 체중(5Kg단위) (0.067)\n",
      "6. feature 감마지티피 (0.026)\n",
      "7. feature 허리둘레 (0.021)\n"
     ]
    },
    {
     "data": {
      "text/plain": "<Figure size 432x288 with 1 Axes>",
      "image/png": "[encoded data removed]"
     },
     "metadata": {
      "needs_background": "light"
     },
     "output_type": "display_data"
    }
   ],
   "source": [
    "import matplotlib.pyplot as plt\n",
    "\n",
    "importances = model.feature_importances_\n",
    "std = np.std([tree.feature_importances_ for tree in model.estimators_], axis=0)\n",
    "indices = np.argsort(importances)[::-1]\n",
    "print(\"Feature ranking:\")\n",
    "\n",
    "for f in range(X_train.shape[1]):\n",
    "    print(\"{}. feature {} ({:.3f})\".format(f + 1, X_train.columns[indices][f], importances[indices[f]]))\n",
    "\n",
    "# Plot the impurity-based feature importances of the forest\n",
    "plt.figure()\n",
    "plt.title(\"Feature importances\")\n",
    "plt.bar(range(X_train.shape[1]), importances[indices],\n",
    "        color=\"r\", yerr=std[indices], align=\"center\")\n",
    "plt.xticks(range(X_train.shape[1]), X_train.columns[indices], rotation=45)\n",
    "plt.xlim([-1, X_train.shape[1]])\n",
    "plt.show()"
   ],
   "metadata": {
    "collapsed": false,
    "pycharm": {
     "name": "#%%\n"
    }
   }
  }
 ],
 "metadata": {
  "kernelspec": {
   "display_name": "Python 3",
   "language": "python",
   "name": "python3"
  },
  "language_info": {
   "codemirror_mode": {
    "name": "ipython",
    "version": 2
   },
   "file_extension": ".py",
   "mimetype": "text/x-python",
   "name": "python",
   "nbconvert_exporter": "python",
   "pygments_lexer": "ipython2",
   "version": "2.7.6"
  }
 },
 "nbformat": 4,
 "nbformat_minor": 0
}