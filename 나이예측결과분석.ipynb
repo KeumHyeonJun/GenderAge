{
 "cells": [
  {
   "cell_type": "code",
   "execution_count": 1,
   "metadata": {
    "collapsed": true
   },
   "outputs": [],
   "source": [
    "import pandas as pd"
   ]
  },
  {
   "cell_type": "code",
   "execution_count": 2,
   "outputs": [],
   "source": [
    "data = pd.read_csv('NHIS_OPEN_GJ_2017_v1.1.csv',encoding='cp949')\n",
    "result = pd.read_csv('나이예측결과_sigmoid.csv')"
   ],
   "metadata": {
    "collapsed": false,
    "pycharm": {
     "name": "#%%\n"
    }
   }
  },
  {
   "cell_type": "code",
   "execution_count": 3,
   "outputs": [],
   "source": [
    "data = pd.read_csv('NHIS_OPEN_GJ_2017_v1.1.csv',encoding='cp949')\n"
   ],
   "metadata": {
    "collapsed": false,
    "pycharm": {
     "name": "#%%\n"
    }
   }
  },
  {
   "cell_type": "code",
   "execution_count": 4,
   "outputs": [
    {
     "data": {
      "text/plain": "            ID  실제값  예측값  성별코드  연령대코드(5세단위)  시도코드  신장(5Cm단위)  체중(5Kg단위)  허리둘레  \\\n0            5  5.0  5.0     1           11    30        165         60  80.0   \n1           20  6.0  6.0     1           13    44        165         60  85.0   \n2           35  3.0  4.0     1            7    48        170         80  94.0   \n3           55  4.0  2.0     1            9    30        175         65  72.0   \n4           75  5.0  5.0     1           12    31        170         75  91.0   \n...        ...  ...  ...   ...          ...   ...        ...        ...   ...   \n159018  999970  5.0  4.0     2           12    47        160         70  91.2   \n159019  999980  5.0  3.0     2           12    26        155         60  73.0   \n159020  999985  5.0  5.0     2           11    50        150         60  85.0   \n159021  999990  6.0  5.0     2           13    41        150         65  83.0   \n159022  999995  5.0  5.0     2           11    27        150         50  72.6   \n\n        시력(좌)  ...  LDL콜레스테롤   혈색소  요단백  혈청크레아티닌  (혈청지오티)AST  (혈청지오티)ALT  \\\n0         1.0  ...     117.0  13.8  1.0      0.8        19.0        12.0   \n1         0.3  ...     111.0  15.2  1.0      1.0        19.0        20.0   \n2         0.9  ...     150.0  15.3  1.0      0.8        22.0        27.0   \n3         0.9  ...      86.0  13.8  1.0      1.0        19.0        12.0   \n4         1.5  ...      71.0  15.3  1.0      1.0        23.0        36.0   \n...       ...  ...       ...   ...  ...      ...         ...         ...   \n159018    1.2  ...     136.0  14.3  1.0      0.5        20.0        18.0   \n159019    1.2  ...     135.0  13.3  1.0      0.6        23.0        17.0   \n159020    1.0  ...      95.0  13.3  1.0      0.7        21.0        20.0   \n159021    0.7  ...     153.0  13.1  1.0      0.6        29.0        23.0   \n159022    1.0  ...     105.0  15.2  1.0      0.8        28.0        26.0   \n\n        감마지티피  흡연상태  음주여부  구강검진수검여부  \n0        25.0   1.0     N         Y  \n1        48.0   3.0     Y         N  \n2        29.0   3.0     Y         Y  \n3        22.0   3.0     Y         N  \n4        28.0   2.0     Y         Y  \n...       ...   ...   ...       ...  \n159018   25.0   1.0     N         N  \n159019   17.0   1.0     N         Y  \n159020   30.0   1.0     N         Y  \n159021   20.0   2.0     Y         Y  \n159022   29.0   1.0     N         Y  \n\n[159023 rows x 29 columns]",
      "text/html": "<div>\n<style scoped>\n    .dataframe tbody tr th:only-of-type {\n        vertical-align: middle;\n    }\n\n    .dataframe tbody tr th {\n        vertical-align: top;\n    }\n\n    .dataframe thead th {\n        text-align: right;\n    }\n</style>\n<table border=\"1\" class=\"dataframe\">\n  <thead>\n    <tr style=\"text-align: right;\">\n      <th></th>\n      <th>ID</th>\n      <th>실제값</th>\n      <th>예측값</th>\n      <th>성별코드</th>\n      <th>연령대코드(5세단위)</th>\n      <th>시도코드</th>\n      <th>신장(5Cm단위)</th>\n      <th>체중(5Kg단위)</th>\n      <th>허리둘레</th>\n      <th>시력(좌)</th>\n      <th>...</th>\n      <th>LDL콜레스테롤</th>\n      <th>혈색소</th>\n      <th>요단백</th>\n      <th>혈청크레아티닌</th>\n      <th>(혈청지오티)AST</th>\n      <th>(혈청지오티)ALT</th>\n      <th>감마지티피</th>\n      <th>흡연상태</th>\n      <th>음주여부</th>\n      <th>구강검진수검여부</th>\n    </tr>\n  </thead>\n  <tbody>\n    <tr>\n      <th>0</th>\n      <td>5</td>\n      <td>5.0</td>\n      <td>5.0</td>\n      <td>1</td>\n      <td>11</td>\n      <td>30</td>\n      <td>165</td>\n      <td>60</td>\n      <td>80.0</td>\n      <td>1.0</td>\n      <td>...</td>\n      <td>117.0</td>\n      <td>13.8</td>\n      <td>1.0</td>\n      <td>0.8</td>\n      <td>19.0</td>\n      <td>12.0</td>\n      <td>25.0</td>\n      <td>1.0</td>\n      <td>N</td>\n      <td>Y</td>\n    </tr>\n    <tr>\n      <th>1</th>\n      <td>20</td>\n      <td>6.0</td>\n      <td>6.0</td>\n      <td>1</td>\n      <td>13</td>\n      <td>44</td>\n      <td>165</td>\n      <td>60</td>\n      <td>85.0</td>\n      <td>0.3</td>\n      <td>...</td>\n      <td>111.0</td>\n      <td>15.2</td>\n      <td>1.0</td>\n      <td>1.0</td>\n      <td>19.0</td>\n      <td>20.0</td>\n      <td>48.0</td>\n      <td>3.0</td>\n      <td>Y</td>\n      <td>N</td>\n    </tr>\n    <tr>\n      <th>2</th>\n      <td>35</td>\n      <td>3.0</td>\n      <td>4.0</td>\n      <td>1</td>\n      <td>7</td>\n      <td>48</td>\n      <td>170</td>\n      <td>80</td>\n      <td>94.0</td>\n      <td>0.9</td>\n      <td>...</td>\n      <td>150.0</td>\n      <td>15.3</td>\n      <td>1.0</td>\n      <td>0.8</td>\n      <td>22.0</td>\n      <td>27.0</td>\n      <td>29.0</td>\n      <td>3.0</td>\n      <td>Y</td>\n      <td>Y</td>\n    </tr>\n    <tr>\n      <th>3</th>\n      <td>55</td>\n      <td>4.0</td>\n      <td>2.0</td>\n      <td>1</td>\n      <td>9</td>\n      <td>30</td>\n      <td>175</td>\n      <td>65</td>\n      <td>72.0</td>\n      <td>0.9</td>\n      <td>...</td>\n      <td>86.0</td>\n      <td>13.8</td>\n      <td>1.0</td>\n      <td>1.0</td>\n      <td>19.0</td>\n      <td>12.0</td>\n      <td>22.0</td>\n      <td>3.0</td>\n      <td>Y</td>\n      <td>N</td>\n    </tr>\n    <tr>\n      <th>4</th>\n      <td>75</td>\n      <td>5.0</td>\n      <td>5.0</td>\n      <td>1</td>\n      <td>12</td>\n      <td>31</td>\n      <td>170</td>\n      <td>75</td>\n      <td>91.0</td>\n      <td>1.5</td>\n      <td>...</td>\n      <td>71.0</td>\n      <td>15.3</td>\n      <td>1.0</td>\n      <td>1.0</td>\n      <td>23.0</td>\n      <td>36.0</td>\n      <td>28.0</td>\n      <td>2.0</td>\n      <td>Y</td>\n      <td>Y</td>\n    </tr>\n    <tr>\n      <th>...</th>\n      <td>...</td>\n      <td>...</td>\n      <td>...</td>\n      <td>...</td>\n      <td>...</td>\n      <td>...</td>\n      <td>...</td>\n      <td>...</td>\n      <td>...</td>\n      <td>...</td>\n      <td>...</td>\n      <td>...</td>\n      <td>...</td>\n      <td>...</td>\n      <td>...</td>\n      <td>...</td>\n      <td>...</td>\n      <td>...</td>\n      <td>...</td>\n      <td>...</td>\n      <td>...</td>\n    </tr>\n    <tr>\n      <th>159018</th>\n      <td>999970</td>\n      <td>5.0</td>\n      <td>4.0</td>\n      <td>2</td>\n      <td>12</td>\n      <td>47</td>\n      <td>160</td>\n      <td>70</td>\n      <td>91.2</td>\n      <td>1.2</td>\n      <td>...</td>\n      <td>136.0</td>\n      <td>14.3</td>\n      <td>1.0</td>\n      <td>0.5</td>\n      <td>20.0</td>\n      <td>18.0</td>\n      <td>25.0</td>\n      <td>1.0</td>\n      <td>N</td>\n      <td>N</td>\n    </tr>\n    <tr>\n      <th>159019</th>\n      <td>999980</td>\n      <td>5.0</td>\n      <td>3.0</td>\n      <td>2</td>\n      <td>12</td>\n      <td>26</td>\n      <td>155</td>\n      <td>60</td>\n      <td>73.0</td>\n      <td>1.2</td>\n      <td>...</td>\n      <td>135.0</td>\n      <td>13.3</td>\n      <td>1.0</td>\n      <td>0.6</td>\n      <td>23.0</td>\n      <td>17.0</td>\n      <td>17.0</td>\n      <td>1.0</td>\n      <td>N</td>\n      <td>Y</td>\n    </tr>\n    <tr>\n      <th>159020</th>\n      <td>999985</td>\n      <td>5.0</td>\n      <td>5.0</td>\n      <td>2</td>\n      <td>11</td>\n      <td>50</td>\n      <td>150</td>\n      <td>60</td>\n      <td>85.0</td>\n      <td>1.0</td>\n      <td>...</td>\n      <td>95.0</td>\n      <td>13.3</td>\n      <td>1.0</td>\n      <td>0.7</td>\n      <td>21.0</td>\n      <td>20.0</td>\n      <td>30.0</td>\n      <td>1.0</td>\n      <td>N</td>\n      <td>Y</td>\n    </tr>\n    <tr>\n      <th>159021</th>\n      <td>999990</td>\n      <td>6.0</td>\n      <td>5.0</td>\n      <td>2</td>\n      <td>13</td>\n      <td>41</td>\n      <td>150</td>\n      <td>65</td>\n      <td>83.0</td>\n      <td>0.7</td>\n      <td>...</td>\n      <td>153.0</td>\n      <td>13.1</td>\n      <td>1.0</td>\n      <td>0.6</td>\n      <td>29.0</td>\n      <td>23.0</td>\n      <td>20.0</td>\n      <td>2.0</td>\n      <td>Y</td>\n      <td>Y</td>\n    </tr>\n    <tr>\n      <th>159022</th>\n      <td>999995</td>\n      <td>5.0</td>\n      <td>5.0</td>\n      <td>2</td>\n      <td>11</td>\n      <td>27</td>\n      <td>150</td>\n      <td>50</td>\n      <td>72.6</td>\n      <td>1.0</td>\n      <td>...</td>\n      <td>105.0</td>\n      <td>15.2</td>\n      <td>1.0</td>\n      <td>0.8</td>\n      <td>28.0</td>\n      <td>26.0</td>\n      <td>29.0</td>\n      <td>1.0</td>\n      <td>N</td>\n      <td>Y</td>\n    </tr>\n  </tbody>\n</table>\n<p>159023 rows × 29 columns</p>\n</div>"
     },
     "execution_count": 4,
     "metadata": {},
     "output_type": "execute_result"
    }
   ],
   "source": [
    "df = pd.merge(result, data, how='inner', left_on='ID',right_on='가입자일련번호')\n",
    "df.drop(['Unnamed: 0','가입자일련번호','기준년도','치아우식증유무',\n",
    "         '결손치유무','치아마모증유무','제3대구치(사랑니)이상','치석','데이터공개일자'],axis=1, inplace=True)\n",
    "df"
   ],
   "metadata": {
    "collapsed": false,
    "pycharm": {
     "name": "#%%\n"
    }
   }
  },
  {
   "cell_type": "code",
   "execution_count": 5,
   "outputs": [],
   "source": [
    "def age(x) :\n",
    "    if x == 5 :\n",
    "        return '20대초반'\n",
    "    elif x == 6 :\n",
    "        return '20대후반'\n",
    "\n",
    "    elif x == 7 :\n",
    "        return '30대초반'\n",
    "    elif x == 8 :\n",
    "        return '30대후반'\n",
    "\n",
    "    elif x == 9 :\n",
    "        return '40대초반'\n",
    "    elif x == 10 :\n",
    "        return '40대후반'\n",
    "\n",
    "    elif x == 11 :\n",
    "        return '50대초반'\n",
    "    elif x == 12 :\n",
    "        return '50대후반'\n",
    "\n",
    "    elif x == 13 :\n",
    "        return '60대초반'\n",
    "    elif x == 14 :\n",
    "        return '60대후반'\n",
    "\n",
    "    elif x == 15 :\n",
    "        return '70대초반'\n",
    "    elif x == 16 :\n",
    "        return '70대후반'\n",
    "\n",
    "    elif x == 17 :\n",
    "        return '80대초반'\n",
    "    elif x == 18 :\n",
    "        return '80대후반이후'\n",
    "\n",
    "    else:\n",
    "        return x\n",
    "df['연령대코드(5세단위)'] =df['연령대코드(5세단위)'].apply(lambda x: age(x))\n"
   ],
   "metadata": {
    "collapsed": false,
    "pycharm": {
     "name": "#%%\n"
    }
   }
  },
  {
   "cell_type": "markdown",
   "source": [
    "# 20대 예측 결과"
   ],
   "metadata": {
    "collapsed": false
   }
  },
  {
   "cell_type": "code",
   "execution_count": 6,
   "outputs": [],
   "source": [
    "import matplotlib.pyplot as plt\n",
    "from matplotlib import rc\n",
    "rc('font', family='AppleGothic')\n",
    "plt.rcParams['axes.unicode_minus'] = False"
   ],
   "metadata": {
    "collapsed": false,
    "pycharm": {
     "name": "#%%\n"
    }
   }
  },
  {
   "cell_type": "markdown",
   "source": [
    "### 20정확도"
   ],
   "metadata": {
    "collapsed": false,
    "pycharm": {
     "name": "#%% md\n"
    }
   }
  },
  {
   "cell_type": "code",
   "execution_count": 7,
   "outputs": [],
   "source": [
    "from sklearn.metrics import accuracy_score\n",
    "from sklearn.metrics  import f1_score\n",
    "from sklearn.metrics import recall_score\n",
    "from sklearn.metrics import precision_score\n"
   ],
   "metadata": {
    "collapsed": false,
    "pycharm": {
     "name": "#%%\n"
    }
   }
  },
  {
   "cell_type": "code",
   "execution_count": 8,
   "outputs": [
    {
     "name": "stdout",
     "output_type": "stream",
     "text": [
      "정확도 0.4851\n",
      "f1 0.6532\n",
      "recall 0.4851\n",
      "precision 1.0\n"
     ]
    }
   ],
   "source": [
    "df20 = df[df['실제값'] == 2]\n",
    "df20 = df20[['실제값','예측값']]\n",
    "def fun(x):\n",
    "    if x == 2 :\n",
    "        return 1\n",
    "    else :\n",
    "        return 0\n",
    "df20['실제값'] = df20['실제값'].apply(lambda x:fun(x))\n",
    "df20['예측값'] = df20['예측값'].apply(lambda x:fun(x))\n",
    "df20\n",
    "print('정확도',round(accuracy_score(df20['실제값'],df20['예측값']),4))\n",
    "print('f1',round(f1_score(df20['실제값'],df20['예측값']),4))\n",
    "print('recall',round(recall_score(df20['실제값'],df20['예측값']),4))\n",
    "print('precision',round(precision_score(df20['실제값'],df20['예측값']),4))"
   ],
   "metadata": {
    "collapsed": false,
    "pycharm": {
     "name": "#%%\n"
    }
   }
  },
  {
   "cell_type": "markdown",
   "source": [
    "## 30대분석"
   ],
   "metadata": {
    "collapsed": false,
    "pycharm": {
     "name": "#%% md\n"
    }
   }
  },
  {
   "cell_type": "code",
   "execution_count": 9,
   "outputs": [
    {
     "data": {
      "text/plain": "30대후반    13512\n30대초반    12866\nName: 연령대코드(5세단위), dtype: int64"
     },
     "execution_count": 9,
     "metadata": {},
     "output_type": "execute_result"
    }
   ],
   "source": [
    "df[(df['실제값'] == 3)]['연령대코드(5세단위)'].value_counts()"
   ],
   "metadata": {
    "collapsed": false,
    "pycharm": {
     "name": "#%%\n"
    }
   }
  },
  {
   "cell_type": "code",
   "execution_count": 10,
   "outputs": [
    {
     "name": "stdout",
     "output_type": "stream",
     "text": [
      "정확도 0.468\n",
      "f1 0.6376\n",
      "recall 0.468\n",
      "precision 1.0\n"
     ]
    }
   ],
   "source": [
    "df30 = df[df['실제값'] == 3]\n",
    "df30 = df30[['실제값','예측값']]\n",
    "def fun(x):\n",
    "    if x == 3 :\n",
    "        return 1\n",
    "    else :\n",
    "        return 0\n",
    "df30['실제값'] = df30['실제값'].apply(lambda x:fun(x))\n",
    "df30['예측값'] = df30['예측값'].apply(lambda x:fun(x))\n",
    "print('정확도',round(accuracy_score(df30['실제값'],df30['예측값']),4))\n",
    "print('f1',round(f1_score(df30['실제값'],df30['예측값']),4))\n",
    "print('recall',round(recall_score(df30['실제값'],df30['예측값']),4))\n",
    "print('precision',round(precision_score(df30['실제값'],df30['예측값']),4))"
   ],
   "metadata": {
    "collapsed": false,
    "pycharm": {
     "name": "#%%\n"
    }
   }
  },
  {
   "cell_type": "markdown",
   "source": [
    "## 40대분석"
   ],
   "metadata": {
    "collapsed": false,
    "pycharm": {
     "name": "#%% md\n"
    }
   }
  },
  {
   "cell_type": "code",
   "execution_count": 11,
   "outputs": [
    {
     "name": "stdout",
     "output_type": "stream",
     "text": [
      "정확도 0.3287\n",
      "f1 0.4947\n",
      "recall 0.3287\n",
      "precision 1.0\n"
     ]
    }
   ],
   "source": [
    "df40 = df[df['실제값'] == 4]\n",
    "df40 = df40[['실제값','예측값']]\n",
    "def fun(x):\n",
    "    if x == 4 :\n",
    "        return 1\n",
    "    else :\n",
    "        return 0\n",
    "df40['실제값'] = df40['실제값'].apply(lambda x:fun(x))\n",
    "df40['예측값'] = df40['예측값'].apply(lambda x:fun(x))\n",
    "print('정확도',round(accuracy_score(df40['실제값'],df40['예측값']),4))\n",
    "print('f1',round(f1_score(df40['실제값'],df40['예측값']),4))\n",
    "print('recall',round(recall_score(df40['실제값'],df40['예측값']),4))\n",
    "print('precision',round(precision_score(df40['실제값'],df40['예측값']),4))"
   ],
   "metadata": {
    "collapsed": false,
    "pycharm": {
     "name": "#%%\n"
    }
   }
  },
  {
   "cell_type": "markdown",
   "source": [
    "## 50대분석"
   ],
   "metadata": {
    "collapsed": false,
    "pycharm": {
     "name": "#%% md\n"
    }
   }
  },
  {
   "cell_type": "code",
   "execution_count": 12,
   "outputs": [
    {
     "name": "stdout",
     "output_type": "stream",
     "text": [
      "정확도 0.2838\n",
      "f1 0.4422\n",
      "recall 0.2838\n",
      "precision 1.0\n"
     ]
    }
   ],
   "source": [
    "df50 = df[df['실제값'] == 5]\n",
    "df50 = df50[['실제값','예측값']]\n",
    "def fun(x):\n",
    "    if x == 5 :\n",
    "        return 1\n",
    "    else :\n",
    "        return 0\n",
    "df50['실제값'] = df50['실제값'].apply(lambda x:fun(x))\n",
    "df50['예측값'] = df50['예측값'].apply(lambda x:fun(x))\n",
    "print('정확도',round(accuracy_score(df50['실제값'],df50['예측값']),4))\n",
    "print('f1',round(f1_score(df50['실제값'],df50['예측값']),4))\n",
    "print('recall',round(recall_score(df50['실제값'],df50['예측값']),4))\n",
    "print('precision',round(precision_score(df50['실제값'],df50['예측값']),4))"
   ],
   "metadata": {
    "collapsed": false,
    "pycharm": {
     "name": "#%%\n"
    }
   }
  },
  {
   "cell_type": "markdown",
   "source": [
    "## 60대분석"
   ],
   "metadata": {
    "collapsed": false,
    "pycharm": {
     "name": "#%% md\n"
    }
   }
  },
  {
   "cell_type": "code",
   "execution_count": 13,
   "outputs": [
    {
     "name": "stdout",
     "output_type": "stream",
     "text": [
      "정확도 0.3487\n",
      "f1 0.5171\n",
      "recall 0.3487\n",
      "precision 1.0\n"
     ]
    }
   ],
   "source": [
    "df60 = df[df['실제값'] == 6]\n",
    "df60 = df60[['실제값','예측값']]\n",
    "def fun(x):\n",
    "    if x == 6 :\n",
    "        return 1\n",
    "    else :\n",
    "        return 0\n",
    "df60['실제값'] = df60['실제값'].apply(lambda x:fun(x))\n",
    "df60['예측값'] = df60['예측값'].apply(lambda x:fun(x))\n",
    "print('정확도',round(accuracy_score(df60['실제값'],df60['예측값']),4))\n",
    "print('f1',round(f1_score(df60['실제값'],df60['예측값']),4))\n",
    "print('recall',round(recall_score(df60['실제값'],df60['예측값']),4))\n",
    "print('precision',round(precision_score(df60['실제값'],df60['예측값']),4))"
   ],
   "metadata": {
    "collapsed": false,
    "pycharm": {
     "name": "#%%\n"
    }
   }
  },
  {
   "cell_type": "markdown",
   "source": [
    "## 70대분석"
   ],
   "metadata": {
    "collapsed": false,
    "pycharm": {
     "name": "#%% md\n"
    }
   }
  },
  {
   "cell_type": "code",
   "execution_count": 14,
   "outputs": [
    {
     "name": "stdout",
     "output_type": "stream",
     "text": [
      "정확도 0.5037\n",
      "f1 0.67\n",
      "recall 0.5037\n",
      "precision 1.0\n"
     ]
    }
   ],
   "source": [
    "df70 = df[df['실제값'] == 7]\n",
    "df70 = df70[['실제값','예측값']]\n",
    "def fun(x):\n",
    "    if x == 7 :\n",
    "        return 1\n",
    "    else :\n",
    "        return 0\n",
    "df70['실제값'] = df70['실제값'].apply(lambda x:fun(x))\n",
    "df70['예측값'] = df70['예측값'].apply(lambda x:fun(x))\n",
    "print('정확도',round(accuracy_score(df70['실제값'],df70['예측값']),4))\n",
    "print('f1',round(f1_score(df70['실제값'],df70['예측값']),4))\n",
    "print('recall',round(recall_score(df70['실제값'],df70['예측값']),4))\n",
    "print('precision',round(precision_score(df70['실제값'],df70['예측값']),4))"
   ],
   "metadata": {
    "collapsed": false,
    "pycharm": {
     "name": "#%%\n"
    }
   }
  },
  {
   "cell_type": "markdown",
   "source": [
    "## 80대분석"
   ],
   "metadata": {
    "collapsed": false,
    "pycharm": {
     "name": "#%% md\n"
    }
   }
  },
  {
   "cell_type": "code",
   "execution_count": 15,
   "outputs": [
    {
     "name": "stdout",
     "output_type": "stream",
     "text": [
      "정확도 0.5287\n",
      "f1 0.6917\n",
      "recall 0.5287\n",
      "precision 1.0\n"
     ]
    }
   ],
   "source": [
    "df80 = df[df['실제값'] == 8]\n",
    "df80 = df80[['실제값','예측값']]\n",
    "def fun(x):\n",
    "    if x == 8 :\n",
    "        return 1\n",
    "    else :\n",
    "        return 0\n",
    "df80['실제값'] = df80['실제값'].apply(lambda x:fun(x))\n",
    "df80['예측값'] = df80['예측값'].apply(lambda x:fun(x))\n",
    "print('정확도',round(accuracy_score(df80['실제값'],df80['예측값']),4))\n",
    "print('f1',round(f1_score(df80['실제값'],df80['예측값']),4))\n",
    "print('recall',round(recall_score(df80['실제값'],df80['예측값']),4))\n",
    "print('precision',round(precision_score(df80['실제값'],df80['예측값']),4))"
   ],
   "metadata": {
    "collapsed": false,
    "pycharm": {
     "name": "#%%\n"
    }
   }
  }
 ],
 "metadata": {
  "kernelspec": {
   "display_name": "Python 3",
   "language": "python",
   "name": "python3"
  },
  "language_info": {
   "codemirror_mode": {
    "name": "ipython",
    "version": 2
   },
   "file_extension": ".py",
   "mimetype": "text/x-python",
   "name": "python",
   "nbconvert_exporter": "python",
   "pygments_lexer": "ipython2",
   "version": "2.7.6"
  }
 },
 "nbformat": 4,
 "nbformat_minor": 0
}