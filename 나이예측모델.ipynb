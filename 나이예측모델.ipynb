{
 "cells": [
  {
   "cell_type": "code",
   "execution_count": 251,
   "outputs": [],
   "source": [
    "\n",
    "import numpy as np\n",
    "import tensorflow_addons as tfa\n",
    "import tensorflow as tf\n",
    "import pandas as pd\n",
    "from tensorflow import feature_column\n",
    "from sklearn.model_selection import train_test_split\n",
    "import warnings\n",
    "warnings.filterwarnings(action='ignore')\n",
    "from silence_tensorflow import silence_tensorflow\n",
    "silence_tensorflow()\n",
    "from sklearn.preprocessing import StandardScaler\n"
   ],
   "metadata": {
    "collapsed": false,
    "pycharm": {
     "name": "#%%\n"
    }
   }
  },
  {
   "cell_type": "code",
   "execution_count": 252,
   "outputs": [
    {
     "data": {
      "text/plain": "   가입자일련번호  성별코드  연령대코드(5세단위)  시도코드  신장(5Cm단위)  체중(5Kg단위)  허리둘레  시력(좌)  시력(우)  \\\n0        1     1           30    43        170         75  90.0    1.0    1.0   \n1        2     1           30    11        180         80  89.0    0.9    1.2   \n2        4     1           50    48        175         80  91.0    1.5    1.2   \n3        5     1           50    30        165         60  80.0    1.0    1.2   \n4        6     1           50    41        165         55  75.0    1.2    1.5   \n\n   청력(좌)  ...  요단백  혈청크레아티닌  (혈청지오티)AST  (혈청지오티)ALT  감마지티피  흡연상태  음주여부  \\\n0    1.0  ...  1.0      1.0        21.0        35.0   40.0   1.0     0   \n1    1.0  ...  1.0      0.9        20.0        36.0   27.0   3.0     1   \n2    1.0  ...  1.0      1.1        29.0        34.0   18.0   1.0     1   \n3    1.0  ...  1.0      0.8        19.0        12.0   25.0   1.0     1   \n4    1.0  ...  3.0      0.8        29.0        40.0   37.0   3.0     0   \n\n   구강검진수검여부  실명(좌)  실명(우)  \n0         0      0      0  \n1         0      0      0  \n2         0      0      0  \n3         0      0      0  \n4         0      0      0  \n\n[5 rows x 29 columns]",
      "text/html": "<div>\n<style scoped>\n    .dataframe tbody tr th:only-of-type {\n        vertical-align: middle;\n    }\n\n    .dataframe tbody tr th {\n        vertical-align: top;\n    }\n\n    .dataframe thead th {\n        text-align: right;\n    }\n</style>\n<table border=\"1\" class=\"dataframe\">\n  <thead>\n    <tr style=\"text-align: right;\">\n      <th></th>\n      <th>가입자일련번호</th>\n      <th>성별코드</th>\n      <th>연령대코드(5세단위)</th>\n      <th>시도코드</th>\n      <th>신장(5Cm단위)</th>\n      <th>체중(5Kg단위)</th>\n      <th>허리둘레</th>\n      <th>시력(좌)</th>\n      <th>시력(우)</th>\n      <th>청력(좌)</th>\n      <th>...</th>\n      <th>요단백</th>\n      <th>혈청크레아티닌</th>\n      <th>(혈청지오티)AST</th>\n      <th>(혈청지오티)ALT</th>\n      <th>감마지티피</th>\n      <th>흡연상태</th>\n      <th>음주여부</th>\n      <th>구강검진수검여부</th>\n      <th>실명(좌)</th>\n      <th>실명(우)</th>\n    </tr>\n  </thead>\n  <tbody>\n    <tr>\n      <th>0</th>\n      <td>1</td>\n      <td>1</td>\n      <td>30</td>\n      <td>43</td>\n      <td>170</td>\n      <td>75</td>\n      <td>90.0</td>\n      <td>1.0</td>\n      <td>1.0</td>\n      <td>1.0</td>\n      <td>...</td>\n      <td>1.0</td>\n      <td>1.0</td>\n      <td>21.0</td>\n      <td>35.0</td>\n      <td>40.0</td>\n      <td>1.0</td>\n      <td>0</td>\n      <td>0</td>\n      <td>0</td>\n      <td>0</td>\n    </tr>\n    <tr>\n      <th>1</th>\n      <td>2</td>\n      <td>1</td>\n      <td>30</td>\n      <td>11</td>\n      <td>180</td>\n      <td>80</td>\n      <td>89.0</td>\n      <td>0.9</td>\n      <td>1.2</td>\n      <td>1.0</td>\n      <td>...</td>\n      <td>1.0</td>\n      <td>0.9</td>\n      <td>20.0</td>\n      <td>36.0</td>\n      <td>27.0</td>\n      <td>3.0</td>\n      <td>1</td>\n      <td>0</td>\n      <td>0</td>\n      <td>0</td>\n    </tr>\n    <tr>\n      <th>2</th>\n      <td>4</td>\n      <td>1</td>\n      <td>50</td>\n      <td>48</td>\n      <td>175</td>\n      <td>80</td>\n      <td>91.0</td>\n      <td>1.5</td>\n      <td>1.2</td>\n      <td>1.0</td>\n      <td>...</td>\n      <td>1.0</td>\n      <td>1.1</td>\n      <td>29.0</td>\n      <td>34.0</td>\n      <td>18.0</td>\n      <td>1.0</td>\n      <td>1</td>\n      <td>0</td>\n      <td>0</td>\n      <td>0</td>\n    </tr>\n    <tr>\n      <th>3</th>\n      <td>5</td>\n      <td>1</td>\n      <td>50</td>\n      <td>30</td>\n      <td>165</td>\n      <td>60</td>\n      <td>80.0</td>\n      <td>1.0</td>\n      <td>1.2</td>\n      <td>1.0</td>\n      <td>...</td>\n      <td>1.0</td>\n      <td>0.8</td>\n      <td>19.0</td>\n      <td>12.0</td>\n      <td>25.0</td>\n      <td>1.0</td>\n      <td>1</td>\n      <td>0</td>\n      <td>0</td>\n      <td>0</td>\n    </tr>\n    <tr>\n      <th>4</th>\n      <td>6</td>\n      <td>1</td>\n      <td>50</td>\n      <td>41</td>\n      <td>165</td>\n      <td>55</td>\n      <td>75.0</td>\n      <td>1.2</td>\n      <td>1.5</td>\n      <td>1.0</td>\n      <td>...</td>\n      <td>3.0</td>\n      <td>0.8</td>\n      <td>29.0</td>\n      <td>40.0</td>\n      <td>37.0</td>\n      <td>3.0</td>\n      <td>0</td>\n      <td>0</td>\n      <td>0</td>\n      <td>0</td>\n    </tr>\n  </tbody>\n</table>\n<p>5 rows × 29 columns</p>\n</div>"
     },
     "execution_count": 252,
     "metadata": {},
     "output_type": "execute_result"
    }
   ],
   "source": [
    "df = pd.read_csv('이상치제거.csv')\n",
    "df.drop(['Unnamed: 0'],axis=1,inplace=True)\n",
    "df.head()"
   ],
   "metadata": {
    "collapsed": false,
    "pycharm": {
     "name": "#%%\n"
    }
   }
  },
  {
   "cell_type": "markdown",
   "source": [
    "# 남녀 따로 정규화"
   ],
   "metadata": {
    "collapsed": false,
    "pycharm": {
     "name": "#%% md\n"
    }
   }
  },
  {
   "cell_type": "code",
   "execution_count": 253,
   "outputs": [],
   "source": [
    "df_male = df.loc[df['성별코드']==1]\n",
    "df_female = df.loc[df['성별코드']==2]"
   ],
   "metadata": {
    "collapsed": false,
    "pycharm": {
     "name": "#%%\n"
    }
   }
  },
  {
   "cell_type": "code",
   "execution_count": 254,
   "outputs": [],
   "source": [
    "\n",
    "Scalar_Index =['신장(5Cm단위)', '체중(5Kg단위)',\n",
    "       '허리둘레', '시력(좌)', '시력(우)', '수축기혈압', '이완기혈압',\n",
    "       '식전혈당(공복혈당)', '총콜레스테롤', '트리글리세라이드', 'HDL콜레스테롤', 'LDL콜레스테롤', '혈색소',\n",
    "       '혈청크레아티닌', '(혈청지오티)AST', '(혈청지오티)ALT', '감마지티피']\n",
    "\n",
    "scaler = StandardScaler()\n",
    "scaler.fit(df_male[Scalar_Index])\n",
    "df_male[Scalar_Index] = scaler.transform(df_male[Scalar_Index])\n",
    "\n",
    "\n",
    "\n",
    "Scalar_Index =['신장(5Cm단위)', '체중(5Kg단위)',\n",
    "       '허리둘레', '시력(좌)', '시력(우)', '수축기혈압', '이완기혈압',\n",
    "       '식전혈당(공복혈당)', '총콜레스테롤', '트리글리세라이드', 'HDL콜레스테롤', 'LDL콜레스테롤', '혈색소',\n",
    "       '혈청크레아티닌', '(혈청지오티)AST', '(혈청지오티)ALT', '감마지티피']\n",
    "\n",
    "\n",
    "scaler = StandardScaler()\n",
    "scaler.fit(df_female[Scalar_Index])\n",
    "df_female[Scalar_Index] = scaler.transform(df_female[Scalar_Index])"
   ],
   "metadata": {
    "collapsed": false,
    "pycharm": {
     "name": "#%%\n"
    }
   }
  },
  {
   "cell_type": "code",
   "execution_count": 255,
   "outputs": [
    {
     "data": {
      "text/plain": "        가입자일련번호  성별코드  연령대코드(5세단위)  시도코드  신장(5Cm단위)  체중(5Kg단위)      허리둘레  \\\n0             1     1           30    43   0.210680   0.586903  0.789218   \n1             2     1           30    11   1.735541   1.067141  0.660236   \n2             4     1           50    48   0.973110   1.067141  0.918200   \n3             5     1           50    30  -0.551751  -0.853812 -0.500603   \n4             6     1           50    41  -0.551751  -1.334051 -1.145513   \n...         ...   ...          ...   ...        ...        ...       ...   \n794465   999989     2           40    29   1.551982  -0.021912 -0.902523   \n794466   999990     2           60    41  -0.841766   1.141014  0.769783   \n794468   999992     2           30    41   1.551982   1.722476  0.543795   \n794471   999995     2           50    27  -0.841766  -0.603375 -0.405351   \n794474   999998     2           40    26  -0.043850  -0.603375 -0.925122   \n\n           시력(좌)     시력(우)  청력(좌)  ...  요단백   혈청크레아티닌  (혈청지오티)AST  (혈청지오티)ALT  \\\n0      -0.028882 -0.066962    1.0  ...  1.0  0.243360   -0.454320    1.108833   \n1      -0.319894  0.264651    1.0  ...  1.0 -0.361805   -0.614998    1.208786   \n2       1.426179  0.264651    1.0  ...  1.0  0.848526    0.831102    1.008881   \n3      -0.028882  0.264651    1.0  ...  1.0 -0.966970   -0.775676   -1.190066   \n4       0.553142  0.762071    1.0  ...  3.0 -0.966970    0.831102    1.608594   \n...          ...       ...    ...  ...  ...       ...         ...         ...   \n794465  0.303639  0.495264    1.0  ...  1.0 -0.865843   -0.454012   -0.835713   \n794466 -0.586664 -0.210551    1.0  ...  1.0 -0.865843    1.180515    0.646153   \n794468  0.303639  0.142356    1.0  ...  1.0 -0.177906   -0.290559   -0.094780   \n794471  0.303639  0.142356    1.0  ...  1.0  0.510031    1.017063    1.016620   \n794474  0.303639 -0.387005    1.0  ...  1.0  0.510031    1.343968    1.140108   \n\n           감마지티피  흡연상태  음주여부  구강검진수검여부  실명(좌)  실명(우)  \n0       0.546706   1.0     0         0      0      0  \n1      -0.275614   3.0     1         0      0      0  \n2      -0.844912   1.0     1         0      0      0  \n3      -0.402124   1.0     1         0      0      0  \n4       0.356940   3.0     0         0      0      0  \n...          ...   ...   ...       ...    ...    ...  \n794465 -1.039201   1.0     1         1      0      0  \n794466  0.055363   2.0     0         0      0      0  \n794468 -0.674347   1.0     1         1      0      0  \n794471  0.876286   1.0     1         0      0      0  \n794474 -0.218278   3.0     0         1      0      0  \n\n[794477 rows x 29 columns]",
      "text/html": "<div>\n<style scoped>\n    .dataframe tbody tr th:only-of-type {\n        vertical-align: middle;\n    }\n\n    .dataframe tbody tr th {\n        vertical-align: top;\n    }\n\n    .dataframe thead th {\n        text-align: right;\n    }\n</style>\n<table border=\"1\" class=\"dataframe\">\n  <thead>\n    <tr style=\"text-align: right;\">\n      <th></th>\n      <th>가입자일련번호</th>\n      <th>성별코드</th>\n      <th>연령대코드(5세단위)</th>\n      <th>시도코드</th>\n      <th>신장(5Cm단위)</th>\n      <th>체중(5Kg단위)</th>\n      <th>허리둘레</th>\n      <th>시력(좌)</th>\n      <th>시력(우)</th>\n      <th>청력(좌)</th>\n      <th>...</th>\n      <th>요단백</th>\n      <th>혈청크레아티닌</th>\n      <th>(혈청지오티)AST</th>\n      <th>(혈청지오티)ALT</th>\n      <th>감마지티피</th>\n      <th>흡연상태</th>\n      <th>음주여부</th>\n      <th>구강검진수검여부</th>\n      <th>실명(좌)</th>\n      <th>실명(우)</th>\n    </tr>\n  </thead>\n  <tbody>\n    <tr>\n      <th>0</th>\n      <td>1</td>\n      <td>1</td>\n      <td>30</td>\n      <td>43</td>\n      <td>0.210680</td>\n      <td>0.586903</td>\n      <td>0.789218</td>\n      <td>-0.028882</td>\n      <td>-0.066962</td>\n      <td>1.0</td>\n      <td>...</td>\n      <td>1.0</td>\n      <td>0.243360</td>\n      <td>-0.454320</td>\n      <td>1.108833</td>\n      <td>0.546706</td>\n      <td>1.0</td>\n      <td>0</td>\n      <td>0</td>\n      <td>0</td>\n      <td>0</td>\n    </tr>\n    <tr>\n      <th>1</th>\n      <td>2</td>\n      <td>1</td>\n      <td>30</td>\n      <td>11</td>\n      <td>1.735541</td>\n      <td>1.067141</td>\n      <td>0.660236</td>\n      <td>-0.319894</td>\n      <td>0.264651</td>\n      <td>1.0</td>\n      <td>...</td>\n      <td>1.0</td>\n      <td>-0.361805</td>\n      <td>-0.614998</td>\n      <td>1.208786</td>\n      <td>-0.275614</td>\n      <td>3.0</td>\n      <td>1</td>\n      <td>0</td>\n      <td>0</td>\n      <td>0</td>\n    </tr>\n    <tr>\n      <th>2</th>\n      <td>4</td>\n      <td>1</td>\n      <td>50</td>\n      <td>48</td>\n      <td>0.973110</td>\n      <td>1.067141</td>\n      <td>0.918200</td>\n      <td>1.426179</td>\n      <td>0.264651</td>\n      <td>1.0</td>\n      <td>...</td>\n      <td>1.0</td>\n      <td>0.848526</td>\n      <td>0.831102</td>\n      <td>1.008881</td>\n      <td>-0.844912</td>\n      <td>1.0</td>\n      <td>1</td>\n      <td>0</td>\n      <td>0</td>\n      <td>0</td>\n    </tr>\n    <tr>\n      <th>3</th>\n      <td>5</td>\n      <td>1</td>\n      <td>50</td>\n      <td>30</td>\n      <td>-0.551751</td>\n      <td>-0.853812</td>\n      <td>-0.500603</td>\n      <td>-0.028882</td>\n      <td>0.264651</td>\n      <td>1.0</td>\n      <td>...</td>\n      <td>1.0</td>\n      <td>-0.966970</td>\n      <td>-0.775676</td>\n      <td>-1.190066</td>\n      <td>-0.402124</td>\n      <td>1.0</td>\n      <td>1</td>\n      <td>0</td>\n      <td>0</td>\n      <td>0</td>\n    </tr>\n    <tr>\n      <th>4</th>\n      <td>6</td>\n      <td>1</td>\n      <td>50</td>\n      <td>41</td>\n      <td>-0.551751</td>\n      <td>-1.334051</td>\n      <td>-1.145513</td>\n      <td>0.553142</td>\n      <td>0.762071</td>\n      <td>1.0</td>\n      <td>...</td>\n      <td>3.0</td>\n      <td>-0.966970</td>\n      <td>0.831102</td>\n      <td>1.608594</td>\n      <td>0.356940</td>\n      <td>3.0</td>\n      <td>0</td>\n      <td>0</td>\n      <td>0</td>\n      <td>0</td>\n    </tr>\n    <tr>\n      <th>...</th>\n      <td>...</td>\n      <td>...</td>\n      <td>...</td>\n      <td>...</td>\n      <td>...</td>\n      <td>...</td>\n      <td>...</td>\n      <td>...</td>\n      <td>...</td>\n      <td>...</td>\n      <td>...</td>\n      <td>...</td>\n      <td>...</td>\n      <td>...</td>\n      <td>...</td>\n      <td>...</td>\n      <td>...</td>\n      <td>...</td>\n      <td>...</td>\n      <td>...</td>\n      <td>...</td>\n    </tr>\n    <tr>\n      <th>794465</th>\n      <td>999989</td>\n      <td>2</td>\n      <td>40</td>\n      <td>29</td>\n      <td>1.551982</td>\n      <td>-0.021912</td>\n      <td>-0.902523</td>\n      <td>0.303639</td>\n      <td>0.495264</td>\n      <td>1.0</td>\n      <td>...</td>\n      <td>1.0</td>\n      <td>-0.865843</td>\n      <td>-0.454012</td>\n      <td>-0.835713</td>\n      <td>-1.039201</td>\n      <td>1.0</td>\n      <td>1</td>\n      <td>1</td>\n      <td>0</td>\n      <td>0</td>\n    </tr>\n    <tr>\n      <th>794466</th>\n      <td>999990</td>\n      <td>2</td>\n      <td>60</td>\n      <td>41</td>\n      <td>-0.841766</td>\n      <td>1.141014</td>\n      <td>0.769783</td>\n      <td>-0.586664</td>\n      <td>-0.210551</td>\n      <td>1.0</td>\n      <td>...</td>\n      <td>1.0</td>\n      <td>-0.865843</td>\n      <td>1.180515</td>\n      <td>0.646153</td>\n      <td>0.055363</td>\n      <td>2.0</td>\n      <td>0</td>\n      <td>0</td>\n      <td>0</td>\n      <td>0</td>\n    </tr>\n    <tr>\n      <th>794468</th>\n      <td>999992</td>\n      <td>2</td>\n      <td>30</td>\n      <td>41</td>\n      <td>1.551982</td>\n      <td>1.722476</td>\n      <td>0.543795</td>\n      <td>0.303639</td>\n      <td>0.142356</td>\n      <td>1.0</td>\n      <td>...</td>\n      <td>1.0</td>\n      <td>-0.177906</td>\n      <td>-0.290559</td>\n      <td>-0.094780</td>\n      <td>-0.674347</td>\n      <td>1.0</td>\n      <td>1</td>\n      <td>1</td>\n      <td>0</td>\n      <td>0</td>\n    </tr>\n    <tr>\n      <th>794471</th>\n      <td>999995</td>\n      <td>2</td>\n      <td>50</td>\n      <td>27</td>\n      <td>-0.841766</td>\n      <td>-0.603375</td>\n      <td>-0.405351</td>\n      <td>0.303639</td>\n      <td>0.142356</td>\n      <td>1.0</td>\n      <td>...</td>\n      <td>1.0</td>\n      <td>0.510031</td>\n      <td>1.017063</td>\n      <td>1.016620</td>\n      <td>0.876286</td>\n      <td>1.0</td>\n      <td>1</td>\n      <td>0</td>\n      <td>0</td>\n      <td>0</td>\n    </tr>\n    <tr>\n      <th>794474</th>\n      <td>999998</td>\n      <td>2</td>\n      <td>40</td>\n      <td>26</td>\n      <td>-0.043850</td>\n      <td>-0.603375</td>\n      <td>-0.925122</td>\n      <td>0.303639</td>\n      <td>-0.387005</td>\n      <td>1.0</td>\n      <td>...</td>\n      <td>1.0</td>\n      <td>0.510031</td>\n      <td>1.343968</td>\n      <td>1.140108</td>\n      <td>-0.218278</td>\n      <td>3.0</td>\n      <td>0</td>\n      <td>1</td>\n      <td>0</td>\n      <td>0</td>\n    </tr>\n  </tbody>\n</table>\n<p>794477 rows × 29 columns</p>\n</div>"
     },
     "execution_count": 255,
     "metadata": {},
     "output_type": "execute_result"
    }
   ],
   "source": [
    "data = pd.concat([df_male,df_female],axis=0)\n",
    "data"
   ],
   "metadata": {
    "collapsed": false,
    "pycharm": {
     "name": "#%%\n"
    }
   }
  },
  {
   "cell_type": "markdown",
   "source": [
    "## 컬럼명 영어 변환"
   ],
   "metadata": {
    "collapsed": false,
    "pycharm": {
     "name": "#%% md\n"
    }
   }
  },
  {
   "cell_type": "code",
   "execution_count": 256,
   "outputs": [],
   "source": [
    "data.columns =['ID', 'sex', 'age', '시도코드', 'height', 'weight',\n",
    "       'weist', 'sightR', 'sightL', 'earL', 'earR', 'bloodP1', 'bloodP2',\n",
    "       'bloodsugar', 'chol', 'tri', 'HDL', 'LDL', 'hemoglobin',\n",
    "       'urineprotein', 'creatinine', 'AST', 'ALT', 'GT', 'smoke', 'drink',\n",
    "       'mouth','blindleft','blindright']"
   ],
   "metadata": {
    "collapsed": false,
    "pycharm": {
     "name": "#%%\n"
    }
   }
  },
  {
   "cell_type": "markdown",
   "source": [
    "##  Label column생성"
   ],
   "metadata": {
    "collapsed": false,
    "pycharm": {
     "name": "#%% md\n"
    }
   }
  },
  {
   "cell_type": "code",
   "execution_count": 257,
   "outputs": [],
   "source": [
    "data['age2'] = 0\n",
    "data['age3'] = 0\n",
    "data['age4'] = 0\n",
    "data['age5'] = 0\n",
    "data['age6'] = 0\n",
    "data['age7'] = 0\n",
    "data['age8'] = 0\n",
    "\n",
    "data.loc[data['age'] == 20, 'age2'] = 1\n",
    "data.loc[data['age'] == 30, 'age3'] = 1\n",
    "data.loc[data['age'] == 40, 'age4'] = 1\n",
    "data.loc[data['age'] == 50, 'age5'] = 1\n",
    "data.loc[data['age'] == 60, 'age6'] = 1\n",
    "data.loc[data['age'] == 70, 'age7'] = 1\n",
    "data.loc[data['age'] == 80, 'age8'] = 1\n"
   ],
   "metadata": {
    "collapsed": false,
    "pycharm": {
     "name": "#%%\n"
    }
   }
  },
  {
   "cell_type": "code",
   "execution_count": 258,
   "outputs": [
    {
     "data": {
      "text/plain": "            ID  sex  age  시도코드    height    weight     weist    sightR  \\\n0            1    1   30    43  0.210680  0.586903  0.789218 -0.028882   \n1            2    1   30    11  1.735541  1.067141  0.660236 -0.319894   \n2            4    1   50    48  0.973110  1.067141  0.918200  1.426179   \n3            5    1   50    30 -0.551751 -0.853812 -0.500603 -0.028882   \n4            6    1   50    41 -0.551751 -1.334051 -1.145513  0.553142   \n...        ...  ...  ...   ...       ...       ...       ...       ...   \n794465  999989    2   40    29  1.551982 -0.021912 -0.902523  0.303639   \n794466  999990    2   60    41 -0.841766  1.141014  0.769783 -0.586664   \n794468  999992    2   30    41  1.551982  1.722476  0.543795  0.303639   \n794471  999995    2   50    27 -0.841766 -0.603375 -0.405351  0.303639   \n794474  999998    2   40    26 -0.043850 -0.603375 -0.925122  0.303639   \n\n          sightL  earL  ...  mouth  blindleft  blindright  age2  age3  age4  \\\n0      -0.066962   1.0  ...      0          0           0     0     1     0   \n1       0.264651   1.0  ...      0          0           0     0     1     0   \n2       0.264651   1.0  ...      0          0           0     0     0     0   \n3       0.264651   1.0  ...      0          0           0     0     0     0   \n4       0.762071   1.0  ...      0          0           0     0     0     0   \n...          ...   ...  ...    ...        ...         ...   ...   ...   ...   \n794465  0.495264   1.0  ...      1          0           0     0     0     1   \n794466 -0.210551   1.0  ...      0          0           0     0     0     0   \n794468  0.142356   1.0  ...      1          0           0     0     1     0   \n794471  0.142356   1.0  ...      0          0           0     0     0     0   \n794474 -0.387005   1.0  ...      1          0           0     0     0     1   \n\n        age5  age6  age7  age8  \n0          0     0     0     0  \n1          0     0     0     0  \n2          1     0     0     0  \n3          1     0     0     0  \n4          1     0     0     0  \n...      ...   ...   ...   ...  \n794465     0     0     0     0  \n794466     0     1     0     0  \n794468     0     0     0     0  \n794471     1     0     0     0  \n794474     0     0     0     0  \n\n[794477 rows x 36 columns]",
      "text/html": "<div>\n<style scoped>\n    .dataframe tbody tr th:only-of-type {\n        vertical-align: middle;\n    }\n\n    .dataframe tbody tr th {\n        vertical-align: top;\n    }\n\n    .dataframe thead th {\n        text-align: right;\n    }\n</style>\n<table border=\"1\" class=\"dataframe\">\n  <thead>\n    <tr style=\"text-align: right;\">\n      <th></th>\n      <th>ID</th>\n      <th>sex</th>\n      <th>age</th>\n      <th>시도코드</th>\n      <th>height</th>\n      <th>weight</th>\n      <th>weist</th>\n      <th>sightR</th>\n      <th>sightL</th>\n      <th>earL</th>\n      <th>...</th>\n      <th>mouth</th>\n      <th>blindleft</th>\n      <th>blindright</th>\n      <th>age2</th>\n      <th>age3</th>\n      <th>age4</th>\n      <th>age5</th>\n      <th>age6</th>\n      <th>age7</th>\n      <th>age8</th>\n    </tr>\n  </thead>\n  <tbody>\n    <tr>\n      <th>0</th>\n      <td>1</td>\n      <td>1</td>\n      <td>30</td>\n      <td>43</td>\n      <td>0.210680</td>\n      <td>0.586903</td>\n      <td>0.789218</td>\n      <td>-0.028882</td>\n      <td>-0.066962</td>\n      <td>1.0</td>\n      <td>...</td>\n      <td>0</td>\n      <td>0</td>\n      <td>0</td>\n      <td>0</td>\n      <td>1</td>\n      <td>0</td>\n      <td>0</td>\n      <td>0</td>\n      <td>0</td>\n      <td>0</td>\n    </tr>\n    <tr>\n      <th>1</th>\n      <td>2</td>\n      <td>1</td>\n      <td>30</td>\n      <td>11</td>\n      <td>1.735541</td>\n      <td>1.067141</td>\n      <td>0.660236</td>\n      <td>-0.319894</td>\n      <td>0.264651</td>\n      <td>1.0</td>\n      <td>...</td>\n      <td>0</td>\n      <td>0</td>\n      <td>0</td>\n      <td>0</td>\n      <td>1</td>\n      <td>0</td>\n      <td>0</td>\n      <td>0</td>\n      <td>0</td>\n      <td>0</td>\n    </tr>\n    <tr>\n      <th>2</th>\n      <td>4</td>\n      <td>1</td>\n      <td>50</td>\n      <td>48</td>\n      <td>0.973110</td>\n      <td>1.067141</td>\n      <td>0.918200</td>\n      <td>1.426179</td>\n      <td>0.264651</td>\n      <td>1.0</td>\n      <td>...</td>\n      <td>0</td>\n      <td>0</td>\n      <td>0</td>\n      <td>0</td>\n      <td>0</td>\n      <td>0</td>\n      <td>1</td>\n      <td>0</td>\n      <td>0</td>\n      <td>0</td>\n    </tr>\n    <tr>\n      <th>3</th>\n      <td>5</td>\n      <td>1</td>\n      <td>50</td>\n      <td>30</td>\n      <td>-0.551751</td>\n      <td>-0.853812</td>\n      <td>-0.500603</td>\n      <td>-0.028882</td>\n      <td>0.264651</td>\n      <td>1.0</td>\n      <td>...</td>\n      <td>0</td>\n      <td>0</td>\n      <td>0</td>\n      <td>0</td>\n      <td>0</td>\n      <td>0</td>\n      <td>1</td>\n      <td>0</td>\n      <td>0</td>\n      <td>0</td>\n    </tr>\n    <tr>\n      <th>4</th>\n      <td>6</td>\n      <td>1</td>\n      <td>50</td>\n      <td>41</td>\n      <td>-0.551751</td>\n      <td>-1.334051</td>\n      <td>-1.145513</td>\n      <td>0.553142</td>\n      <td>0.762071</td>\n      <td>1.0</td>\n      <td>...</td>\n      <td>0</td>\n      <td>0</td>\n      <td>0</td>\n      <td>0</td>\n      <td>0</td>\n      <td>0</td>\n      <td>1</td>\n      <td>0</td>\n      <td>0</td>\n      <td>0</td>\n    </tr>\n    <tr>\n      <th>...</th>\n      <td>...</td>\n      <td>...</td>\n      <td>...</td>\n      <td>...</td>\n      <td>...</td>\n      <td>...</td>\n      <td>...</td>\n      <td>...</td>\n      <td>...</td>\n      <td>...</td>\n      <td>...</td>\n      <td>...</td>\n      <td>...</td>\n      <td>...</td>\n      <td>...</td>\n      <td>...</td>\n      <td>...</td>\n      <td>...</td>\n      <td>...</td>\n      <td>...</td>\n      <td>...</td>\n    </tr>\n    <tr>\n      <th>794465</th>\n      <td>999989</td>\n      <td>2</td>\n      <td>40</td>\n      <td>29</td>\n      <td>1.551982</td>\n      <td>-0.021912</td>\n      <td>-0.902523</td>\n      <td>0.303639</td>\n      <td>0.495264</td>\n      <td>1.0</td>\n      <td>...</td>\n      <td>1</td>\n      <td>0</td>\n      <td>0</td>\n      <td>0</td>\n      <td>0</td>\n      <td>1</td>\n      <td>0</td>\n      <td>0</td>\n      <td>0</td>\n      <td>0</td>\n    </tr>\n    <tr>\n      <th>794466</th>\n      <td>999990</td>\n      <td>2</td>\n      <td>60</td>\n      <td>41</td>\n      <td>-0.841766</td>\n      <td>1.141014</td>\n      <td>0.769783</td>\n      <td>-0.586664</td>\n      <td>-0.210551</td>\n      <td>1.0</td>\n      <td>...</td>\n      <td>0</td>\n      <td>0</td>\n      <td>0</td>\n      <td>0</td>\n      <td>0</td>\n      <td>0</td>\n      <td>0</td>\n      <td>1</td>\n      <td>0</td>\n      <td>0</td>\n    </tr>\n    <tr>\n      <th>794468</th>\n      <td>999992</td>\n      <td>2</td>\n      <td>30</td>\n      <td>41</td>\n      <td>1.551982</td>\n      <td>1.722476</td>\n      <td>0.543795</td>\n      <td>0.303639</td>\n      <td>0.142356</td>\n      <td>1.0</td>\n      <td>...</td>\n      <td>1</td>\n      <td>0</td>\n      <td>0</td>\n      <td>0</td>\n      <td>1</td>\n      <td>0</td>\n      <td>0</td>\n      <td>0</td>\n      <td>0</td>\n      <td>0</td>\n    </tr>\n    <tr>\n      <th>794471</th>\n      <td>999995</td>\n      <td>2</td>\n      <td>50</td>\n      <td>27</td>\n      <td>-0.841766</td>\n      <td>-0.603375</td>\n      <td>-0.405351</td>\n      <td>0.303639</td>\n      <td>0.142356</td>\n      <td>1.0</td>\n      <td>...</td>\n      <td>0</td>\n      <td>0</td>\n      <td>0</td>\n      <td>0</td>\n      <td>0</td>\n      <td>0</td>\n      <td>1</td>\n      <td>0</td>\n      <td>0</td>\n      <td>0</td>\n    </tr>\n    <tr>\n      <th>794474</th>\n      <td>999998</td>\n      <td>2</td>\n      <td>40</td>\n      <td>26</td>\n      <td>-0.043850</td>\n      <td>-0.603375</td>\n      <td>-0.925122</td>\n      <td>0.303639</td>\n      <td>-0.387005</td>\n      <td>1.0</td>\n      <td>...</td>\n      <td>1</td>\n      <td>0</td>\n      <td>0</td>\n      <td>0</td>\n      <td>0</td>\n      <td>1</td>\n      <td>0</td>\n      <td>0</td>\n      <td>0</td>\n      <td>0</td>\n    </tr>\n  </tbody>\n</table>\n<p>794477 rows × 36 columns</p>\n</div>"
     },
     "execution_count": 258,
     "metadata": {},
     "output_type": "execute_result"
    }
   ],
   "source": [
    "data"
   ],
   "metadata": {
    "collapsed": false,
    "pycharm": {
     "name": "#%%\n"
    }
   }
  },
  {
   "cell_type": "markdown",
   "source": [
    "## Feature_column 생성"
   ],
   "metadata": {
    "collapsed": false,
    "pycharm": {
     "name": "#%% md\n"
    }
   }
  },
  {
   "cell_type": "code",
   "execution_count": 259,
   "outputs": [],
   "source": [
    "\n",
    "NUMERIC_COLUMN = ['height', 'weight', 'weist', 'sightR',\n",
    "       'sightL', 'bloodP1', 'bloodP2', 'bloodsugar','LDL','tri','hemoglobin','chol','HDL','AST','ALT','GT'\n",
    "                  ,'creatinine']\n",
    "\n",
    "LABEL_COLUMN = ['age2', 'age3', 'age4', 'age5', 'age6', 'age7','age8']\n",
    "\n",
    "\n",
    "train_data = data[data['ID']%5 != 0]\n",
    "test_data = data[data['ID']%5 == 0]\n",
    "\n",
    "## Define feature_layer\n",
    "feature_columns = []\n",
    "for header in NUMERIC_COLUMN:\n",
    "\tfeature_columns.append(feature_column.numeric_column(header, dtype=tf.dtypes.float64))\n",
    "\n",
    "\n",
    "feature_layer = tf.keras.layers.DenseFeatures(feature_columns)\n",
    "\n",
    "\n",
    "## Data Split & shuffle\n",
    "train_df, val_df = train_test_split(train_data, test_size=0.2, random_state=42)\n",
    "\n",
    "x_train = dict(train_df[NUMERIC_COLUMN ])\n",
    "x_test = dict(test_data[NUMERIC_COLUMN ])\n",
    "x_val = dict(val_df[NUMERIC_COLUMN ])\n",
    "\n",
    "y_train = train_df[LABEL_COLUMN]\n",
    "y_test = test_data[LABEL_COLUMN]\n",
    "y_val = val_df[LABEL_COLUMN]"
   ],
   "metadata": {
    "collapsed": false,
    "pycharm": {
     "name": "#%%\n"
    }
   }
  },
  {
   "cell_type": "code",
   "execution_count": 259,
   "outputs": [],
   "source": [],
   "metadata": {
    "collapsed": false,
    "pycharm": {
     "name": "#%%\n"
    }
   }
  },
  {
   "cell_type": "code",
   "execution_count": 260,
   "outputs": [],
   "source": [
    "cb = tf.keras.callbacks.EarlyStopping(\n",
    "    monitor='loss',\n",
    "    min_delta = 0.001,\n",
    "    patience=50,\n",
    "    verbose=10,\n",
    "    mode='min',\n",
    "    baseline=None,\n",
    "    restore_best_weights=True\n",
    "    )\n",
    "METRICS = tfa.metrics.F1Score(\n",
    "      num_classes = 7,\n",
    "      average = 'macro',\n",
    "      name ='f1_score',\n",
    "      threshold = None\n",
    "      )"
   ],
   "metadata": {
    "collapsed": false,
    "pycharm": {
     "name": "#%%\n"
    }
   }
  },
  {
   "cell_type": "markdown",
   "source": [
    "# 파라미터 튜닝"
   ],
   "metadata": {
    "collapsed": false,
    "pycharm": {
     "name": "#%% md\n"
    }
   }
  },
  {
   "cell_type": "code",
   "execution_count": 261,
   "outputs": [],
   "source": [
    "# import optuna\n",
    "# def objective(hp):\n",
    "# \n",
    "#     hp_dropout = hp.suggest_categorical('dropout', [0.1, 0.2, 0.3] )\n",
    "#     hp_learning_rate = hp.suggest_categorical('learning_rate', [1e-2, 1e-3, 1e-4] )\n",
    "#     hp_units =  hp.suggest_categorical('units', [32, 64, 128])\n",
    "# \n",
    "# \n",
    "#     model = tf.keras.models.Sequential([\n",
    "#             feature_layer,\n",
    "#             tf.keras.layers.Dense(units=hp_units, activation='relu'),\n",
    "#             tf.keras.layers.Dropout(rate=hp_dropout),\n",
    "#             tf.keras.layers.Dense(units=hp_units, activation='relu'),\n",
    "#             tf.keras.layers.Dropout(rate=hp_dropout),\n",
    "#             tf.keras.layers.Dense(units=hp_units, activation='relu'),\n",
    "#             tf.keras.layers.Dropout(rate=hp_dropout),\n",
    "#             tf.keras.layers.Dense(units=7, activation='sigmoid')\n",
    "#         ])\n",
    "# \n",
    "#     model.compile(optimizer=tf.keras.optimizers.Adam(learning_rate=hp_learning_rate),\n",
    "#                       oss=tfa.losses.SigmoidFocalCrossEntropy(alpha=[0.9,0.85,0.75,0.75,0.85,0.9,0.98]),\n",
    "#                       #loss=tf.keras.losses.SparseCategoricalCrossentropy(),\n",
    "#                       metrics=METRICS\n",
    "#         )\n",
    "# \n",
    "#     model.fit(\n",
    "#             x_train, y_train,\n",
    "#             batch_size=Batch_Size,\n",
    "#             epochs=30,\n",
    "#             verbose=1,\n",
    "#             validation_data=(x_val, y_val),\n",
    "#             callbacks=cb,\n",
    "#         )\n",
    "#     y_val_pred = model.predict(x_val)\n",
    "#     METRICS.update_state(y_val, y_val_pred)\n",
    "#     res = METRICS.result()\n",
    "#     score = float(res.numpy())\n",
    "# \n",
    "# \n",
    "#     return score\n",
    "# \n",
    "# DNN_study = optuna.create_study(direction='maximize')\n",
    "# DNN_study.optimize(objective, n_trials = 20)\n",
    "# print('study.best_params:', DNN_study.best_trial.value)\n",
    "# print('Number of finished trials:', len(DNN_study.trials))\n",
    "# print('Best trial:', DNN_study.best_trial.params)\n",
    "# print('study.best_params:', DNN_study.best_params)\n"
   ],
   "metadata": {
    "collapsed": false,
    "pycharm": {
     "name": "#%%\n"
    }
   }
  },
  {
   "cell_type": "markdown",
   "source": [
    "# 모델생성"
   ],
   "metadata": {
    "collapsed": false,
    "pycharm": {
     "name": "#%% md\n"
    }
   }
  },
  {
   "cell_type": "code",
   "execution_count": 262,
   "outputs": [
    {
     "name": "stdout",
     "output_type": "stream",
     "text": [
      "Epoch 1/100\n",
      "1986/1986 [==============================] - 20s 10ms/step - loss: 0.2221 - f1_score: 0.3165 - val_loss: 0.2173 - val_f1_score: 0.3592\n",
      "Epoch 2/100\n",
      "1986/1986 [==============================] - 19s 10ms/step - loss: 0.2178 - f1_score: 0.3380 - val_loss: 0.2163 - val_f1_score: 0.3547\n",
      "Epoch 3/100\n",
      "1986/1986 [==============================] - 19s 10ms/step - loss: 0.2170 - f1_score: 0.3421 - val_loss: 0.2165 - val_f1_score: 0.3679\n",
      "Epoch 4/100\n",
      "1986/1986 [==============================] - 19s 10ms/step - loss: 0.2166 - f1_score: 0.3439 - val_loss: 0.2163 - val_f1_score: 0.3622\n",
      "Epoch 5/100\n",
      "1986/1986 [==============================] - 19s 10ms/step - loss: 0.2163 - f1_score: 0.3447 - val_loss: 0.2153 - val_f1_score: 0.3713\n",
      "Epoch 6/100\n",
      "1986/1986 [==============================] - 19s 10ms/step - loss: 0.2160 - f1_score: 0.3470 - val_loss: 0.2152 - val_f1_score: 0.3545\n",
      "Epoch 7/100\n",
      "1986/1986 [==============================] - 19s 10ms/step - loss: 0.2159 - f1_score: 0.3480 - val_loss: 0.2162 - val_f1_score: 0.3656\n",
      "Epoch 8/100\n",
      "1986/1986 [==============================] - 19s 9ms/step - loss: 0.2157 - f1_score: 0.3472 - val_loss: 0.2149 - val_f1_score: 0.3731\n",
      "Epoch 9/100\n",
      "1986/1986 [==============================] - 19s 9ms/step - loss: 0.2156 - f1_score: 0.3480 - val_loss: 0.2155 - val_f1_score: 0.3699\n",
      "Epoch 10/100\n",
      "1986/1986 [==============================] - 19s 9ms/step - loss: 0.2154 - f1_score: 0.3484 - val_loss: 0.2151 - val_f1_score: 0.3743\n",
      "Epoch 11/100\n",
      "1986/1986 [==============================] - 19s 9ms/step - loss: 0.2153 - f1_score: 0.3487 - val_loss: 0.2154 - val_f1_score: 0.3698\n",
      "Epoch 12/100\n",
      "1986/1986 [==============================] - 19s 10ms/step - loss: 0.2153 - f1_score: 0.3485 - val_loss: 0.2147 - val_f1_score: 0.3513\n",
      "Epoch 13/100\n",
      "1986/1986 [==============================] - 19s 9ms/step - loss: 0.2152 - f1_score: 0.3500 - val_loss: 0.2149 - val_f1_score: 0.3627\n",
      "Epoch 14/100\n",
      "1986/1986 [==============================] - 19s 10ms/step - loss: 0.2151 - f1_score: 0.3484 - val_loss: 0.2148 - val_f1_score: 0.3693\n",
      "Epoch 15/100\n",
      "1986/1986 [==============================] - 19s 10ms/step - loss: 0.2149 - f1_score: 0.3501 - val_loss: 0.2150 - val_f1_score: 0.3618\n",
      "Epoch 16/100\n",
      "1986/1986 [==============================] - 19s 9ms/step - loss: 0.2149 - f1_score: 0.3496 - val_loss: 0.2150 - val_f1_score: 0.3649\n",
      "Epoch 17/100\n",
      "1986/1986 [==============================] - 19s 10ms/step - loss: 0.2148 - f1_score: 0.3504 - val_loss: 0.2155 - val_f1_score: 0.3716\n",
      "Epoch 18/100\n",
      "1986/1986 [==============================] - 19s 10ms/step - loss: 0.2147 - f1_score: 0.3511 - val_loss: 0.2152 - val_f1_score: 0.3667\n",
      "Epoch 19/100\n",
      "1986/1986 [==============================] - 19s 10ms/step - loss: 0.2146 - f1_score: 0.3505 - val_loss: 0.2145 - val_f1_score: 0.3588\n",
      "Epoch 20/100\n",
      "1986/1986 [==============================] - 19s 10ms/step - loss: 0.2145 - f1_score: 0.3522 - val_loss: 0.2144 - val_f1_score: 0.3524\n",
      "Epoch 21/100\n",
      "1986/1986 [==============================] - 19s 10ms/step - loss: 0.2144 - f1_score: 0.3510 - val_loss: 0.2140 - val_f1_score: 0.3676\n",
      "Epoch 22/100\n",
      "1986/1986 [==============================] - 19s 9ms/step - loss: 0.2143 - f1_score: 0.3515 - val_loss: 0.2145 - val_f1_score: 0.3659\n",
      "Epoch 23/100\n",
      "1986/1986 [==============================] - 19s 9ms/step - loss: 0.2142 - f1_score: 0.3519 - val_loss: 0.2143 - val_f1_score: 0.3780\n",
      "Epoch 24/100\n",
      "1986/1986 [==============================] - 19s 10ms/step - loss: 0.2142 - f1_score: 0.3520 - val_loss: 0.2140 - val_f1_score: 0.3738\n",
      "Epoch 25/100\n",
      "1986/1986 [==============================] - 19s 10ms/step - loss: 0.2142 - f1_score: 0.3505 - val_loss: 0.2145 - val_f1_score: 0.3660\n",
      "Epoch 26/100\n",
      "1986/1986 [==============================] - 19s 10ms/step - loss: 0.2140 - f1_score: 0.3525 - val_loss: 0.2140 - val_f1_score: 0.3747\n",
      "Epoch 27/100\n",
      "1986/1986 [==============================] - 19s 9ms/step - loss: 0.2140 - f1_score: 0.3527 - val_loss: 0.2144 - val_f1_score: 0.3713\n",
      "Epoch 28/100\n",
      "1986/1986 [==============================] - 19s 10ms/step - loss: 0.2138 - f1_score: 0.3529 - val_loss: 0.2141 - val_f1_score: 0.3776\n",
      "Epoch 29/100\n",
      "1986/1986 [==============================] - 19s 10ms/step - loss: 0.2139 - f1_score: 0.3531 - val_loss: 0.2143 - val_f1_score: 0.3786\n",
      "Epoch 30/100\n",
      "1986/1986 [==============================] - 19s 9ms/step - loss: 0.2138 - f1_score: 0.3531 - val_loss: 0.2143 - val_f1_score: 0.3578\n",
      "Epoch 31/100\n",
      "1986/1986 [==============================] - 19s 9ms/step - loss: 0.2137 - f1_score: 0.3532 - val_loss: 0.2137 - val_f1_score: 0.3765\n",
      "Epoch 32/100\n",
      "1986/1986 [==============================] - 19s 9ms/step - loss: 0.2136 - f1_score: 0.3539 - val_loss: 0.2133 - val_f1_score: 0.3628\n",
      "Epoch 33/100\n",
      "1986/1986 [==============================] - 19s 10ms/step - loss: 0.2136 - f1_score: 0.3554 - val_loss: 0.2137 - val_f1_score: 0.3682\n",
      "Epoch 34/100\n",
      "1986/1986 [==============================] - 19s 9ms/step - loss: 0.2135 - f1_score: 0.3544 - val_loss: 0.2136 - val_f1_score: 0.3790\n",
      "Epoch 35/100\n",
      "1986/1986 [==============================] - 19s 9ms/step - loss: 0.2134 - f1_score: 0.3570 - val_loss: 0.2134 - val_f1_score: 0.3793\n",
      "Epoch 36/100\n",
      "1986/1986 [==============================] - 19s 9ms/step - loss: 0.2134 - f1_score: 0.3540 - val_loss: 0.2131 - val_f1_score: 0.3745\n",
      "Epoch 37/100\n",
      "1986/1986 [==============================] - 19s 10ms/step - loss: 0.2132 - f1_score: 0.3558 - val_loss: 0.2131 - val_f1_score: 0.3801\n",
      "Epoch 38/100\n",
      "1986/1986 [==============================] - 19s 10ms/step - loss: 0.2131 - f1_score: 0.3566 - val_loss: 0.2128 - val_f1_score: 0.3745\n",
      "Epoch 39/100\n",
      "1986/1986 [==============================] - 20s 10ms/step - loss: 0.2131 - f1_score: 0.3557 - val_loss: 0.2138 - val_f1_score: 0.3624\n",
      "Epoch 40/100\n",
      "1986/1986 [==============================] - 19s 10ms/step - loss: 0.2130 - f1_score: 0.3574 - val_loss: 0.2133 - val_f1_score: 0.3706\n",
      "Epoch 41/100\n",
      "1986/1986 [==============================] - 20s 10ms/step - loss: 0.2129 - f1_score: 0.3573 - val_loss: 0.2138 - val_f1_score: 0.3851\n",
      "Epoch 42/100\n",
      "1986/1986 [==============================] - 19s 10ms/step - loss: 0.2129 - f1_score: 0.3578 - val_loss: 0.2127 - val_f1_score: 0.3757\n",
      "Epoch 43/100\n",
      "1986/1986 [==============================] - 20s 10ms/step - loss: 0.2128 - f1_score: 0.3595 - val_loss: 0.2129 - val_f1_score: 0.3606\n",
      "Epoch 44/100\n",
      "1986/1986 [==============================] - 19s 10ms/step - loss: 0.2126 - f1_score: 0.3577 - val_loss: 0.2128 - val_f1_score: 0.3680\n",
      "Epoch 45/100\n",
      "1986/1986 [==============================] - 19s 10ms/step - loss: 0.2127 - f1_score: 0.3577 - val_loss: 0.2124 - val_f1_score: 0.3595\n",
      "Epoch 46/100\n",
      "1986/1986 [==============================] - 19s 10ms/step - loss: 0.2126 - f1_score: 0.3567 - val_loss: 0.2125 - val_f1_score: 0.3814\n",
      "Epoch 47/100\n",
      "1986/1986 [==============================] - 19s 10ms/step - loss: 0.2125 - f1_score: 0.3571 - val_loss: 0.2126 - val_f1_score: 0.3743\n",
      "Epoch 48/100\n",
      "1986/1986 [==============================] - 19s 10ms/step - loss: 0.2125 - f1_score: 0.3573 - val_loss: 0.2126 - val_f1_score: 0.3828\n",
      "Epoch 49/100\n",
      "1986/1986 [==============================] - 19s 10ms/step - loss: 0.2125 - f1_score: 0.3575 - val_loss: 0.2131 - val_f1_score: 0.3824\n",
      "Epoch 50/100\n",
      "1986/1986 [==============================] - 19s 10ms/step - loss: 0.2123 - f1_score: 0.3568 - val_loss: 0.2129 - val_f1_score: 0.3777\n",
      "Epoch 51/100\n",
      "1986/1986 [==============================] - 19s 10ms/step - loss: 0.2124 - f1_score: 0.3571 - val_loss: 0.2120 - val_f1_score: 0.3730\n",
      "Epoch 52/100\n",
      "1986/1986 [==============================] - 19s 10ms/step - loss: 0.2123 - f1_score: 0.3587 - val_loss: 0.2124 - val_f1_score: 0.3738\n",
      "Epoch 53/100\n",
      "1986/1986 [==============================] - 19s 10ms/step - loss: 0.2124 - f1_score: 0.3574 - val_loss: 0.2123 - val_f1_score: 0.3698\n",
      "Epoch 54/100\n",
      "1986/1986 [==============================] - 19s 10ms/step - loss: 0.2123 - f1_score: 0.3571 - val_loss: 0.2126 - val_f1_score: 0.3762\n",
      "Epoch 55/100\n",
      "1986/1986 [==============================] - 19s 10ms/step - loss: 0.2123 - f1_score: 0.3578 - val_loss: 0.2123 - val_f1_score: 0.3822\n",
      "Epoch 56/100\n",
      "1986/1986 [==============================] - 19s 10ms/step - loss: 0.2122 - f1_score: 0.3580 - val_loss: 0.2126 - val_f1_score: 0.3773\n",
      "Epoch 57/100\n",
      "1986/1986 [==============================] - 19s 10ms/step - loss: 0.2122 - f1_score: 0.3575 - val_loss: 0.2128 - val_f1_score: 0.3847\n",
      "Epoch 58/100\n",
      "1986/1986 [==============================] - 19s 10ms/step - loss: 0.2122 - f1_score: 0.3589 - val_loss: 0.2123 - val_f1_score: 0.3812\n",
      "Epoch 59/100\n",
      "1986/1986 [==============================] - 19s 10ms/step - loss: 0.2122 - f1_score: 0.3587 - val_loss: 0.2126 - val_f1_score: 0.3788\n",
      "Epoch 60/100\n",
      "1986/1986 [==============================] - 19s 10ms/step - loss: 0.2122 - f1_score: 0.3586 - val_loss: 0.2122 - val_f1_score: 0.3691\n",
      "Epoch 61/100\n",
      "1986/1986 [==============================] - 19s 10ms/step - loss: 0.2121 - f1_score: 0.3594 - val_loss: 0.2123 - val_f1_score: 0.3633\n",
      "Epoch 62/100\n",
      "1986/1986 [==============================] - 19s 10ms/step - loss: 0.2121 - f1_score: 0.3593 - val_loss: 0.2122 - val_f1_score: 0.3735\n",
      "Epoch 63/100\n",
      "1986/1986 [==============================] - 19s 10ms/step - loss: 0.2122 - f1_score: 0.3603 - val_loss: 0.2121 - val_f1_score: 0.3721\n",
      "Epoch 64/100\n",
      "1986/1986 [==============================] - 19s 10ms/step - loss: 0.2120 - f1_score: 0.3602 - val_loss: 0.2127 - val_f1_score: 0.3819\n",
      "Epoch 65/100\n",
      "1986/1986 [==============================] - 19s 10ms/step - loss: 0.2120 - f1_score: 0.3577 - val_loss: 0.2127 - val_f1_score: 0.3839\n",
      "Epoch 66/100\n",
      "1986/1986 [==============================] - 19s 10ms/step - loss: 0.2120 - f1_score: 0.3586 - val_loss: 0.2121 - val_f1_score: 0.3791\n",
      "Epoch 67/100\n",
      "1986/1986 [==============================] - 20s 10ms/step - loss: 0.2120 - f1_score: 0.3598 - val_loss: 0.2121 - val_f1_score: 0.3782\n",
      "Epoch 68/100\n",
      "1986/1986 [==============================] - 19s 10ms/step - loss: 0.2120 - f1_score: 0.3588 - val_loss: 0.2120 - val_f1_score: 0.3732\n",
      "Epoch 69/100\n",
      "1986/1986 [==============================] - 19s 10ms/step - loss: 0.2120 - f1_score: 0.3597 - val_loss: 0.2123 - val_f1_score: 0.3787\n",
      "Epoch 70/100\n",
      "1986/1986 [==============================] - 19s 10ms/step - loss: 0.2119 - f1_score: 0.3592 - val_loss: 0.2123 - val_f1_score: 0.3751\n",
      "Epoch 71/100\n",
      "1986/1986 [==============================] - 19s 10ms/step - loss: 0.2120 - f1_score: 0.3605 - val_loss: 0.2125 - val_f1_score: 0.3799\n",
      "Epoch 72/100\n",
      "1986/1986 [==============================] - 19s 10ms/step - loss: 0.2119 - f1_score: 0.3595 - val_loss: 0.2123 - val_f1_score: 0.3767\n",
      "Epoch 73/100\n",
      "1986/1986 [==============================] - 19s 10ms/step - loss: 0.2119 - f1_score: 0.3593 - val_loss: 0.2127 - val_f1_score: 0.3756\n",
      "Epoch 74/100\n",
      "1986/1986 [==============================] - 19s 10ms/step - loss: 0.2119 - f1_score: 0.3594 - val_loss: 0.2122 - val_f1_score: 0.3788\n",
      "Epoch 75/100\n",
      "1986/1986 [==============================] - 19s 10ms/step - loss: 0.2119 - f1_score: 0.3597 - val_loss: 0.2125 - val_f1_score: 0.3775\n",
      "Epoch 76/100\n",
      "1986/1986 [==============================] - 19s 10ms/step - loss: 0.2119 - f1_score: 0.3589 - val_loss: 0.2120 - val_f1_score: 0.3677\n",
      "Epoch 77/100\n",
      "1986/1986 [==============================] - 19s 10ms/step - loss: 0.2119 - f1_score: 0.3596 - val_loss: 0.2126 - val_f1_score: 0.3786\n",
      "Epoch 78/100\n",
      "1986/1986 [==============================] - 19s 10ms/step - loss: 0.2118 - f1_score: 0.3592 - val_loss: 0.2121 - val_f1_score: 0.3695\n",
      "Epoch 79/100\n",
      "1986/1986 [==============================] - 19s 10ms/step - loss: 0.2118 - f1_score: 0.3596 - val_loss: 0.2123 - val_f1_score: 0.3809\n",
      "Epoch 80/100\n",
      "1986/1986 [==============================] - 19s 10ms/step - loss: 0.2118 - f1_score: 0.3594 - val_loss: 0.2123 - val_f1_score: 0.3737\n",
      "Epoch 81/100\n",
      "1986/1986 [==============================] - 19s 10ms/step - loss: 0.2118 - f1_score: 0.3594 - val_loss: 0.2124 - val_f1_score: 0.3819\n",
      "Epoch 82/100\n",
      "1986/1986 [==============================] - 19s 10ms/step - loss: 0.2118 - f1_score: 0.3601 - val_loss: 0.2123 - val_f1_score: 0.3819\n",
      "Epoch 83/100\n",
      "1986/1986 [==============================] - 20s 10ms/step - loss: 0.2118 - f1_score: 0.3606 - val_loss: 0.2120 - val_f1_score: 0.3839\n",
      "Epoch 84/100\n",
      "1986/1986 [==============================] - 19s 10ms/step - loss: 0.2118 - f1_score: 0.3591 - val_loss: 0.2126 - val_f1_score: 0.3821\n",
      "Epoch 85/100\n",
      "1986/1986 [==============================] - 19s 10ms/step - loss: 0.2117 - f1_score: 0.3604 - val_loss: 0.2129 - val_f1_score: 0.3869\n",
      "Epoch 86/100\n",
      "1986/1986 [==============================] - 19s 10ms/step - loss: 0.2117 - f1_score: 0.3612 - val_loss: 0.2119 - val_f1_score: 0.3818\n",
      "Epoch 87/100\n",
      "1986/1986 [==============================] - 19s 10ms/step - loss: 0.2117 - f1_score: 0.3594 - val_loss: 0.2120 - val_f1_score: 0.3791\n",
      "Epoch 88/100\n",
      "1986/1986 [==============================] - 19s 9ms/step - loss: 0.2117 - f1_score: 0.3600 - val_loss: 0.2122 - val_f1_score: 0.3768\n",
      "Epoch 89/100\n",
      "1986/1986 [==============================] - 19s 10ms/step - loss: 0.2117 - f1_score: 0.3599 - val_loss: 0.2122 - val_f1_score: 0.3852\n",
      "Epoch 90/100\n",
      "1986/1986 [==============================] - 19s 10ms/step - loss: 0.2117 - f1_score: 0.3599 - val_loss: 0.2124 - val_f1_score: 0.3843\n",
      "Epoch 91/100\n",
      "1986/1986 [==============================] - 19s 10ms/step - loss: 0.2117 - f1_score: 0.3616 - val_loss: 0.2125 - val_f1_score: 0.3757\n",
      "Epoch 92/100\n",
      "1986/1986 [==============================] - 19s 10ms/step - loss: 0.2117 - f1_score: 0.3599 - val_loss: 0.2123 - val_f1_score: 0.3840\n",
      "Epoch 93/100\n",
      "1986/1986 [==============================] - 19s 10ms/step - loss: 0.2117 - f1_score: 0.3601 - val_loss: 0.2121 - val_f1_score: 0.3755\n",
      "Epoch 94/100\n",
      "1986/1986 [==============================] - 19s 10ms/step - loss: 0.2116 - f1_score: 0.3596 - val_loss: 0.2125 - val_f1_score: 0.3780\n",
      "Epoch 95/100\n",
      "1986/1986 [==============================] - 19s 10ms/step - loss: 0.2116 - f1_score: 0.3605 - val_loss: 0.2124 - val_f1_score: 0.3680\n",
      "Epoch 96/100\n",
      "1986/1986 [==============================] - 19s 10ms/step - loss: 0.2117 - f1_score: 0.3591 - val_loss: 0.2119 - val_f1_score: 0.3753\n",
      "Epoch 97/100\n",
      "1986/1986 [==============================] - 19s 10ms/step - loss: 0.2116 - f1_score: 0.3594 - val_loss: 0.2123 - val_f1_score: 0.3834\n",
      "Epoch 98/100\n",
      "1986/1986 [==============================] - 19s 10ms/step - loss: 0.2117 - f1_score: 0.3611 - val_loss: 0.2121 - val_f1_score: 0.3810\n",
      "Epoch 99/100\n",
      "1986/1986 [==============================] - 19s 10ms/step - loss: 0.2117 - f1_score: 0.3609 - val_loss: 0.2123 - val_f1_score: 0.3753\n",
      "Epoch 100/100\n",
      "1982/1986 [============================>.] - ETA: 0s - loss: 0.2116 - f1_score: 0.3614Restoring model weights from the end of the best epoch: 50.\n",
      "1986/1986 [==============================] - 19s 10ms/step - loss: 0.2116 - f1_score: 0.3614 - val_loss: 0.2124 - val_f1_score: 0.3877\n",
      "Epoch 00100: early stopping\n"
     ]
    },
    {
     "data": {
      "text/plain": "<keras.callbacks.History at 0x2b2be0f10>"
     },
     "execution_count": 262,
     "metadata": {},
     "output_type": "execute_result"
    }
   ],
   "source": [
    "\n",
    "## Hyper-Parameter\n",
    "Batch_Size = 256\n",
    "Dim = 128\n",
    "Dropout = 0.2\n",
    "Epochs= 100\n",
    "\n",
    "## Build model\n",
    "model = tf.keras.models.Sequential([\n",
    "        feature_layer,\n",
    "        tf.keras.layers.Dense(units=Dim, activation='relu'),\n",
    "        tf.keras.layers.Dropout(rate=Dropout),\n",
    "        tf.keras.layers.Dense(units=Dim, activation='relu'),\n",
    "        tf.keras.layers.Dropout(rate=Dropout),\n",
    "        tf.keras.layers.Dense(units=Dim, activation='relu'),\n",
    "        tf.keras.layers.Dropout(rate=Dropout),\n",
    "        tf.keras.layers.Dense(units=7, activation='sigmoid')\n",
    "    ])\n",
    "\n",
    "model.compile(optimizer=tf.keras.optimizers.Adam(learning_rate=0.001),\n",
    "                  loss=tfa.losses.SigmoidFocalCrossEntropy(gamma= 2, alpha=[ 0.92, 0.88, 0.78, 0.74, 0.84, 0.94, 0.99]),\n",
    "                  metrics=METRICS)\n",
    "\n",
    "model.fit(\n",
    "        x_train, y_train,\n",
    "        batch_size=Batch_Size,\n",
    "        epochs=Epochs,\n",
    "        verbose=1,\n",
    "        validation_data=(x_val, y_val),\n",
    "        callbacks=cb,\n",
    "    )\n",
    "\n",
    "\n"
   ],
   "metadata": {
    "collapsed": false,
    "pycharm": {
     "name": "#%%\n"
    }
   }
  },
  {
   "cell_type": "code",
   "execution_count": 277,
   "outputs": [
    {
     "name": "stderr",
     "output_type": "stream",
     "text": [
      "WARNING:absl:Function `_wrapped_model` contains input name(s) ALT, AST, GT, HDL, LDL, bloodP1, bloodP2, sightL, sightR with unsupported characters which will be renamed to alt, ast, gt, hdl, ldl, bloodp1, bloodp2, sightl, sightr in the SavedModel.\n"
     ]
    }
   ],
   "source": [
    "#model.save(\"나이예측_sigmoid\")\n"
   ],
   "metadata": {
    "collapsed": false,
    "pycharm": {
     "name": "#%%\n"
    }
   }
  },
  {
   "cell_type": "code",
   "execution_count": 264,
   "outputs": [],
   "source": [
    "y_pred = (model.predict(x_test))\n",
    "y_pred = pd.DataFrame(y_pred)\n",
    "y_pred.columns =[2,3,4,5,6,7,8]\n",
    "y_pred['예측값'] = y_pred.idxmax(axis=1)"
   ],
   "metadata": {
    "collapsed": false,
    "pycharm": {
     "name": "#%%\n"
    }
   }
  },
  {
   "cell_type": "code",
   "execution_count": 265,
   "outputs": [],
   "source": [
    "y_test.columns =[2,3,4,5,6,7,8]\n",
    "y_test['실제값'] = y_test.idxmax(axis=1)\n",
    "y_test= y_test['실제값']\n",
    "y_predict = y_pred['예측값']"
   ],
   "metadata": {
    "collapsed": false,
    "pycharm": {
     "name": "#%%\n"
    }
   }
  },
  {
   "cell_type": "code",
   "execution_count": 266,
   "outputs": [],
   "source": [
    "data_id =data['ID']\n",
    "y_test = pd.concat([y_test,data_id],axis=1)\n"
   ],
   "metadata": {
    "collapsed": false,
    "pycharm": {
     "name": "#%%\n"
    }
   }
  },
  {
   "cell_type": "code",
   "execution_count": 267,
   "outputs": [
    {
     "data": {
      "text/plain": "            ID  실제값  예측값\n0            5  5.0  5.0\n1           20  6.0  6.0\n2           35  3.0  4.0\n3           55  4.0  2.0\n4           75  5.0  5.0\n...        ...  ...  ...\n159018  999970  5.0  4.0\n159019  999980  5.0  3.0\n159020  999985  5.0  5.0\n159021  999990  6.0  5.0\n159022  999995  5.0  5.0\n\n[159023 rows x 3 columns]",
      "text/html": "<div>\n<style scoped>\n    .dataframe tbody tr th:only-of-type {\n        vertical-align: middle;\n    }\n\n    .dataframe tbody tr th {\n        vertical-align: top;\n    }\n\n    .dataframe thead th {\n        text-align: right;\n    }\n</style>\n<table border=\"1\" class=\"dataframe\">\n  <thead>\n    <tr style=\"text-align: right;\">\n      <th></th>\n      <th>ID</th>\n      <th>실제값</th>\n      <th>예측값</th>\n    </tr>\n  </thead>\n  <tbody>\n    <tr>\n      <th>0</th>\n      <td>5</td>\n      <td>5.0</td>\n      <td>5.0</td>\n    </tr>\n    <tr>\n      <th>1</th>\n      <td>20</td>\n      <td>6.0</td>\n      <td>6.0</td>\n    </tr>\n    <tr>\n      <th>2</th>\n      <td>35</td>\n      <td>3.0</td>\n      <td>4.0</td>\n    </tr>\n    <tr>\n      <th>3</th>\n      <td>55</td>\n      <td>4.0</td>\n      <td>2.0</td>\n    </tr>\n    <tr>\n      <th>4</th>\n      <td>75</td>\n      <td>5.0</td>\n      <td>5.0</td>\n    </tr>\n    <tr>\n      <th>...</th>\n      <td>...</td>\n      <td>...</td>\n      <td>...</td>\n    </tr>\n    <tr>\n      <th>159018</th>\n      <td>999970</td>\n      <td>5.0</td>\n      <td>4.0</td>\n    </tr>\n    <tr>\n      <th>159019</th>\n      <td>999980</td>\n      <td>5.0</td>\n      <td>3.0</td>\n    </tr>\n    <tr>\n      <th>159020</th>\n      <td>999985</td>\n      <td>5.0</td>\n      <td>5.0</td>\n    </tr>\n    <tr>\n      <th>159021</th>\n      <td>999990</td>\n      <td>6.0</td>\n      <td>5.0</td>\n    </tr>\n    <tr>\n      <th>159022</th>\n      <td>999995</td>\n      <td>5.0</td>\n      <td>5.0</td>\n    </tr>\n  </tbody>\n</table>\n<p>159023 rows × 3 columns</p>\n</div>"
     },
     "execution_count": 267,
     "metadata": {},
     "output_type": "execute_result"
    }
   ],
   "source": [
    "y_test = y_test.reset_index()\n",
    "y_test = y_test.drop(['index'],axis =1 )\n",
    "result = pd.concat([y_test,y_predict],axis = 1)\n",
    "result =result[['ID','실제값','예측값']]\n",
    "result.dropna(inplace = True)\n",
    "result"
   ],
   "metadata": {
    "collapsed": false,
    "pycharm": {
     "name": "#%%\n"
    }
   }
  },
  {
   "cell_type": "code",
   "execution_count": 268,
   "outputs": [
    {
     "name": "stdout",
     "output_type": "stream",
     "text": [
      "정확도 : 0.3764\n",
      "mse : 1.5398\n"
     ]
    }
   ],
   "source": [
    "from sklearn.metrics import accuracy_score\n",
    "from sklearn.metrics import mean_squared_error\n",
    "print('정확도 :', round(accuracy_score(result['실제값'],result['예측값']),4))\n",
    "print('mse :', round(mean_squared_error(result['실제값'],result['예측값']),4))"
   ],
   "metadata": {
    "collapsed": false,
    "pycharm": {
     "name": "#%%\n"
    }
   }
  },
  {
   "cell_type": "code",
   "execution_count": 269,
   "outputs": [
    {
     "data": {
      "text/plain": "Text(0.5, 1.0, '20')"
     },
     "execution_count": 269,
     "metadata": {},
     "output_type": "execute_result"
    },
    {
     "data": {
      "text/plain": "<Figure size 432x288 with 1 Axes>",
      "image/png": "[encoded data removed]"
     },
     "metadata": {
      "needs_background": "light"
     },
     "output_type": "display_data"
    }
   ],
   "source": [
    "import matplotlib.pyplot as plt\n",
    "result_20 = result.loc[result['실제값']==2]\n",
    "result_20['예측값'].value_counts().plot(kind = 'bar')\n",
    "plt.title(20)"
   ],
   "metadata": {
    "collapsed": false,
    "pycharm": {
     "name": "#%%\n"
    }
   }
  },
  {
   "cell_type": "code",
   "execution_count": 270,
   "outputs": [
    {
     "data": {
      "text/plain": "Text(0.5, 1.0, '30')"
     },
     "execution_count": 270,
     "metadata": {},
     "output_type": "execute_result"
    },
    {
     "data": {
      "text/plain": "<Figure size 432x288 with 1 Axes>",
      "image/png": "[encoded data removed]"
     },
     "metadata": {
      "needs_background": "light"
     },
     "output_type": "display_data"
    }
   ],
   "source": [
    "result_30 = result.loc[result['실제값'] == 3]\n",
    "result_30['예측값'].value_counts().plot(kind='bar')\n",
    "plt.title(30)"
   ],
   "metadata": {
    "collapsed": false,
    "pycharm": {
     "name": "#%%\n"
    }
   }
  },
  {
   "cell_type": "code",
   "execution_count": 271,
   "outputs": [
    {
     "data": {
      "text/plain": "Text(0.5, 1.0, '40')"
     },
     "execution_count": 271,
     "metadata": {},
     "output_type": "execute_result"
    },
    {
     "data": {
      "text/plain": "<Figure size 432x288 with 1 Axes>",
      "image/png": "[encoded data removed]"
     },
     "metadata": {
      "needs_background": "light"
     },
     "output_type": "display_data"
    }
   ],
   "source": [
    "result_40 = result.loc[result['실제값'] == 4]\n",
    "result_40['예측값'].value_counts().plot(kind='bar')\n",
    "plt.title(40)"
   ],
   "metadata": {
    "collapsed": false,
    "pycharm": {
     "name": "#%%\n"
    }
   }
  },
  {
   "cell_type": "code",
   "execution_count": 272,
   "outputs": [
    {
     "data": {
      "text/plain": "Text(0.5, 1.0, '50')"
     },
     "execution_count": 272,
     "metadata": {},
     "output_type": "execute_result"
    },
    {
     "data": {
      "text/plain": "<Figure size 432x288 with 1 Axes>",
      "image/png": "[encoded data removed]"
     },
     "metadata": {
      "needs_background": "light"
     },
     "output_type": "display_data"
    }
   ],
   "source": [
    "result_50 = result.loc[result['실제값'] == 5]\n",
    "result_50['예측값'].value_counts().plot(kind='bar')\n",
    "plt.title(50)"
   ],
   "metadata": {
    "collapsed": false,
    "pycharm": {
     "name": "#%%\n"
    }
   }
  },
  {
   "cell_type": "code",
   "execution_count": 273,
   "outputs": [
    {
     "data": {
      "text/plain": "Text(0.5, 1.0, '60')"
     },
     "execution_count": 273,
     "metadata": {},
     "output_type": "execute_result"
    },
    {
     "data": {
      "text/plain": "<Figure size 432x288 with 1 Axes>",
      "image/png": "[encoded data removed]"
     },
     "metadata": {
      "needs_background": "light"
     },
     "output_type": "display_data"
    }
   ],
   "source": [
    "result_60 = result.loc[result['실제값'] == 6]\n",
    "result_60['예측값'].value_counts().plot(kind='bar')\n",
    "plt.title(60)"
   ],
   "metadata": {
    "collapsed": false,
    "pycharm": {
     "name": "#%%\n"
    }
   }
  },
  {
   "cell_type": "code",
   "execution_count": 274,
   "outputs": [
    {
     "data": {
      "text/plain": "Text(0.5, 1.0, '70')"
     },
     "execution_count": 274,
     "metadata": {},
     "output_type": "execute_result"
    },
    {
     "data": {
      "text/plain": "<Figure size 432x288 with 1 Axes>",
      "image/png": "[encoded data removed]"
     },
     "metadata": {
      "needs_background": "light"
     },
     "output_type": "display_data"
    }
   ],
   "source": [
    "result_70 = result.loc[result['실제값'] == 7]\n",
    "result_70['예측값'].value_counts().plot(kind='bar')\n",
    "plt.title(70)"
   ],
   "metadata": {
    "collapsed": false,
    "pycharm": {
     "name": "#%%\n"
    }
   }
  },
  {
   "cell_type": "code",
   "execution_count": 275,
   "outputs": [
    {
     "data": {
      "text/plain": "Text(0.5, 1.0, '80')"
     },
     "execution_count": 275,
     "metadata": {},
     "output_type": "execute_result"
    },
    {
     "data": {
      "text/plain": "<Figure size 432x288 with 1 Axes>",
      "image/png": "[encoded data removed]"
     },
     "metadata": {
      "needs_background": "light"
     },
     "output_type": "display_data"
    }
   ],
   "source": [
    "result_80 = result.loc[result['실제값'] == 8]\n",
    "result_80['예측값'].value_counts().plot(kind='bar')\n",
    "plt.title(80)"
   ],
   "metadata": {
    "collapsed": false,
    "pycharm": {
     "name": "#%%\n"
    }
   }
  },
  {
   "cell_type": "code",
   "execution_count": 276,
   "outputs": [],
   "source": [
    "#result.to_csv('나이예측결과_sigmoid.csv')"
   ],
   "metadata": {
    "collapsed": false,
    "pycharm": {
     "name": "#%%\n"
    }
   }
  },
  {
   "cell_type": "code",
   "execution_count": 276,
   "outputs": [],
   "source": [],
   "metadata": {
    "collapsed": false,
    "pycharm": {
     "name": "#%%\n"
    }
   }
  }
 ],
 "metadata": {
  "kernelspec": {
   "display_name": "Python 3",
   "language": "python",
   "name": "python3"
  },
  "language_info": {
   "codemirror_mode": {
    "name": "ipython",
    "version": 2
   },
   "file_extension": ".py",
   "mimetype": "text/x-python",
   "name": "python",
   "nbconvert_exporter": "python",
   "pygments_lexer": "ipython2",
   "version": "2.7.6"
  }
 },
 "nbformat": 4,
 "nbformat_minor": 0
}