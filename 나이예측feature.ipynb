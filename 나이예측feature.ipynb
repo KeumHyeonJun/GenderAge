{
 "cells": [
  {
   "cell_type": "code",
   "execution_count": 1,
   "outputs": [],
   "source": [
    "\n",
    "import numpy as np\n",
    "import pandas as pd\n",
    "import warnings\n",
    "warnings.filterwarnings('ignore')\n",
    "import matplotlib.pyplot as plt\n"
   ],
   "metadata": {
    "collapsed": false,
    "pycharm": {
     "name": "#%%\n"
    }
   }
  },
  {
   "cell_type": "code",
   "execution_count": 2,
   "outputs": [
    {
     "data": {
      "text/plain": "   가입자일련번호  성별코드  연령대코드(5세단위)  시도코드  신장(5Cm단위)  체중(5Kg단위)  허리둘레  시력(좌)  시력(우)  \\\n0        1     1           30    43        170         75  90.0    1.0    1.0   \n1        2     1           30    11        180         80  89.0    0.9    1.2   \n2        4     1           50    48        175         80  91.0    1.5    1.2   \n3        5     1           50    30        165         60  80.0    1.0    1.2   \n4        6     1           50    41        165         55  75.0    1.2    1.5   \n\n   청력(좌)  ...  요단백  혈청크레아티닌  (혈청지오티)AST  (혈청지오티)ALT  감마지티피  흡연상태  음주여부  \\\n0    1.0  ...  1.0      1.0        21.0        35.0   40.0   1.0     0   \n1    1.0  ...  1.0      0.9        20.0        36.0   27.0   3.0     1   \n2    1.0  ...  1.0      1.1        29.0        34.0   18.0   1.0     1   \n3    1.0  ...  1.0      0.8        19.0        12.0   25.0   1.0     1   \n4    1.0  ...  3.0      0.8        29.0        40.0   37.0   3.0     0   \n\n   구강검진수검여부  실명(좌)  실명(우)  \n0         0      0      0  \n1         0      0      0  \n2         0      0      0  \n3         0      0      0  \n4         0      0      0  \n\n[5 rows x 29 columns]",
      "text/html": "<div>\n<style scoped>\n    .dataframe tbody tr th:only-of-type {\n        vertical-align: middle;\n    }\n\n    .dataframe tbody tr th {\n        vertical-align: top;\n    }\n\n    .dataframe thead th {\n        text-align: right;\n    }\n</style>\n<table border=\"1\" class=\"dataframe\">\n  <thead>\n    <tr style=\"text-align: right;\">\n      <th></th>\n      <th>가입자일련번호</th>\n      <th>성별코드</th>\n      <th>연령대코드(5세단위)</th>\n      <th>시도코드</th>\n      <th>신장(5Cm단위)</th>\n      <th>체중(5Kg단위)</th>\n      <th>허리둘레</th>\n      <th>시력(좌)</th>\n      <th>시력(우)</th>\n      <th>청력(좌)</th>\n      <th>...</th>\n      <th>요단백</th>\n      <th>혈청크레아티닌</th>\n      <th>(혈청지오티)AST</th>\n      <th>(혈청지오티)ALT</th>\n      <th>감마지티피</th>\n      <th>흡연상태</th>\n      <th>음주여부</th>\n      <th>구강검진수검여부</th>\n      <th>실명(좌)</th>\n      <th>실명(우)</th>\n    </tr>\n  </thead>\n  <tbody>\n    <tr>\n      <th>0</th>\n      <td>1</td>\n      <td>1</td>\n      <td>30</td>\n      <td>43</td>\n      <td>170</td>\n      <td>75</td>\n      <td>90.0</td>\n      <td>1.0</td>\n      <td>1.0</td>\n      <td>1.0</td>\n      <td>...</td>\n      <td>1.0</td>\n      <td>1.0</td>\n      <td>21.0</td>\n      <td>35.0</td>\n      <td>40.0</td>\n      <td>1.0</td>\n      <td>0</td>\n      <td>0</td>\n      <td>0</td>\n      <td>0</td>\n    </tr>\n    <tr>\n      <th>1</th>\n      <td>2</td>\n      <td>1</td>\n      <td>30</td>\n      <td>11</td>\n      <td>180</td>\n      <td>80</td>\n      <td>89.0</td>\n      <td>0.9</td>\n      <td>1.2</td>\n      <td>1.0</td>\n      <td>...</td>\n      <td>1.0</td>\n      <td>0.9</td>\n      <td>20.0</td>\n      <td>36.0</td>\n      <td>27.0</td>\n      <td>3.0</td>\n      <td>1</td>\n      <td>0</td>\n      <td>0</td>\n      <td>0</td>\n    </tr>\n    <tr>\n      <th>2</th>\n      <td>4</td>\n      <td>1</td>\n      <td>50</td>\n      <td>48</td>\n      <td>175</td>\n      <td>80</td>\n      <td>91.0</td>\n      <td>1.5</td>\n      <td>1.2</td>\n      <td>1.0</td>\n      <td>...</td>\n      <td>1.0</td>\n      <td>1.1</td>\n      <td>29.0</td>\n      <td>34.0</td>\n      <td>18.0</td>\n      <td>1.0</td>\n      <td>1</td>\n      <td>0</td>\n      <td>0</td>\n      <td>0</td>\n    </tr>\n    <tr>\n      <th>3</th>\n      <td>5</td>\n      <td>1</td>\n      <td>50</td>\n      <td>30</td>\n      <td>165</td>\n      <td>60</td>\n      <td>80.0</td>\n      <td>1.0</td>\n      <td>1.2</td>\n      <td>1.0</td>\n      <td>...</td>\n      <td>1.0</td>\n      <td>0.8</td>\n      <td>19.0</td>\n      <td>12.0</td>\n      <td>25.0</td>\n      <td>1.0</td>\n      <td>1</td>\n      <td>0</td>\n      <td>0</td>\n      <td>0</td>\n    </tr>\n    <tr>\n      <th>4</th>\n      <td>6</td>\n      <td>1</td>\n      <td>50</td>\n      <td>41</td>\n      <td>165</td>\n      <td>55</td>\n      <td>75.0</td>\n      <td>1.2</td>\n      <td>1.5</td>\n      <td>1.0</td>\n      <td>...</td>\n      <td>3.0</td>\n      <td>0.8</td>\n      <td>29.0</td>\n      <td>40.0</td>\n      <td>37.0</td>\n      <td>3.0</td>\n      <td>0</td>\n      <td>0</td>\n      <td>0</td>\n      <td>0</td>\n    </tr>\n  </tbody>\n</table>\n<p>5 rows × 29 columns</p>\n</div>"
     },
     "execution_count": 2,
     "metadata": {},
     "output_type": "execute_result"
    }
   ],
   "source": [
    "df = pd.read_csv('이상치제거.csv')\n",
    "df.drop(['Unnamed: 0'],axis=1,inplace=True)\n",
    "df.head()"
   ],
   "metadata": {
    "collapsed": false,
    "pycharm": {
     "name": "#%%\n"
    }
   }
  },
  {
   "cell_type": "markdown",
   "source": [
    "# 남녀 따로 정규화"
   ],
   "metadata": {
    "collapsed": false,
    "pycharm": {
     "name": "#%% md\n"
    }
   }
  },
  {
   "cell_type": "code",
   "execution_count": 3,
   "outputs": [],
   "source": [
    "df_male = df.loc[df['성별코드']==1]\n",
    "df_female = df.loc[df['성별코드']==2]"
   ],
   "metadata": {
    "collapsed": false,
    "pycharm": {
     "name": "#%%\n"
    }
   }
  },
  {
   "cell_type": "code",
   "execution_count": 4,
   "outputs": [],
   "source": [
    "from sklearn.preprocessing import StandardScaler\n",
    "\n",
    "Scalar_Index =['신장(5Cm단위)', '체중(5Kg단위)',\n",
    "       '허리둘레', '시력(좌)', '시력(우)', '수축기혈압', '이완기혈압',\n",
    "       '식전혈당(공복혈당)', '총콜레스테롤', '트리글리세라이드', 'HDL콜레스테롤', 'LDL콜레스테롤', '혈색소',\n",
    "       '혈청크레아티닌', '(혈청지오티)AST', '(혈청지오티)ALT', '감마지티피']\n",
    "\n",
    "scaler = StandardScaler()\n",
    "scaler.fit(df_male[Scalar_Index])\n",
    "df_male[Scalar_Index] = scaler.transform(df_male[Scalar_Index])\n",
    "\n",
    "\n",
    "\n",
    "Scalar_Index =['신장(5Cm단위)', '체중(5Kg단위)',\n",
    "       '허리둘레', '시력(좌)', '시력(우)', '수축기혈압', '이완기혈압',\n",
    "       '식전혈당(공복혈당)', '총콜레스테롤', '트리글리세라이드', 'HDL콜레스테롤', 'LDL콜레스테롤', '혈색소',\n",
    "       '혈청크레아티닌', '(혈청지오티)AST', '(혈청지오티)ALT', '감마지티피']\n",
    "\n",
    "\n",
    "scaler = StandardScaler()\n",
    "scaler.fit(df_female[Scalar_Index])\n",
    "df_female[Scalar_Index] = scaler.transform(df_female[Scalar_Index])"
   ],
   "metadata": {
    "collapsed": false,
    "pycharm": {
     "name": "#%%\n"
    }
   }
  },
  {
   "cell_type": "code",
   "execution_count": 5,
   "outputs": [],
   "source": [
    "data = pd.concat([df_male,df_female],axis=0)\n",
    "data[['연령대코드(5세단위)','청력(좌)','청력(우)','요단백','실명(좌)','실명(우)','음주여부','흡연상태','구강검진수검여부']] \\\n",
    "    = data[['연령대코드(5세단위)','청력(좌)','청력(우)','요단백','실명(좌)','실명(우)','음주여부','흡연상태','구강검진수검여부']].astype('category')\n"
   ],
   "metadata": {
    "collapsed": false,
    "pycharm": {
     "name": "#%%\n"
    }
   }
  },
  {
   "cell_type": "code",
   "execution_count": 6,
   "outputs": [
    {
     "data": {
      "text/plain": "Index(['가입자일련번호', '성별코드', '연령대코드(5세단위)', '시도코드', '신장(5Cm단위)', '체중(5Kg단위)',\n       '허리둘레', '시력(좌)', '시력(우)', '청력(좌)', '청력(우)', '수축기혈압', '이완기혈압',\n       '식전혈당(공복혈당)', '총콜레스테롤', '트리글리세라이드', 'HDL콜레스테롤', 'LDL콜레스테롤', '혈색소',\n       '요단백', '혈청크레아티닌', '(혈청지오티)AST', '(혈청지오티)ALT', '감마지티피', '흡연상태', '음주여부',\n       '구강검진수검여부', '실명(좌)', '실명(우)'],\n      dtype='object')"
     },
     "execution_count": 6,
     "metadata": {},
     "output_type": "execute_result"
    }
   ],
   "source": [
    "data.columns"
   ],
   "metadata": {
    "collapsed": false,
    "pycharm": {
     "name": "#%%\n"
    }
   }
  },
  {
   "cell_type": "code",
   "execution_count": 7,
   "outputs": [
    {
     "name": "stdout",
     "output_type": "stream",
     "text": [
      "<class 'pandas.core.frame.DataFrame'>\n",
      "Int64Index: 159023 entries, 3 to 794471\n",
      "Data columns (total 1 columns):\n",
      " #   Column       Non-Null Count   Dtype   \n",
      "---  ------       --------------   -----   \n",
      " 0   연령대코드(5세단위)  159023 non-null  category\n",
      "dtypes: category(1)\n",
      "memory usage: 1.4 MB\n"
     ]
    }
   ],
   "source": [
    "\n",
    "train_data = data[data['가입자일련번호']%5 != 0]\n",
    "test_data = data[data['가입자일련번호']%5 == 0]\n",
    "\n",
    "# Traindataa\n",
    "\n",
    "X_train =  train_data[[ '신장(5Cm단위)', '체중(5Kg단위)',\n",
    "       '허리둘레', '시력(좌)', '시력(우)', '청력(좌)', '청력(우)', '수축기혈압', '이완기혈압',\n",
    "       '식전혈당(공복혈당)', '총콜레스테롤', '트리글리세라이드', 'HDL콜레스테롤', 'LDL콜레스테롤', '혈색소',\n",
    "       '요단백', '혈청크레아티닌', '(혈청지오티)AST', '(혈청지오티)ALT', '감마지티피', '흡연상태', '음주여부',\n",
    "       '구강검진수검여부', '실명(좌)', '실명(우)']]\n",
    "\n",
    "y_train = train_data[['연령대코드(5세단위)']]\n",
    "\n",
    "#test_data\n",
    "X_test =  test_data[[ '신장(5Cm단위)', '체중(5Kg단위)',\n",
    "       '허리둘레', '시력(좌)', '시력(우)', '청력(좌)', '청력(우)', '수축기혈압', '이완기혈압',\n",
    "       '식전혈당(공복혈당)', '총콜레스테롤', '트리글리세라이드', 'HDL콜레스테롤', 'LDL콜레스테롤', '혈색소',\n",
    "       '요단백', '혈청크레아티닌', '(혈청지오티)AST', '(혈청지오티)ALT', '감마지티피', '흡연상태', '음주여부',\n",
    "       '구강검진수검여부', '실명(좌)', '실명(우)']]\n",
    "\n",
    "y_test = test_data[['연령대코드(5세단위)']]\n",
    "\n",
    "\n",
    "y_test.info()"
   ],
   "metadata": {
    "collapsed": false,
    "pycharm": {
     "name": "#%%\n"
    }
   }
  },
  {
   "cell_type": "code",
   "execution_count": 8,
   "outputs": [
    {
     "name": "stdout",
     "output_type": "stream",
     "text": [
      "Feature ranking:\n",
      "1. feature 허리둘레 (0.066)\n",
      "2. feature 트리글리세라이드 (0.065)\n",
      "3. feature 혈색소 (0.064)\n",
      "4. feature 식전혈당(공복혈당) (0.063)\n",
      "5. feature LDL콜레스테롤 (0.063)\n",
      "6. feature 총콜레스테롤 (0.062)\n",
      "7. feature 수축기혈압 (0.062)\n",
      "8. feature HDL콜레스테롤 (0.059)\n",
      "9. feature (혈청지오티)AST (0.058)\n",
      "10. feature (혈청지오티)ALT (0.057)\n",
      "11. feature 감마지티피 (0.057)\n",
      "12. feature 이완기혈압 (0.055)\n",
      "13. feature 신장(5Cm단위) (0.050)\n",
      "14. feature 시력(좌) (0.046)\n",
      "15. feature 시력(우) (0.046)\n",
      "16. feature 혈청크레아티닌 (0.040)\n",
      "17. feature 체중(5Kg단위) (0.040)\n",
      "18. feature 흡연상태 (0.014)\n",
      "19. feature 음주여부 (0.012)\n",
      "20. feature 구강검진수검여부 (0.012)\n",
      "21. feature 요단백 (0.005)\n",
      "22. feature 청력(좌) (0.003)\n",
      "23. feature 청력(우) (0.003)\n",
      "24. feature 실명(우) (0.000)\n",
      "25. feature 실명(좌) (0.000)\n"
     ]
    },
    {
     "data": {
      "text/plain": "<Figure size 432x288 with 1 Axes>",
      "image/png": "[encoded data removed]"
     },
     "metadata": {
      "needs_background": "light"
     },
     "output_type": "display_data"
    }
   ],
   "source": [
    "from sklearn.ensemble import RandomForestClassifier\n",
    "model = RandomForestClassifier()\n",
    "model.fit(X = X_train, y = y_train)\n",
    "y_pred = model.predict(X_test)\n",
    "\n",
    "importances = model.feature_importances_\n",
    "std = np.std([tree.feature_importances_ for tree in model.estimators_], axis=0)\n",
    "indices = np.argsort(importances)[::-1]\n",
    "print(\"Feature ranking:\")\n",
    "\n",
    "for f in range(X_train.shape[1]):\n",
    "    print(\"{}. feature {} ({:.3f})\".format(f + 1, X_train.columns[indices][f], importances[indices[f]]))\n",
    "\n",
    "# Plot the impurity-based feature importances of the forest\n",
    "plt.figure()\n",
    "plt.title(\"Feature importances\")\n",
    "plt.bar(range(X_train.shape[1]), importances[indices],\n",
    "        color=\"r\", yerr=std[indices], align=\"center\")\n",
    "plt.xticks(range(X_train.shape[1]), X_train.columns[indices], rotation=45)\n",
    "plt.xlim([-1, X_train.shape[1]])\n",
    "plt.show()"
   ],
   "metadata": {
    "collapsed": false,
    "pycharm": {
     "name": "#%%\n"
    }
   }
  },
  {
   "cell_type": "code",
   "execution_count": 9,
   "outputs": [],
   "source": [
    "y_true = y_test\n",
    "y_true = pd.DataFrame(y_true)\n",
    "y_pred = pd.DataFrame(y_pred)\n",
    "y_true.reset_index(inplace = True)"
   ],
   "metadata": {
    "collapsed": false,
    "pycharm": {
     "name": "#%%\n"
    }
   }
  },
  {
   "cell_type": "code",
   "execution_count": 10,
   "outputs": [
    {
     "data": {
      "text/plain": "         index true  pred\n0            3   50    50\n1           16   60    50\n2           30   30    40\n3           47   40    30\n4           66   50    50\n...        ...  ...   ...\n159018  794451   50    50\n159019  794458   50    40\n159020  794462   50    60\n159021  794466   60    50\n159022  794471   50    50\n\n[159023 rows x 3 columns]",
      "text/html": "<div>\n<style scoped>\n    .dataframe tbody tr th:only-of-type {\n        vertical-align: middle;\n    }\n\n    .dataframe tbody tr th {\n        vertical-align: top;\n    }\n\n    .dataframe thead th {\n        text-align: right;\n    }\n</style>\n<table border=\"1\" class=\"dataframe\">\n  <thead>\n    <tr style=\"text-align: right;\">\n      <th></th>\n      <th>index</th>\n      <th>true</th>\n      <th>pred</th>\n    </tr>\n  </thead>\n  <tbody>\n    <tr>\n      <th>0</th>\n      <td>3</td>\n      <td>50</td>\n      <td>50</td>\n    </tr>\n    <tr>\n      <th>1</th>\n      <td>16</td>\n      <td>60</td>\n      <td>50</td>\n    </tr>\n    <tr>\n      <th>2</th>\n      <td>30</td>\n      <td>30</td>\n      <td>40</td>\n    </tr>\n    <tr>\n      <th>3</th>\n      <td>47</td>\n      <td>40</td>\n      <td>30</td>\n    </tr>\n    <tr>\n      <th>4</th>\n      <td>66</td>\n      <td>50</td>\n      <td>50</td>\n    </tr>\n    <tr>\n      <th>...</th>\n      <td>...</td>\n      <td>...</td>\n      <td>...</td>\n    </tr>\n    <tr>\n      <th>159018</th>\n      <td>794451</td>\n      <td>50</td>\n      <td>50</td>\n    </tr>\n    <tr>\n      <th>159019</th>\n      <td>794458</td>\n      <td>50</td>\n      <td>40</td>\n    </tr>\n    <tr>\n      <th>159020</th>\n      <td>794462</td>\n      <td>50</td>\n      <td>60</td>\n    </tr>\n    <tr>\n      <th>159021</th>\n      <td>794466</td>\n      <td>60</td>\n      <td>50</td>\n    </tr>\n    <tr>\n      <th>159022</th>\n      <td>794471</td>\n      <td>50</td>\n      <td>50</td>\n    </tr>\n  </tbody>\n</table>\n<p>159023 rows × 3 columns</p>\n</div>"
     },
     "execution_count": 10,
     "metadata": {},
     "output_type": "execute_result"
    }
   ],
   "source": [
    "result = pd.concat([y_true,y_pred],axis=1)\n",
    "result.columns = ['index','true','pred']\n",
    "result"
   ],
   "metadata": {
    "collapsed": false,
    "pycharm": {
     "name": "#%%\n"
    }
   }
  },
  {
   "cell_type": "code",
   "execution_count": 11,
   "outputs": [
    {
     "name": "stdout",
     "output_type": "stream",
     "text": [
      "정확도 : 0.4109\n"
     ]
    }
   ],
   "source": [
    "age_result = result[['true','pred']]\n",
    "from sklearn.metrics import accuracy_score\n",
    "print('정확도 :', round(accuracy_score(result['true'],result['pred']),4))"
   ],
   "metadata": {
    "collapsed": false,
    "pycharm": {
     "name": "#%%\n"
    }
   }
  },
  {
   "cell_type": "code",
   "execution_count": 12,
   "outputs": [
    {
     "data": {
      "text/plain": "Text(0.5, 1.0, '20')"
     },
     "execution_count": 12,
     "metadata": {},
     "output_type": "execute_result"
    },
    {
     "data": {
      "text/plain": "<Figure size 432x288 with 1 Axes>",
      "image/png": "[encoded data removed]"
     },
     "metadata": {
      "needs_background": "light"
     },
     "output_type": "display_data"
    }
   ],
   "source": [
    "result_20 = result.loc[result['true']==20]\n",
    "result_20['pred'].value_counts().plot(kind = 'bar')\n",
    "plt.title(20)"
   ],
   "metadata": {
    "collapsed": false,
    "pycharm": {
     "name": "#%%\n"
    }
   }
  },
  {
   "cell_type": "code",
   "execution_count": 13,
   "outputs": [
    {
     "data": {
      "text/plain": "Text(0.5, 1.0, '30')"
     },
     "execution_count": 13,
     "metadata": {},
     "output_type": "execute_result"
    },
    {
     "data": {
      "text/plain": "<Figure size 432x288 with 1 Axes>",
      "image/png": "[encoded data removed]"
     },
     "metadata": {
      "needs_background": "light"
     },
     "output_type": "display_data"
    }
   ],
   "source": [
    "result_30 = result.loc[result['true']==30]\n",
    "result_30['pred'].value_counts().plot(kind = 'bar')\n",
    "plt.title(30)"
   ],
   "metadata": {
    "collapsed": false,
    "pycharm": {
     "name": "#%%\n"
    }
   }
  },
  {
   "cell_type": "code",
   "execution_count": 14,
   "outputs": [
    {
     "data": {
      "text/plain": "Text(0.5, 1.0, '40')"
     },
     "execution_count": 14,
     "metadata": {},
     "output_type": "execute_result"
    },
    {
     "data": {
      "text/plain": "<Figure size 432x288 with 1 Axes>",
      "image/png": "[encoded data removed]"
     },
     "metadata": {
      "needs_background": "light"
     },
     "output_type": "display_data"
    }
   ],
   "source": [
    "result_40 = result.loc[result['true']==40]\n",
    "result_40['pred'].value_counts().plot(kind = 'bar')\n",
    "plt.title(40)"
   ],
   "metadata": {
    "collapsed": false,
    "pycharm": {
     "name": "#%%\n"
    }
   }
  },
  {
   "cell_type": "code",
   "execution_count": 15,
   "outputs": [
    {
     "data": {
      "text/plain": "Text(0.5, 1.0, '50')"
     },
     "execution_count": 15,
     "metadata": {},
     "output_type": "execute_result"
    },
    {
     "data": {
      "text/plain": "<Figure size 432x288 with 1 Axes>",
      "image/png": "[encoded data removed]"
     },
     "metadata": {
      "needs_background": "light"
     },
     "output_type": "display_data"
    }
   ],
   "source": [
    "result_50 = result.loc[result['true']==50]\n",
    "result_50['pred'].value_counts().plot(kind = 'bar')\n",
    "plt.title(50)"
   ],
   "metadata": {
    "collapsed": false,
    "pycharm": {
     "name": "#%%\n"
    }
   }
  },
  {
   "cell_type": "code",
   "execution_count": 16,
   "outputs": [
    {
     "data": {
      "text/plain": "Text(0.5, 1.0, '60')"
     },
     "execution_count": 16,
     "metadata": {},
     "output_type": "execute_result"
    },
    {
     "data": {
      "text/plain": "<Figure size 432x288 with 1 Axes>",
      "image/png": "[encoded data removed]"
     },
     "metadata": {
      "needs_background": "light"
     },
     "output_type": "display_data"
    }
   ],
   "source": [
    "result_60 = result.loc[result['true']==60]\n",
    "result_60['pred'].value_counts().plot(kind = 'bar')\n",
    "plt.title(60)"
   ],
   "metadata": {
    "collapsed": false,
    "pycharm": {
     "name": "#%%\n"
    }
   }
  },
  {
   "cell_type": "code",
   "execution_count": 17,
   "outputs": [
    {
     "data": {
      "text/plain": "Text(0.5, 1.0, '70')"
     },
     "execution_count": 17,
     "metadata": {},
     "output_type": "execute_result"
    },
    {
     "data": {
      "text/plain": "<Figure size 432x288 with 1 Axes>",
      "image/png": "[encoded data removed]"
     },
     "metadata": {
      "needs_background": "light"
     },
     "output_type": "display_data"
    }
   ],
   "source": [
    "result_70 = result.loc[result['true']==70]\n",
    "result_70['pred'].value_counts().plot(kind = 'bar')\n",
    "plt.title(70)"
   ],
   "metadata": {
    "collapsed": false,
    "pycharm": {
     "name": "#%%\n"
    }
   }
  },
  {
   "cell_type": "code",
   "execution_count": 18,
   "outputs": [
    {
     "data": {
      "text/plain": "Text(0.5, 1.0, '80')"
     },
     "execution_count": 18,
     "metadata": {},
     "output_type": "execute_result"
    },
    {
     "data": {
      "text/plain": "<Figure size 432x288 with 1 Axes>",
      "image/png": "[encoded data removed]"
     },
     "metadata": {
      "needs_background": "light"
     },
     "output_type": "display_data"
    }
   ],
   "source": [
    "result_80 = result.loc[result['true']==80]\n",
    "result_80['pred'].value_counts().plot(kind = 'bar')\n",
    "plt.title(80)"
   ],
   "metadata": {
    "collapsed": false,
    "pycharm": {
     "name": "#%%\n"
    }
   }
  },
  {
   "cell_type": "code",
   "execution_count": 19,
   "outputs": [
    {
     "name": "stdout",
     "output_type": "stream",
     "text": [
      "Feature ranking:\n",
      "1. feature 허리둘레 (0.066)\n",
      "2. feature 트리글리세라이드 (0.065)\n",
      "3. feature 혈색소 (0.064)\n",
      "4. feature 식전혈당(공복혈당) (0.063)\n",
      "5. feature LDL콜레스테롤 (0.063)\n",
      "6. feature 총콜레스테롤 (0.062)\n",
      "7. feature 수축기혈압 (0.062)\n",
      "8. feature HDL콜레스테롤 (0.059)\n",
      "9. feature (혈청지오티)AST (0.058)\n",
      "10. feature (혈청지오티)ALT (0.057)\n",
      "11. feature 감마지티피 (0.057)\n",
      "12. feature 이완기혈압 (0.055)\n",
      "13. feature 신장(5Cm단위) (0.050)\n",
      "14. feature 시력(좌) (0.046)\n",
      "15. feature 시력(우) (0.046)\n",
      "16. feature 혈청크레아티닌 (0.040)\n",
      "17. feature 체중(5Kg단위) (0.040)\n",
      "18. feature 흡연상태 (0.014)\n",
      "19. feature 음주여부 (0.012)\n",
      "20. feature 구강검진수검여부 (0.012)\n",
      "21. feature 요단백 (0.005)\n",
      "22. feature 청력(좌) (0.003)\n",
      "23. feature 청력(우) (0.003)\n",
      "24. feature 실명(우) (0.000)\n",
      "25. feature 실명(좌) (0.000)\n"
     ]
    },
    {
     "data": {
      "text/plain": "<Figure size 432x288 with 1 Axes>",
      "image/png": "[encoded data removed]"
     },
     "metadata": {
      "needs_background": "light"
     },
     "output_type": "display_data"
    }
   ],
   "source": [
    "importances = model.feature_importances_\n",
    "std = np.std([tree.feature_importances_ for tree in model.estimators_], axis=0)\n",
    "indices = np.argsort(importances)[::-1]\n",
    "print(\"Feature ranking:\")\n",
    "\n",
    "for f in range(X_train.shape[1]):\n",
    "    print(\"{}. feature {} ({:.3f})\".format(f + 1, X_train.columns[indices][f], importances[indices[f]]))\n",
    "\n",
    "# Plot the impurity-based feature importances of the forest\n",
    "plt.figure()\n",
    "plt.title(\"Feature importances\")\n",
    "plt.bar(range(X_train.shape[1]), importances[indices],\n",
    "        color=\"r\", yerr=std[indices], align=\"center\")\n",
    "plt.xticks(range(X_train.shape[1]), X_train.columns[indices], rotation=45)\n",
    "plt.xlim([-1, X_train.shape[1]])\n",
    "plt.show()"
   ],
   "metadata": {
    "collapsed": false,
    "pycharm": {
     "name": "#%%\n"
    }
   }
  }
 ],
 "metadata": {
  "kernelspec": {
   "display_name": "Python 3",
   "language": "python",
   "name": "python3"
  },
  "language_info": {
   "codemirror_mode": {
    "name": "ipython",
    "version": 2
   },
   "file_extension": ".py",
   "mimetype": "text/x-python",
   "name": "python",
   "nbconvert_exporter": "python",
   "pygments_lexer": "ipython2",
   "version": "2.7.6"
  }
 },
 "nbformat": 4,
 "nbformat_minor": 0
}